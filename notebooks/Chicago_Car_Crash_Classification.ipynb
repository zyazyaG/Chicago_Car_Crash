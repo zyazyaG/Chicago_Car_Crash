{
 "cells": [
  {
   "cell_type": "markdown",
   "metadata": {},
   "source": [
    "# Primary Cause for Car Crashes in Chicago\n",
    "**Author:** Aziza Gulyamova\n",
    "***\n"
   ]
  },
  {
   "cell_type": "markdown",
   "metadata": {},
   "source": [
    "## Overview\n",
    "Improving traffic safety is a major concern for any metropolitan city. The main approach to prevent the incidents and traffic crashes is to be able to predict this kind of situations and be ready to take action.\n",
    "\n",
    "My goal for this project is to build a classification model that will be able to analyze the primary causes for car crashes. Being able to design a model that can accurately predict what kind of behavior did the crash had will allow the city to effectively act against it. If we know the cause for an incident, a city can then plan appropriately as to what measures should be taken to prevent them from happening again. In this project, I will be looking at car crash data from the city of Chicago.\n",
    "***\n"
   ]
  },
  {
   "cell_type": "markdown",
   "metadata": {},
   "source": [
    "## Data\n",
    "The Traffic Crashes and Traffic Crashes - People data comes from the Chicago Data Portal, an open data source maintained by the city of Chicago. The datasets contain all traffic crashes reports going back to 2017. Each crash incident has a unique crash record ID and report number associated with it, which allows for cross-referencing on the dashboards provided for the datasets.\n",
    "\n",
    "The Crashes dataset contains a number of details related to the incident, such as location/time information, conditions of the road and traffic safety device functionality. The most important detail available is the primary contributory cause for the crash.\n",
    "\n",
    "The People dataset contains a details associated with people involvesd in crash, like drivers, passangers and pedastrians. The data provider is mostly related to injuries of the person, personal information and after crash acrtivities.\n",
    "Links to the datasets:\n",
    "\n",
    "Crashes Dataset: https://data.cityofchicago.org/Transportation/Traffic-Crashes-Crashes/85ca-t3if\n",
    "\n",
    "People Dataset: https://data.cityofchicago.org/Transportation/Traffic-Crashes-People/u6pd-qa9d\n",
    "***"
   ]
  },
  {
   "cell_type": "markdown",
   "metadata": {},
   "source": [
    "## Plan of Analysis\n",
    "\n",
    "<details><summary><b>Data Cleaning</b></summary>\n",
    "    <ul>\n",
    "        <li>Import Packages</li>\n",
    "        <li>Upload Dataset</li>\n",
    "        <li>Explore Crashes Dataset</li>\n",
    "        <li>Clean Crashes Dataset</li>\n",
    "        <li>Explore People Dataset</li>\n",
    "        <li>Clean People Dataset</li>\n",
    "        <li>Merge Datasets</li>\n",
    "        <li>Clean Merged Dataset</li>\n",
    "    </ul>\n",
    "</details>     \n",
    "<details><summary><b>Exploration Analysis</b></summary>\n",
    "    <ul>\n",
    "        <li>Descriptive Analysis</li>\n",
    "        <li>Analysis of Data as a Whole</li>\n",
    "        <li>Crashes with No Injury</li>\n",
    "        <li>Crashes with Fatal Injury</li>\n",
    "        <li>Binning of Primary Cause Categories</li>\n",
    "    </ul>\n",
    "</details>     \n",
    "<b>Train Test Split</b>   \n",
    "<details><summary><b>Logistic Regression Classifier</b></summary>\n",
    "    <ul>\n",
    "        <li><b>Model 1: Logistic Regression with All Features</b></li>\n",
    "        <li>Model Evaluation</li>\n",
    "        <li>Grid Search for Best C - Value</li>\n",
    "        <li>Model Summary</li>\n",
    "    </ul>\n",
    "</details>     \n",
    "<details><summary><b>K Nearest Neighbors Classifier</b></summary>\n",
    "    <ul>\n",
    "        <li><b>Model 2: KNN with All Features</b></li>\n",
    "        <li>Model Evaluation</li>\n",
    "        <li>Model Summary</li>\n",
    "    </ul>\n",
    "</details>  \n",
    "<details><summary><b>Decision Tree Classifier</b></summary>\n",
    "    <ul>\n",
    "        <li>Model Evaluation</li>\n",
    "        <li>Model Summary</li>\n",
    "    </ul>\n",
    "</details> \n",
    "\n",
    "<b>Modeling Conclusion</b><br>\n",
    "<b>Evaluation of Final Model</b><br>\n",
    "<b>Recommendations Based on Final Model</b><br>\n",
    "<b>Next Step</b>\n",
    "\n",
    "***\n"
   ]
  },
  {
   "cell_type": "markdown",
   "metadata": {},
   "source": [
    "# Data Cleaning\n",
    "Before proceeding to any analysis and modeling, I will need to upload necessary packages and upload dataset. After that, the data needs to bee explored and cleaned from unnecessary columns and observations.\n"
   ]
  },
  {
   "cell_type": "markdown",
   "metadata": {},
   "source": [
    "## Import Packages"
   ]
  },
  {
   "cell_type": "code",
   "execution_count": 1,
   "metadata": {},
   "outputs": [],
   "source": [
    "import pandas as pd\n",
    "import numpy as np\n",
    "\n",
    "# packages for visualization\n",
    "import seaborn as sns\n",
    "import matplotlib.pyplot as plt\n",
    "%matplotlib inline\n",
    "\n",
    "# packages for transformation\n",
    "from imblearn.over_sampling import SMOTE, SMOTENC\n",
    "from imblearn.pipeline import Pipeline, make_pipeline\n",
    "\n",
    "#packages for preproccesing\n",
    "from sklearn.model_selection import train_test_split, cross_val_score, KFold, GridSearchCV\n",
    "from sklearn.preprocessing import LabelEncoder, OneHotEncoder, StandardScaler\n",
    "from sklearn.compose import ColumnTransformer\n",
    "\n",
    "# packages for metrics and evaluation\n",
    "from sklearn.metrics import confusion_matrix, plot_confusion_matrix, classification_report,\n",
    "mean_squared_error, make_scorer, precision_score, recall_score, accuracy_score, f1_score, roc_curve, auc\n",
    "\n",
    "# packages for classifiers\n",
    "from sklearn.linear_model import LogisticRegression\n",
    "from sklearn.neighbors import KNeighborsClassifier\n",
    "from sklearn.tree import DecisionTreeClassifier\n",
    "from sklearn.ensemble import RandomForestClassifier\n",
    "\n",
    "\n",
    "# Import additional files with statistical functions\n",
    "import sys\n",
    "import os\n",
    "\n",
    "module_path = os.path.abspath(os.path.join('../src'))\n",
    "if module_path not in sys.path:\n",
    "    sys.path.append(module_path)\n",
    "\n",
    "import explore_data as ed\n",
    "import model_functions as mf\n"
   ]
  },
  {
   "cell_type": "markdown",
   "metadata": {},
   "source": [
    "The **ModelHistory** class below will help to **store the information of each model that was built**. I will contain the **name of the model, accuracy scores and additional notes.**"
   ]
  },
  {
   "cell_type": "code",
   "execution_count": 2,
   "metadata": {},
   "outputs": [],
   "source": [
    "class ModelHistory:\n",
    "    \n",
    "    def __init__(self, random_state=2021):\n",
    "        self.scorer = 'accuracy'\n",
    "        self.history = pd.DataFrame(columns=['Name', 'Accuracy_Score', 'Notes'])\n",
    "\n",
    "    def report(self, pipeline, X, y, name, notes='', cv=10,):\n",
    "        kf = KFold(n_splits=cv, random_state=2021, shuffle=True)\n",
    "        scores = cross_val_score(pipeline, X, y, \n",
    "                                 scoring=self.scorer, cv=kf)\n",
    "        self.log_report(name, scores.mean(), notes)\n",
    "        print('Average Score:', scores.mean())\n",
    "        return scores\n",
    "    \n",
    "    def log_report(self, name, av_score, notes):\n",
    "        frame = pd.DataFrame([[name, av_score, notes]], columns=['Name', 'Accuracy_Score', 'Notes'])\n",
    "        self.history = self.history.append(frame)\n",
    "        self.history = self.history.reset_index(drop=True)\n",
    "        self.history = self.history.sort_values('Accuracy_Score')\n",
    "\n",
    "    def print_error(self, name, error):\n",
    "        print('{} has an average error of ${:.2f}'.format(name, error))"
   ]
  },
  {
   "cell_type": "markdown",
   "metadata": {},
   "source": [
    "## Upload Datasets"
   ]
  },
  {
   "cell_type": "markdown",
   "metadata": {},
   "source": [
    "First, I upload Datasets into following variables:\n",
    "\n",
    "- **crashes:** Traffic Crashes - Crashes\n",
    "- **people:** Traffic Crashes. - People\n",
    "\n",
    "\n",
    "**\\* All Datasets are uploaded as string variables in order to keep leading zeros**"
   ]
  },
  {
   "cell_type": "code",
   "execution_count": 3,
   "metadata": {},
   "outputs": [],
   "source": [
    "crashes = pd.read_csv(\"../data/Traffic_Crashes_-_Crashes.csv\", dtype=str)\n",
    "people = pd.read_csv(\"../data/Traffic_Crashes_-_People.csv\", dtype=str)\n",
    "states = pd.read_csv(\"../data/state_abbrev.csv\", dtype=str) # file that stores list of state abbreviations"
   ]
  },
  {
   "cell_type": "markdown",
   "metadata": {},
   "source": [
    "## Explore Crashes Dataset"
   ]
  },
  {
   "cell_type": "markdown",
   "metadata": {},
   "source": [
    "Now, explore Crashes Data and check following information:\n",
    "* What columns do we have in each of the datasets\n",
    "* Are there any missing values in tables\n",
    "* Are there duplicates in data"
   ]
  },
  {
   "cell_type": "code",
   "execution_count": 4,
   "metadata": {},
   "outputs": [
    {
     "name": "stdout",
     "output_type": "stream",
     "text": [
      "Lenght of Dataset: 496205\n",
      "                               missing_values_% Data_type\n",
      "CRASH_RECORD_ID                        0.000000    object\n",
      "RD_NO                                  0.719259    object\n",
      "CRASH_DATE_EST_I                      92.480930    object\n",
      "CRASH_DATE                             0.000000    object\n",
      "POSTED_SPEED_LIMIT                     0.000000    object\n",
      "TRAFFIC_CONTROL_DEVICE                 0.000000    object\n",
      "DEVICE_CONDITION                       0.000000    object\n",
      "WEATHER_CONDITION                      0.000000    object\n",
      "LIGHTING_CONDITION                     0.000000    object\n",
      "FIRST_CRASH_TYPE                       0.000000    object\n",
      "TRAFFICWAY_TYPE                        0.000000    object\n",
      "LANE_CNT                              59.902661    object\n",
      "ALIGNMENT                              0.000000    object\n",
      "ROADWAY_SURFACE_COND                   0.000000    object\n",
      "ROAD_DEFECT                            0.000000    object\n",
      "REPORT_TYPE                            2.448182    object\n",
      "CRASH_TYPE                             0.000000    object\n",
      "INTERSECTION_RELATED_I                77.427676    object\n",
      "NOT_RIGHT_OF_WAY_I                    95.279572    object\n",
      "HIT_AND_RUN_I                         70.402354    object\n",
      "DAMAGE                                 0.000000    object\n",
      "DATE_POLICE_NOTIFIED                   0.000000    object\n",
      "PRIM_CONTRIBUTORY_CAUSE                0.000000    object\n",
      "SEC_CONTRIBUTORY_CAUSE                 0.000000    object\n",
      "STREET_NO                              0.000000    object\n",
      "STREET_DIRECTION                       0.000605    object\n",
      "STREET_NAME                            0.000202    object\n",
      "BEAT_OF_OCCURRENCE                     0.001008    object\n",
      "PHOTOS_TAKEN_I                        98.746284    object\n",
      "STATEMENTS_TAKEN_I                    97.978860    object\n",
      "DOORING_I                             99.682389    object\n",
      "WORK_ZONE_I                           99.359740    object\n",
      "WORK_ZONE_TYPE                        99.495168    object\n",
      "WORKERS_PRESENT_I                     99.845628    object\n",
      "NUM_UNITS                              0.000000    object\n",
      "MOST_SEVERE_INJURY                     0.204149    object\n",
      "INJURIES_TOTAL                         0.201933    object\n",
      "INJURIES_FATAL                         0.201933    object\n",
      "INJURIES_INCAPACITATING                0.201933    object\n",
      "INJURIES_NON_INCAPACITATING            0.201933    object\n",
      "INJURIES_REPORTED_NOT_EVIDENT          0.201933    object\n",
      "INJURIES_NO_INDICATION                 0.201933    object\n",
      "INJURIES_UNKNOWN                       0.201933    object\n",
      "CRASH_HOUR                             0.000000    object\n",
      "CRASH_DAY_OF_WEEK                      0.000000    object\n",
      "CRASH_MONTH                            0.000000    object\n",
      "LATITUDE                               0.558035    object\n",
      "LONGITUDE                              0.558035    object\n",
      "LOCATION                               0.558035    object\n"
     ]
    }
   ],
   "source": [
    "ed.show_info(crashes)"
   ]
  },
  {
   "cell_type": "markdown",
   "metadata": {},
   "source": [
    "Check for **duplicated values** in the **CRASH_RECORD_ID** column, since it's a column with **unique ID** numbers per observation."
   ]
  },
  {
   "cell_type": "code",
   "execution_count": 5,
   "metadata": {},
   "outputs": [
    {
     "data": {
      "text/plain": [
       "0"
      ]
     },
     "execution_count": 5,
     "metadata": {},
     "output_type": "execute_result"
    }
   ],
   "source": [
    "crashes.CRASH_RECORD_ID.duplicated().sum()"
   ]
  },
  {
   "cell_type": "markdown",
   "metadata": {},
   "source": [
    "### Investigate Columns with more than 50% Missing Values in Crashes Dataset"
   ]
  },
  {
   "cell_type": "markdown",
   "metadata": {},
   "source": [
    "As it seems, the **crashes datase**t have mostly missing values for **columns with \"_I\"** ending. I will first looks through what values those columns have and **drop them if necessary**.\n",
    "\n"
   ]
  },
  {
   "cell_type": "code",
   "execution_count": 6,
   "metadata": {},
   "outputs": [
    {
     "name": "stdout",
     "output_type": "stream",
     "text": [
      "Y    32428\n",
      "N     4882\n",
      "Name: CRASH_DATE_EST_I, dtype: int64\n",
      "\n",
      "\n",
      "Y    106712\n",
      "N      5293\n",
      "Name: INTERSECTION_RELATED_I, dtype: int64\n",
      "\n",
      "\n",
      "Y    21367\n",
      "N     2056\n",
      "Name: NOT_RIGHT_OF_WAY_I, dtype: int64\n",
      "\n",
      "\n",
      "Y    140483\n",
      "N      6382\n",
      "Name: HIT_AND_RUN_I, dtype: int64\n",
      "\n",
      "\n",
      "Y    4830\n",
      "N    1391\n",
      "Name: PHOTOS_TAKEN_I, dtype: int64\n",
      "\n",
      "\n",
      "Y    8154\n",
      "N    1875\n",
      "Name: STATEMENTS_TAKEN_I, dtype: int64\n",
      "\n",
      "\n",
      "Y    1072\n",
      "N     504\n",
      "Name: DOORING_I, dtype: int64\n",
      "\n",
      "\n",
      "Y    2505\n",
      "N     672\n",
      "Name: WORK_ZONE_I, dtype: int64\n",
      "\n",
      "\n",
      "CONSTRUCTION    1770\n",
      "UNKNOWN          330\n",
      "MAINTENANCE      249\n",
      "UTILITY          156\n",
      "Name: WORK_ZONE_TYPE, dtype: int64\n",
      "\n",
      "\n",
      "Y    687\n",
      "N     79\n",
      "Name: WORKERS_PRESENT_I, dtype: int64\n",
      "\n",
      "\n"
     ]
    }
   ],
   "source": [
    "# The \"missing_values\" function returns list of column names with missing values in a given range\n",
    "crashes_m_vals = ed.missing_values(crashes, 60, 100)\n",
    "# The \"values\" function prints out the value_counts for the list of columns passed\n",
    "ed.values(crashes, crashes_m_vals)"
   ]
  },
  {
   "cell_type": "markdown",
   "metadata": {},
   "source": [
    "**Result:** Most of the columns appears to **have \"YES\" and \"NO\" values**. Considering that the dataset is **missing substantial amount of observations** for this columns, I will be **dropping them from the dataset.**"
   ]
  },
  {
   "cell_type": "markdown",
   "metadata": {},
   "source": [
    "I will take a look to **\"LANE_CNT\" column**, since it is **missing almost 60% of values**"
   ]
  },
  {
   "cell_type": "code",
   "execution_count": 7,
   "metadata": {},
   "outputs": [
    {
     "data": {
      "text/plain": [
       "2          0.458050\n",
       "4          0.249174\n",
       "1          0.163566\n",
       "3          0.043586\n",
       "0          0.040354\n",
       "6          0.022617\n",
       "5          0.009745\n",
       "8          0.009585\n",
       "7          0.000925\n",
       "10         0.000814\n",
       "99         0.000543\n",
       "9          0.000332\n",
       "11         0.000151\n",
       "12         0.000146\n",
       "20         0.000075\n",
       "22         0.000065\n",
       "16         0.000035\n",
       "15         0.000035\n",
       "14         0.000025\n",
       "30         0.000025\n",
       "40         0.000020\n",
       "60         0.000015\n",
       "21         0.000015\n",
       "100        0.000010\n",
       "25         0.000010\n",
       "400        0.000005\n",
       "17         0.000005\n",
       "44         0.000005\n",
       "28         0.000005\n",
       "13         0.000005\n",
       "45         0.000005\n",
       "299679     0.000005\n",
       "35         0.000005\n",
       "19         0.000005\n",
       "1191625    0.000005\n",
       "218474     0.000005\n",
       "24         0.000005\n",
       "902        0.000005\n",
       "433634     0.000005\n",
       "80         0.000005\n",
       "41         0.000005\n",
       "Name: LANE_CNT, dtype: float64"
      ]
     },
     "execution_count": 7,
     "metadata": {},
     "output_type": "execute_result"
    }
   ],
   "source": [
    "crashes['LANE_CNT'].value_counts(normalize = True)"
   ]
  },
  {
   "cell_type": "markdown",
   "metadata": {},
   "source": [
    "**Result:** Considering that **\"LANE_CNT\" column represents the count of throught lines** according to dataset description, some of the values shown above are **misleading and unrelatable**, thus I will be **dropping this column.**"
   ]
  },
  {
   "cell_type": "markdown",
   "metadata": {},
   "source": [
    "## Clean Crashes Dataset"
   ]
  },
  {
   "cell_type": "markdown",
   "metadata": {},
   "source": [
    "I will drop columns stated above from Crash dataset"
   ]
  },
  {
   "cell_type": "code",
   "execution_count": 8,
   "metadata": {},
   "outputs": [
    {
     "name": "stdout",
     "output_type": "stream",
     "text": [
      "Lenght of Dataset: 496205\n",
      "                               missing_values_% Data_type\n",
      "CRASH_RECORD_ID                        0.000000    object\n",
      "RD_NO                                  0.719259    object\n",
      "CRASH_DATE                             0.000000    object\n",
      "POSTED_SPEED_LIMIT                     0.000000    object\n",
      "TRAFFIC_CONTROL_DEVICE                 0.000000    object\n",
      "DEVICE_CONDITION                       0.000000    object\n",
      "WEATHER_CONDITION                      0.000000    object\n",
      "LIGHTING_CONDITION                     0.000000    object\n",
      "FIRST_CRASH_TYPE                       0.000000    object\n",
      "TRAFFICWAY_TYPE                        0.000000    object\n",
      "ALIGNMENT                              0.000000    object\n",
      "ROADWAY_SURFACE_COND                   0.000000    object\n",
      "ROAD_DEFECT                            0.000000    object\n",
      "REPORT_TYPE                            2.448182    object\n",
      "CRASH_TYPE                             0.000000    object\n",
      "DAMAGE                                 0.000000    object\n",
      "DATE_POLICE_NOTIFIED                   0.000000    object\n",
      "PRIM_CONTRIBUTORY_CAUSE                0.000000    object\n",
      "SEC_CONTRIBUTORY_CAUSE                 0.000000    object\n",
      "STREET_NO                              0.000000    object\n",
      "STREET_DIRECTION                       0.000605    object\n",
      "STREET_NAME                            0.000202    object\n",
      "BEAT_OF_OCCURRENCE                     0.001008    object\n",
      "NUM_UNITS                              0.000000    object\n",
      "MOST_SEVERE_INJURY                     0.204149    object\n",
      "INJURIES_TOTAL                         0.201933    object\n",
      "INJURIES_FATAL                         0.201933    object\n",
      "INJURIES_INCAPACITATING                0.201933    object\n",
      "INJURIES_NON_INCAPACITATING            0.201933    object\n",
      "INJURIES_REPORTED_NOT_EVIDENT          0.201933    object\n",
      "INJURIES_NO_INDICATION                 0.201933    object\n",
      "INJURIES_UNKNOWN                       0.201933    object\n",
      "CRASH_HOUR                             0.000000    object\n",
      "CRASH_DAY_OF_WEEK                      0.000000    object\n",
      "CRASH_MONTH                            0.000000    object\n",
      "LATITUDE                               0.558035    object\n",
      "LONGITUDE                              0.558035    object\n",
      "LOCATION                               0.558035    object\n"
     ]
    }
   ],
   "source": [
    "crashes_drop_cols = ed.missing_values(crashes, 50, 100)\n",
    "crashes.drop(columns = crashes_drop_cols,axis = 1, inplace = True)\n",
    "ed.show_info(crashes)"
   ]
  },
  {
   "cell_type": "markdown",
   "metadata": {},
   "source": [
    "### Drop Observations\n",
    "\n",
    "Since, some if the columns still have a small amount of missing values, I will drop those observations."
   ]
  },
  {
   "cell_type": "code",
   "execution_count": 9,
   "metadata": {},
   "outputs": [
    {
     "name": "stdout",
     "output_type": "stream",
     "text": [
      "Lenght of Dataset: 476858\n",
      "                               missing_values_% Data_type\n",
      "CRASH_RECORD_ID                             0.0    object\n",
      "RD_NO                                       0.0    object\n",
      "CRASH_DATE                                  0.0    object\n",
      "POSTED_SPEED_LIMIT                          0.0    object\n",
      "TRAFFIC_CONTROL_DEVICE                      0.0    object\n",
      "DEVICE_CONDITION                            0.0    object\n",
      "WEATHER_CONDITION                           0.0    object\n",
      "LIGHTING_CONDITION                          0.0    object\n",
      "FIRST_CRASH_TYPE                            0.0    object\n",
      "TRAFFICWAY_TYPE                             0.0    object\n",
      "ALIGNMENT                                   0.0    object\n",
      "ROADWAY_SURFACE_COND                        0.0    object\n",
      "ROAD_DEFECT                                 0.0    object\n",
      "REPORT_TYPE                                 0.0    object\n",
      "CRASH_TYPE                                  0.0    object\n",
      "DAMAGE                                      0.0    object\n",
      "DATE_POLICE_NOTIFIED                        0.0    object\n",
      "PRIM_CONTRIBUTORY_CAUSE                     0.0    object\n",
      "SEC_CONTRIBUTORY_CAUSE                      0.0    object\n",
      "STREET_NO                                   0.0    object\n",
      "STREET_DIRECTION                            0.0    object\n",
      "STREET_NAME                                 0.0    object\n",
      "BEAT_OF_OCCURRENCE                          0.0    object\n",
      "NUM_UNITS                                   0.0    object\n",
      "MOST_SEVERE_INJURY                          0.0    object\n",
      "INJURIES_TOTAL                              0.0    object\n",
      "INJURIES_FATAL                              0.0    object\n",
      "INJURIES_INCAPACITATING                     0.0    object\n",
      "INJURIES_NON_INCAPACITATING                 0.0    object\n",
      "INJURIES_REPORTED_NOT_EVIDENT               0.0    object\n",
      "INJURIES_NO_INDICATION                      0.0    object\n",
      "INJURIES_UNKNOWN                            0.0    object\n",
      "CRASH_HOUR                                  0.0    object\n",
      "CRASH_DAY_OF_WEEK                           0.0    object\n",
      "CRASH_MONTH                                 0.0    object\n",
      "LATITUDE                                    0.0    object\n",
      "LONGITUDE                                   0.0    object\n",
      "LOCATION                                    0.0    object\n"
     ]
    }
   ],
   "source": [
    "crashes.dropna(inplace = True)\n",
    "ed.show_info(crashes)"
   ]
  },
  {
   "cell_type": "markdown",
   "metadata": {},
   "source": [
    "### Convert to Numeric\n",
    "\n",
    "Now, I will **convert columns** that suppose to be numeric **to int variables**"
   ]
  },
  {
   "cell_type": "code",
   "execution_count": 10,
   "metadata": {},
   "outputs": [
    {
     "name": "stdout",
     "output_type": "stream",
     "text": [
      "Lenght of Dataset: 476858\n",
      "                               missing_values_% Data_type\n",
      "CRASH_RECORD_ID                             0.0    object\n",
      "RD_NO                                       0.0    object\n",
      "CRASH_DATE                                  0.0    object\n",
      "POSTED_SPEED_LIMIT                          0.0     int64\n",
      "TRAFFIC_CONTROL_DEVICE                      0.0    object\n",
      "DEVICE_CONDITION                            0.0    object\n",
      "WEATHER_CONDITION                           0.0    object\n",
      "LIGHTING_CONDITION                          0.0    object\n",
      "FIRST_CRASH_TYPE                            0.0    object\n",
      "TRAFFICWAY_TYPE                             0.0    object\n",
      "ALIGNMENT                                   0.0    object\n",
      "ROADWAY_SURFACE_COND                        0.0    object\n",
      "ROAD_DEFECT                                 0.0    object\n",
      "REPORT_TYPE                                 0.0    object\n",
      "CRASH_TYPE                                  0.0    object\n",
      "DAMAGE                                      0.0    object\n",
      "DATE_POLICE_NOTIFIED                        0.0    object\n",
      "PRIM_CONTRIBUTORY_CAUSE                     0.0    object\n",
      "SEC_CONTRIBUTORY_CAUSE                      0.0    object\n",
      "STREET_NO                                   0.0     int64\n",
      "STREET_DIRECTION                            0.0    object\n",
      "STREET_NAME                                 0.0    object\n",
      "BEAT_OF_OCCURRENCE                          0.0     int64\n",
      "NUM_UNITS                                   0.0     int64\n",
      "MOST_SEVERE_INJURY                          0.0    object\n",
      "INJURIES_TOTAL                              0.0     int64\n",
      "INJURIES_FATAL                              0.0     int64\n",
      "INJURIES_INCAPACITATING                     0.0     int64\n",
      "INJURIES_NON_INCAPACITATING                 0.0     int64\n",
      "INJURIES_REPORTED_NOT_EVIDENT               0.0     int64\n",
      "INJURIES_NO_INDICATION                      0.0     int64\n",
      "INJURIES_UNKNOWN                            0.0     int64\n",
      "CRASH_HOUR                                  0.0     int64\n",
      "CRASH_DAY_OF_WEEK                           0.0     int64\n",
      "CRASH_MONTH                                 0.0     int64\n",
      "LATITUDE                                    0.0    object\n",
      "LONGITUDE                                   0.0    object\n",
      "LOCATION                                    0.0    object\n"
     ]
    }
   ],
   "source": [
    "# The \"conversion\" function takes in df and list of columns to convert to given type\n",
    "list_of_cols = ['POSTED_SPEED_LIMIT', 'STREET_NO', 'BEAT_OF_OCCURRENCE', 'NUM_UNITS', \n",
    "                'INJURIES_TOTAL', 'INJURIES_FATAL', 'INJURIES_INCAPACITATING', \n",
    "                'INJURIES_NON_INCAPACITATING', 'INJURIES_REPORTED_NOT_EVIDENT', \n",
    "                'INJURIES_NO_INDICATION', 'INJURIES_UNKNOWN', 'CRASH_HOUR', \n",
    "                'CRASH_DAY_OF_WEEK', 'CRASH_MONTH']\n",
    "ed.conversion(crashes, list_of_cols, int)\n",
    "ed.show_info(crashes)"
   ]
  },
  {
   "cell_type": "markdown",
   "metadata": {},
   "source": [
    "First, I will look into **CRASH_DATE** column to see what dates are included in dataset"
   ]
  },
  {
   "cell_type": "code",
   "execution_count": 11,
   "metadata": {},
   "outputs": [
    {
     "data": {
      "text/plain": [
       "12/29/2020 05:00:00 PM    29\n",
       "11/10/2017 10:30:00 AM    26\n",
       "11/10/2017 10:00:00 AM    20\n",
       "01/12/2019 02:30:00 PM    18\n",
       "01/12/2019 03:00:00 PM    18\n",
       "                          ..\n",
       "07/03/2020 08:09:00 PM     1\n",
       "04/18/2017 09:15:00 PM     1\n",
       "11/26/2020 02:40:00 AM     1\n",
       "01/17/2020 10:45:00 PM     1\n",
       "12/15/2018 09:25:00 AM     1\n",
       "Name: CRASH_DATE, Length: 313432, dtype: int64"
      ]
     },
     "execution_count": 11,
     "metadata": {},
     "output_type": "execute_result"
    }
   ],
   "source": [
    "crashes.CRASH_DATE.value_counts()"
   ]
  },
  {
   "cell_type": "markdown",
   "metadata": {},
   "source": [
    "Since the column contains **exact date,** I will **separate the year of each the crash**"
   ]
  },
  {
   "cell_type": "code",
   "execution_count": 12,
   "metadata": {
    "scrolled": false
   },
   "outputs": [
    {
     "data": {
      "text/html": [
       "<div>\n",
       "<style scoped>\n",
       "    .dataframe tbody tr th:only-of-type {\n",
       "        vertical-align: middle;\n",
       "    }\n",
       "\n",
       "    .dataframe tbody tr th {\n",
       "        vertical-align: top;\n",
       "    }\n",
       "\n",
       "    .dataframe thead th {\n",
       "        text-align: right;\n",
       "    }\n",
       "</style>\n",
       "<table border=\"1\" class=\"dataframe\">\n",
       "  <thead>\n",
       "    <tr style=\"text-align: right;\">\n",
       "      <th></th>\n",
       "      <th>INJURIES_NO_INDICATION</th>\n",
       "      <th>INJURIES_UNKNOWN</th>\n",
       "      <th>CRASH_HOUR</th>\n",
       "      <th>CRASH_DAY_OF_WEEK</th>\n",
       "      <th>CRASH_MONTH</th>\n",
       "      <th>LATITUDE</th>\n",
       "      <th>LONGITUDE</th>\n",
       "      <th>LOCATION</th>\n",
       "      <th>CRASH_YEAR</th>\n",
       "    </tr>\n",
       "  </thead>\n",
       "  <tbody>\n",
       "    <tr>\n",
       "      <th>0</th>\n",
       "      <td>3</td>\n",
       "      <td>0</td>\n",
       "      <td>17</td>\n",
       "      <td>4</td>\n",
       "      <td>7</td>\n",
       "      <td>41.919663833</td>\n",
       "      <td>-87.773287883</td>\n",
       "      <td>POINT (-87.773287883007 41.919663832993)</td>\n",
       "      <td>2019</td>\n",
       "    </tr>\n",
       "    <tr>\n",
       "      <th>1</th>\n",
       "      <td>3</td>\n",
       "      <td>0</td>\n",
       "      <td>16</td>\n",
       "      <td>6</td>\n",
       "      <td>6</td>\n",
       "      <td>41.741803599</td>\n",
       "      <td>-87.740953582</td>\n",
       "      <td>POINT (-87.740953581987 41.741803598989)</td>\n",
       "      <td>2017</td>\n",
       "    </tr>\n",
       "    <tr>\n",
       "      <th>2</th>\n",
       "      <td>3</td>\n",
       "      <td>0</td>\n",
       "      <td>10</td>\n",
       "      <td>6</td>\n",
       "      <td>7</td>\n",
       "      <td>41.773455972</td>\n",
       "      <td>-87.585022352</td>\n",
       "      <td>POINT (-87.585022352022 41.773455972008)</td>\n",
       "      <td>2020</td>\n",
       "    </tr>\n",
       "    <tr>\n",
       "      <th>3</th>\n",
       "      <td>3</td>\n",
       "      <td>0</td>\n",
       "      <td>1</td>\n",
       "      <td>7</td>\n",
       "      <td>7</td>\n",
       "      <td>41.802118543</td>\n",
       "      <td>-87.622114915</td>\n",
       "      <td>POINT (-87.622114914961 41.802118543011)</td>\n",
       "      <td>2020</td>\n",
       "    </tr>\n",
       "    <tr>\n",
       "      <th>5</th>\n",
       "      <td>2</td>\n",
       "      <td>0</td>\n",
       "      <td>22</td>\n",
       "      <td>5</td>\n",
       "      <td>3</td>\n",
       "      <td>41.741803599</td>\n",
       "      <td>-87.740953582</td>\n",
       "      <td>POINT (-87.740953581987 41.741803598989)</td>\n",
       "      <td>2019</td>\n",
       "    </tr>\n",
       "    <tr>\n",
       "      <th>...</th>\n",
       "      <td>...</td>\n",
       "      <td>...</td>\n",
       "      <td>...</td>\n",
       "      <td>...</td>\n",
       "      <td>...</td>\n",
       "      <td>...</td>\n",
       "      <td>...</td>\n",
       "      <td>...</td>\n",
       "      <td>...</td>\n",
       "    </tr>\n",
       "    <tr>\n",
       "      <th>496200</th>\n",
       "      <td>2</td>\n",
       "      <td>0</td>\n",
       "      <td>7</td>\n",
       "      <td>3</td>\n",
       "      <td>1</td>\n",
       "      <td>41.877790162</td>\n",
       "      <td>-87.636487589</td>\n",
       "      <td>POINT (-87.636487589354 41.877790161619)</td>\n",
       "      <td>2021</td>\n",
       "    </tr>\n",
       "    <tr>\n",
       "      <th>496201</th>\n",
       "      <td>2</td>\n",
       "      <td>0</td>\n",
       "      <td>17</td>\n",
       "      <td>4</td>\n",
       "      <td>1</td>\n",
       "      <td>41.800697419</td>\n",
       "      <td>-87.706357916</td>\n",
       "      <td>POINT (-87.706357916164 41.800697419369)</td>\n",
       "      <td>2021</td>\n",
       "    </tr>\n",
       "    <tr>\n",
       "      <th>496202</th>\n",
       "      <td>2</td>\n",
       "      <td>0</td>\n",
       "      <td>16</td>\n",
       "      <td>4</td>\n",
       "      <td>1</td>\n",
       "      <td>41.92470866</td>\n",
       "      <td>-87.717371333</td>\n",
       "      <td>POINT (-87.717371333013 41.924708659649)</td>\n",
       "      <td>2021</td>\n",
       "    </tr>\n",
       "    <tr>\n",
       "      <th>496203</th>\n",
       "      <td>4</td>\n",
       "      <td>0</td>\n",
       "      <td>15</td>\n",
       "      <td>4</td>\n",
       "      <td>1</td>\n",
       "      <td>41.802870817</td>\n",
       "      <td>-87.684416342</td>\n",
       "      <td>POINT (-87.684416341899 41.802870816721)</td>\n",
       "      <td>2021</td>\n",
       "    </tr>\n",
       "    <tr>\n",
       "      <th>496204</th>\n",
       "      <td>2</td>\n",
       "      <td>0</td>\n",
       "      <td>16</td>\n",
       "      <td>4</td>\n",
       "      <td>1</td>\n",
       "      <td>41.953010233</td>\n",
       "      <td>-87.787707163</td>\n",
       "      <td>POINT (-87.787707162599 41.953010233235)</td>\n",
       "      <td>2021</td>\n",
       "    </tr>\n",
       "  </tbody>\n",
       "</table>\n",
       "<p>476858 rows × 9 columns</p>\n",
       "</div>"
      ],
      "text/plain": [
       "        INJURIES_NO_INDICATION  INJURIES_UNKNOWN  CRASH_HOUR  \\\n",
       "0                            3                 0          17   \n",
       "1                            3                 0          16   \n",
       "2                            3                 0          10   \n",
       "3                            3                 0           1   \n",
       "5                            2                 0          22   \n",
       "...                        ...               ...         ...   \n",
       "496200                       2                 0           7   \n",
       "496201                       2                 0          17   \n",
       "496202                       2                 0          16   \n",
       "496203                       4                 0          15   \n",
       "496204                       2                 0          16   \n",
       "\n",
       "        CRASH_DAY_OF_WEEK  CRASH_MONTH      LATITUDE      LONGITUDE  \\\n",
       "0                       4            7  41.919663833  -87.773287883   \n",
       "1                       6            6  41.741803599  -87.740953582   \n",
       "2                       6            7  41.773455972  -87.585022352   \n",
       "3                       7            7  41.802118543  -87.622114915   \n",
       "5                       5            3  41.741803599  -87.740953582   \n",
       "...                   ...          ...           ...            ...   \n",
       "496200                  3            1  41.877790162  -87.636487589   \n",
       "496201                  4            1  41.800697419  -87.706357916   \n",
       "496202                  4            1   41.92470866  -87.717371333   \n",
       "496203                  4            1  41.802870817  -87.684416342   \n",
       "496204                  4            1  41.953010233  -87.787707163   \n",
       "\n",
       "                                        LOCATION  CRASH_YEAR  \n",
       "0       POINT (-87.773287883007 41.919663832993)        2019  \n",
       "1       POINT (-87.740953581987 41.741803598989)        2017  \n",
       "2       POINT (-87.585022352022 41.773455972008)        2020  \n",
       "3       POINT (-87.622114914961 41.802118543011)        2020  \n",
       "5       POINT (-87.740953581987 41.741803598989)        2019  \n",
       "...                                          ...         ...  \n",
       "496200  POINT (-87.636487589354 41.877790161619)        2021  \n",
       "496201  POINT (-87.706357916164 41.800697419369)        2021  \n",
       "496202  POINT (-87.717371333013 41.924708659649)        2021  \n",
       "496203  POINT (-87.684416341899 41.802870816721)        2021  \n",
       "496204  POINT (-87.787707162599 41.953010233235)        2021  \n",
       "\n",
       "[476858 rows x 9 columns]"
      ]
     },
     "execution_count": 12,
     "metadata": {},
     "output_type": "execute_result"
    }
   ],
   "source": [
    "crashes['CRASH_DATE'] = pd.to_datetime(crashes['CRASH_DATE'])\n",
    "crashes['CRASH_YEAR'] = crashes['CRASH_DATE'].dt.year\n",
    "\n",
    "crashes[crashes.columns[30:]]"
   ]
  },
  {
   "cell_type": "markdown",
   "metadata": {},
   "source": [
    "**Drop the \"CRASH_DATE\"** column and put the **\"CRASH_YEAR\", \"CRASH_MONTH\", \"CRASH_TIME\" columns in front.**"
   ]
  },
  {
   "cell_type": "code",
   "execution_count": 13,
   "metadata": {},
   "outputs": [
    {
     "data": {
      "text/plain": [
       "37"
      ]
     },
     "execution_count": 13,
     "metadata": {},
     "output_type": "execute_result"
    }
   ],
   "source": [
    "crashes.drop(columns = \"CRASH_DATE\",axis = 1, inplace = True)\n",
    "\n",
    "crashes.columns.get_loc(\"CRASH_YEAR\")"
   ]
  },
  {
   "cell_type": "code",
   "execution_count": 14,
   "metadata": {},
   "outputs": [],
   "source": [
    "cols = list(crashes.columns)\n",
    "cols = cols[:2] + [cols[37]] + cols[2:37]\n",
    "crashes = crashes[cols]\n"
   ]
  },
  {
   "cell_type": "code",
   "execution_count": 15,
   "metadata": {},
   "outputs": [
    {
     "data": {
      "text/plain": [
       "34"
      ]
     },
     "execution_count": 15,
     "metadata": {},
     "output_type": "execute_result"
    }
   ],
   "source": [
    "crashes.columns.get_loc(\"CRASH_MONTH\")"
   ]
  },
  {
   "cell_type": "code",
   "execution_count": 16,
   "metadata": {},
   "outputs": [],
   "source": [
    "cols = list(crashes.columns)\n",
    "cols = cols[:3] + [cols[34]] + cols[3:34] + cols[35:]\n",
    "crashes = crashes[cols]\n"
   ]
  },
  {
   "cell_type": "code",
   "execution_count": 17,
   "metadata": {},
   "outputs": [
    {
     "data": {
      "text/plain": [
       "33"
      ]
     },
     "execution_count": 17,
     "metadata": {},
     "output_type": "execute_result"
    }
   ],
   "source": [
    "crashes.columns.get_loc(\"CRASH_HOUR\")"
   ]
  },
  {
   "cell_type": "code",
   "execution_count": 18,
   "metadata": {},
   "outputs": [],
   "source": [
    "cols = list(crashes.columns)\n",
    "cols = cols[:4] + [cols[33]] + cols[4:33] + cols[34:]\n",
    "crashes = crashes[cols]\n"
   ]
  },
  {
   "cell_type": "code",
   "execution_count": 19,
   "metadata": {},
   "outputs": [
    {
     "data": {
      "text/plain": [
       "34"
      ]
     },
     "execution_count": 19,
     "metadata": {},
     "output_type": "execute_result"
    }
   ],
   "source": [
    "crashes.columns.get_loc(\"CRASH_DAY_OF_WEEK\")"
   ]
  },
  {
   "cell_type": "code",
   "execution_count": 20,
   "metadata": {},
   "outputs": [
    {
     "data": {
      "text/html": [
       "<div>\n",
       "<style scoped>\n",
       "    .dataframe tbody tr th:only-of-type {\n",
       "        vertical-align: middle;\n",
       "    }\n",
       "\n",
       "    .dataframe tbody tr th {\n",
       "        vertical-align: top;\n",
       "    }\n",
       "\n",
       "    .dataframe thead th {\n",
       "        text-align: right;\n",
       "    }\n",
       "</style>\n",
       "<table border=\"1\" class=\"dataframe\">\n",
       "  <thead>\n",
       "    <tr style=\"text-align: right;\">\n",
       "      <th></th>\n",
       "      <th>CRASH_RECORD_ID</th>\n",
       "      <th>RD_NO</th>\n",
       "      <th>CRASH_YEAR</th>\n",
       "      <th>CRASH_MONTH</th>\n",
       "      <th>CRASH_HOUR</th>\n",
       "      <th>CRASH_DAY_OF_WEEK</th>\n",
       "      <th>POSTED_SPEED_LIMIT</th>\n",
       "      <th>TRAFFIC_CONTROL_DEVICE</th>\n",
       "      <th>DEVICE_CONDITION</th>\n",
       "      <th>WEATHER_CONDITION</th>\n",
       "      <th>...</th>\n",
       "      <th>INJURIES_TOTAL</th>\n",
       "      <th>INJURIES_FATAL</th>\n",
       "      <th>INJURIES_INCAPACITATING</th>\n",
       "      <th>INJURIES_NON_INCAPACITATING</th>\n",
       "      <th>INJURIES_REPORTED_NOT_EVIDENT</th>\n",
       "      <th>INJURIES_NO_INDICATION</th>\n",
       "      <th>INJURIES_UNKNOWN</th>\n",
       "      <th>LATITUDE</th>\n",
       "      <th>LONGITUDE</th>\n",
       "      <th>LOCATION</th>\n",
       "    </tr>\n",
       "  </thead>\n",
       "  <tbody>\n",
       "    <tr>\n",
       "      <th>0</th>\n",
       "      <td>4fd0a3e0897b3335b94cd8d5b2d2b350eb691add56c62d...</td>\n",
       "      <td>JC343143</td>\n",
       "      <td>2019</td>\n",
       "      <td>7</td>\n",
       "      <td>17</td>\n",
       "      <td>4</td>\n",
       "      <td>35</td>\n",
       "      <td>NO CONTROLS</td>\n",
       "      <td>NO CONTROLS</td>\n",
       "      <td>CLEAR</td>\n",
       "      <td>...</td>\n",
       "      <td>0</td>\n",
       "      <td>0</td>\n",
       "      <td>0</td>\n",
       "      <td>0</td>\n",
       "      <td>0</td>\n",
       "      <td>3</td>\n",
       "      <td>0</td>\n",
       "      <td>41.919663833</td>\n",
       "      <td>-87.773287883</td>\n",
       "      <td>POINT (-87.773287883007 41.919663832993)</td>\n",
       "    </tr>\n",
       "    <tr>\n",
       "      <th>1</th>\n",
       "      <td>009e9e67203442370272e1a13d6ee51a4155dac65e583d...</td>\n",
       "      <td>JA329216</td>\n",
       "      <td>2017</td>\n",
       "      <td>6</td>\n",
       "      <td>16</td>\n",
       "      <td>6</td>\n",
       "      <td>35</td>\n",
       "      <td>STOP SIGN/FLASHER</td>\n",
       "      <td>FUNCTIONING PROPERLY</td>\n",
       "      <td>CLEAR</td>\n",
       "      <td>...</td>\n",
       "      <td>0</td>\n",
       "      <td>0</td>\n",
       "      <td>0</td>\n",
       "      <td>0</td>\n",
       "      <td>0</td>\n",
       "      <td>3</td>\n",
       "      <td>0</td>\n",
       "      <td>41.741803599</td>\n",
       "      <td>-87.740953582</td>\n",
       "      <td>POINT (-87.740953581987 41.741803598989)</td>\n",
       "    </tr>\n",
       "    <tr>\n",
       "      <th>2</th>\n",
       "      <td>ee9283eff3a55ac50ee58f3d9528ce1d689b1c4180b4c4...</td>\n",
       "      <td>JD292400</td>\n",
       "      <td>2020</td>\n",
       "      <td>7</td>\n",
       "      <td>10</td>\n",
       "      <td>6</td>\n",
       "      <td>30</td>\n",
       "      <td>TRAFFIC SIGNAL</td>\n",
       "      <td>FUNCTIONING PROPERLY</td>\n",
       "      <td>CLEAR</td>\n",
       "      <td>...</td>\n",
       "      <td>0</td>\n",
       "      <td>0</td>\n",
       "      <td>0</td>\n",
       "      <td>0</td>\n",
       "      <td>0</td>\n",
       "      <td>3</td>\n",
       "      <td>0</td>\n",
       "      <td>41.773455972</td>\n",
       "      <td>-87.585022352</td>\n",
       "      <td>POINT (-87.585022352022 41.773455972008)</td>\n",
       "    </tr>\n",
       "    <tr>\n",
       "      <th>3</th>\n",
       "      <td>f8960f698e870ebdc60b521b2a141a5395556bc3704191...</td>\n",
       "      <td>JD293602</td>\n",
       "      <td>2020</td>\n",
       "      <td>7</td>\n",
       "      <td>1</td>\n",
       "      <td>7</td>\n",
       "      <td>30</td>\n",
       "      <td>NO CONTROLS</td>\n",
       "      <td>NO CONTROLS</td>\n",
       "      <td>CLEAR</td>\n",
       "      <td>...</td>\n",
       "      <td>0</td>\n",
       "      <td>0</td>\n",
       "      <td>0</td>\n",
       "      <td>0</td>\n",
       "      <td>0</td>\n",
       "      <td>3</td>\n",
       "      <td>0</td>\n",
       "      <td>41.802118543</td>\n",
       "      <td>-87.622114915</td>\n",
       "      <td>POINT (-87.622114914961 41.802118543011)</td>\n",
       "    </tr>\n",
       "    <tr>\n",
       "      <th>5</th>\n",
       "      <td>00e47f189660cd8ba1e85fc63061bf1d8465184393f134...</td>\n",
       "      <td>JC194776</td>\n",
       "      <td>2019</td>\n",
       "      <td>3</td>\n",
       "      <td>22</td>\n",
       "      <td>5</td>\n",
       "      <td>30</td>\n",
       "      <td>TRAFFIC SIGNAL</td>\n",
       "      <td>FUNCTIONING PROPERLY</td>\n",
       "      <td>CLEAR</td>\n",
       "      <td>...</td>\n",
       "      <td>0</td>\n",
       "      <td>0</td>\n",
       "      <td>0</td>\n",
       "      <td>0</td>\n",
       "      <td>0</td>\n",
       "      <td>2</td>\n",
       "      <td>0</td>\n",
       "      <td>41.741803599</td>\n",
       "      <td>-87.740953582</td>\n",
       "      <td>POINT (-87.740953581987 41.741803598989)</td>\n",
       "    </tr>\n",
       "  </tbody>\n",
       "</table>\n",
       "<p>5 rows × 38 columns</p>\n",
       "</div>"
      ],
      "text/plain": [
       "                                     CRASH_RECORD_ID     RD_NO  CRASH_YEAR  \\\n",
       "0  4fd0a3e0897b3335b94cd8d5b2d2b350eb691add56c62d...  JC343143        2019   \n",
       "1  009e9e67203442370272e1a13d6ee51a4155dac65e583d...  JA329216        2017   \n",
       "2  ee9283eff3a55ac50ee58f3d9528ce1d689b1c4180b4c4...  JD292400        2020   \n",
       "3  f8960f698e870ebdc60b521b2a141a5395556bc3704191...  JD293602        2020   \n",
       "5  00e47f189660cd8ba1e85fc63061bf1d8465184393f134...  JC194776        2019   \n",
       "\n",
       "   CRASH_MONTH  CRASH_HOUR  CRASH_DAY_OF_WEEK  POSTED_SPEED_LIMIT  \\\n",
       "0            7          17                  4                  35   \n",
       "1            6          16                  6                  35   \n",
       "2            7          10                  6                  30   \n",
       "3            7           1                  7                  30   \n",
       "5            3          22                  5                  30   \n",
       "\n",
       "  TRAFFIC_CONTROL_DEVICE      DEVICE_CONDITION WEATHER_CONDITION  ...  \\\n",
       "0            NO CONTROLS           NO CONTROLS             CLEAR  ...   \n",
       "1      STOP SIGN/FLASHER  FUNCTIONING PROPERLY             CLEAR  ...   \n",
       "2         TRAFFIC SIGNAL  FUNCTIONING PROPERLY             CLEAR  ...   \n",
       "3            NO CONTROLS           NO CONTROLS             CLEAR  ...   \n",
       "5         TRAFFIC SIGNAL  FUNCTIONING PROPERLY             CLEAR  ...   \n",
       "\n",
       "  INJURIES_TOTAL INJURIES_FATAL INJURIES_INCAPACITATING  \\\n",
       "0              0              0                       0   \n",
       "1              0              0                       0   \n",
       "2              0              0                       0   \n",
       "3              0              0                       0   \n",
       "5              0              0                       0   \n",
       "\n",
       "  INJURIES_NON_INCAPACITATING INJURIES_REPORTED_NOT_EVIDENT  \\\n",
       "0                           0                             0   \n",
       "1                           0                             0   \n",
       "2                           0                             0   \n",
       "3                           0                             0   \n",
       "5                           0                             0   \n",
       "\n",
       "  INJURIES_NO_INDICATION INJURIES_UNKNOWN      LATITUDE      LONGITUDE  \\\n",
       "0                      3                0  41.919663833  -87.773287883   \n",
       "1                      3                0  41.741803599  -87.740953582   \n",
       "2                      3                0  41.773455972  -87.585022352   \n",
       "3                      3                0  41.802118543  -87.622114915   \n",
       "5                      2                0  41.741803599  -87.740953582   \n",
       "\n",
       "                                   LOCATION  \n",
       "0  POINT (-87.773287883007 41.919663832993)  \n",
       "1  POINT (-87.740953581987 41.741803598989)  \n",
       "2  POINT (-87.585022352022 41.773455972008)  \n",
       "3  POINT (-87.622114914961 41.802118543011)  \n",
       "5  POINT (-87.740953581987 41.741803598989)  \n",
       "\n",
       "[5 rows x 38 columns]"
      ]
     },
     "execution_count": 20,
     "metadata": {},
     "output_type": "execute_result"
    }
   ],
   "source": [
    "cols = list(crashes.columns)\n",
    "cols = cols[:5] + [cols[34]] + cols[5:34] + cols[35:]\n",
    "crashes = crashes[cols]\n",
    "crashes.head()"
   ]
  },
  {
   "cell_type": "code",
   "execution_count": 21,
   "metadata": {},
   "outputs": [
    {
     "name": "stdout",
     "output_type": "stream",
     "text": [
      "Lenght of Dataset: 476858\n",
      "                               missing_values_% Data_type\n",
      "CRASH_RECORD_ID                             0.0    object\n",
      "RD_NO                                       0.0    object\n",
      "CRASH_YEAR                                  0.0     int64\n",
      "CRASH_MONTH                                 0.0     int64\n",
      "CRASH_HOUR                                  0.0     int64\n",
      "CRASH_DAY_OF_WEEK                           0.0     int64\n",
      "POSTED_SPEED_LIMIT                          0.0     int64\n",
      "TRAFFIC_CONTROL_DEVICE                      0.0    object\n",
      "DEVICE_CONDITION                            0.0    object\n",
      "WEATHER_CONDITION                           0.0    object\n",
      "LIGHTING_CONDITION                          0.0    object\n",
      "FIRST_CRASH_TYPE                            0.0    object\n",
      "TRAFFICWAY_TYPE                             0.0    object\n",
      "ALIGNMENT                                   0.0    object\n",
      "ROADWAY_SURFACE_COND                        0.0    object\n",
      "ROAD_DEFECT                                 0.0    object\n",
      "REPORT_TYPE                                 0.0    object\n",
      "CRASH_TYPE                                  0.0    object\n",
      "DAMAGE                                      0.0    object\n",
      "DATE_POLICE_NOTIFIED                        0.0    object\n",
      "PRIM_CONTRIBUTORY_CAUSE                     0.0    object\n",
      "SEC_CONTRIBUTORY_CAUSE                      0.0    object\n",
      "STREET_NO                                   0.0     int64\n",
      "STREET_DIRECTION                            0.0    object\n",
      "STREET_NAME                                 0.0    object\n",
      "BEAT_OF_OCCURRENCE                          0.0     int64\n",
      "NUM_UNITS                                   0.0     int64\n",
      "MOST_SEVERE_INJURY                          0.0    object\n",
      "INJURIES_TOTAL                              0.0     int64\n",
      "INJURIES_FATAL                              0.0     int64\n",
      "INJURIES_INCAPACITATING                     0.0     int64\n",
      "INJURIES_NON_INCAPACITATING                 0.0     int64\n",
      "INJURIES_REPORTED_NOT_EVIDENT               0.0     int64\n",
      "INJURIES_NO_INDICATION                      0.0     int64\n",
      "INJURIES_UNKNOWN                            0.0     int64\n",
      "LATITUDE                                    0.0    object\n",
      "LONGITUDE                                   0.0    object\n",
      "LOCATION                                    0.0    object\n"
     ]
    }
   ],
   "source": [
    "ed.show_info(crashes)"
   ]
  },
  {
   "cell_type": "code",
   "execution_count": 22,
   "metadata": {},
   "outputs": [
    {
     "data": {
      "text/plain": [
       "2018    115129\n",
       "2019    112972\n",
       "2020     88665\n",
       "2017     81672\n",
       "2016     43749\n",
       "2021     24906\n",
       "2015      9758\n",
       "2014         6\n",
       "2013         1\n",
       "Name: CRASH_YEAR, dtype: int64"
      ]
     },
     "execution_count": 22,
     "metadata": {},
     "output_type": "execute_result"
    }
   ],
   "source": [
    "crashes.CRASH_YEAR.value_counts()"
   ]
  },
  {
   "cell_type": "markdown",
   "metadata": {},
   "source": [
    "To narrow down the dataset, I will **keep the observations only from 2019-2020**, since these are most recent years (as 2021 is still in progress)"
   ]
  },
  {
   "cell_type": "code",
   "execution_count": 23,
   "metadata": {},
   "outputs": [
    {
     "name": "stdout",
     "output_type": "stream",
     "text": [
      "Lenght of Dataset: 201637\n",
      "                               missing_values_% Data_type\n",
      "CRASH_RECORD_ID                             0.0    object\n",
      "RD_NO                                       0.0    object\n",
      "CRASH_YEAR                                  0.0     int64\n",
      "CRASH_MONTH                                 0.0     int64\n",
      "CRASH_HOUR                                  0.0     int64\n",
      "CRASH_DAY_OF_WEEK                           0.0     int64\n",
      "POSTED_SPEED_LIMIT                          0.0     int64\n",
      "TRAFFIC_CONTROL_DEVICE                      0.0    object\n",
      "DEVICE_CONDITION                            0.0    object\n",
      "WEATHER_CONDITION                           0.0    object\n",
      "LIGHTING_CONDITION                          0.0    object\n",
      "FIRST_CRASH_TYPE                            0.0    object\n",
      "TRAFFICWAY_TYPE                             0.0    object\n",
      "ALIGNMENT                                   0.0    object\n",
      "ROADWAY_SURFACE_COND                        0.0    object\n",
      "ROAD_DEFECT                                 0.0    object\n",
      "REPORT_TYPE                                 0.0    object\n",
      "CRASH_TYPE                                  0.0    object\n",
      "DAMAGE                                      0.0    object\n",
      "DATE_POLICE_NOTIFIED                        0.0    object\n",
      "PRIM_CONTRIBUTORY_CAUSE                     0.0    object\n",
      "SEC_CONTRIBUTORY_CAUSE                      0.0    object\n",
      "STREET_NO                                   0.0     int64\n",
      "STREET_DIRECTION                            0.0    object\n",
      "STREET_NAME                                 0.0    object\n",
      "BEAT_OF_OCCURRENCE                          0.0     int64\n",
      "NUM_UNITS                                   0.0     int64\n",
      "MOST_SEVERE_INJURY                          0.0    object\n",
      "INJURIES_TOTAL                              0.0     int64\n",
      "INJURIES_FATAL                              0.0     int64\n",
      "INJURIES_INCAPACITATING                     0.0     int64\n",
      "INJURIES_NON_INCAPACITATING                 0.0     int64\n",
      "INJURIES_REPORTED_NOT_EVIDENT               0.0     int64\n",
      "INJURIES_NO_INDICATION                      0.0     int64\n",
      "INJURIES_UNKNOWN                            0.0     int64\n",
      "LATITUDE                                    0.0    object\n",
      "LONGITUDE                                   0.0    object\n",
      "LOCATION                                    0.0    object\n"
     ]
    }
   ],
   "source": [
    "crashes = crashes[(crashes['CRASH_YEAR'] == 2019) | (crashes['CRASH_YEAR'] == 2020) ]\n",
    "ed.show_info(crashes)"
   ]
  },
  {
   "cell_type": "markdown",
   "metadata": {},
   "source": [
    "## Categorical Features of Crashes Dataset - Part I"
   ]
  },
  {
   "cell_type": "markdown",
   "metadata": {},
   "source": [
    "Now, I will look into **what values some the object type features have.**"
   ]
  },
  {
   "cell_type": "code",
   "execution_count": 24,
   "metadata": {},
   "outputs": [
    {
     "name": "stdout",
     "output_type": "stream",
     "text": [
      "NO CONTROLS                 115130\n",
      "TRAFFIC SIGNAL               56271\n",
      "STOP SIGN/FLASHER            20734\n",
      "UNKNOWN                       6543\n",
      "OTHER                         1321\n",
      "YIELD                          308\n",
      "OTHER REG. SIGN                264\n",
      "OTHER WARNING SIGN             198\n",
      "PEDESTRIAN CROSSING SIGN       191\n",
      "LANE USE MARKING               131\n",
      "RAILROAD CROSSING GATE         124\n",
      "FLASHING CONTROL SIGNAL        109\n",
      "POLICE/FLAGMAN                  84\n",
      "DELINEATORS                     66\n",
      "SCHOOL ZONE                     54\n",
      "OTHER RAILROAD CROSSING         48\n",
      "RR CROSSING SIGN                37\n",
      "BICYCLE CROSSING SIGN           14\n",
      "NO PASSING                      10\n",
      "Name: TRAFFIC_CONTROL_DEVICE, dtype: int64\n",
      "\n",
      "\n",
      "NO CONTROLS                 116423\n",
      "FUNCTIONING PROPERLY         70461\n",
      "UNKNOWN                      11379\n",
      "OTHER                         1729\n",
      "FUNCTIONING IMPROPERLY         895\n",
      "NOT FUNCTIONING                655\n",
      "WORN REFLECTIVE MATERIAL        71\n",
      "MISSING                         24\n",
      "Name: DEVICE_CONDITION, dtype: int64\n",
      "\n",
      "\n",
      "NOT DIVIDED                        87543\n",
      "DIVIDED - W/MEDIAN (NOT RAISED)    31721\n",
      "ONE-WAY                            26103\n",
      "PARKING LOT                        13664\n",
      "FOUR WAY                           13308\n",
      "DIVIDED - W/MEDIAN BARRIER         11304\n",
      "OTHER                               4872\n",
      "ALLEY                               3456\n",
      "T-INTERSECTION                      2798\n",
      "UNKNOWN                             1991\n",
      "CENTER TURN LANE                    1537\n",
      "UNKNOWN INTERSECTION TYPE            841\n",
      "DRIVEWAY                             720\n",
      "RAMP                                 621\n",
      "FIVE POINT, OR MORE                  342\n",
      "Y-INTERSECTION                       339\n",
      "TRAFFIC ROUTE                        246\n",
      "NOT REPORTED                         102\n",
      "ROUNDABOUT                            83\n",
      "L-INTERSECTION                        46\n",
      "Name: TRAFFICWAY_TYPE, dtype: int64\n",
      "\n",
      "\n",
      "STRAIGHT AND LEVEL       196549\n",
      "STRAIGHT ON GRADE          2675\n",
      "CURVE, LEVEL               1514\n",
      "STRAIGHT ON HILLCREST       546\n",
      "CURVE ON GRADE              264\n",
      "CURVE ON HILLCREST           89\n",
      "Name: ALIGNMENT, dtype: int64\n",
      "\n",
      "\n"
     ]
    }
   ],
   "source": [
    "list_of_feat = ['TRAFFIC_CONTROL_DEVICE', 'DEVICE_CONDITION', 'TRAFFICWAY_TYPE', 'ALIGNMENT']\n",
    "ed.values(crashes, list_of_feat)"
   ]
  },
  {
   "cell_type": "markdown",
   "metadata": {},
   "source": [
    "The **TRAFFIC_CONTROL_DEVICE** column have multiple values that have common category: signal, sign. I will narrow down those values to one category"
   ]
  },
  {
   "cell_type": "code",
   "execution_count": 25,
   "metadata": {},
   "outputs": [
    {
     "data": {
      "text/plain": [
       "NO CONTROLS                115130\n",
       "SIGNAL                      56380\n",
       "SIGN                        21438\n",
       "UNKNOWN                      6543\n",
       "OTHER                        1321\n",
       "YIELD                         308\n",
       "LANE USE MARKING              131\n",
       "RAILROAD CROSSING GATE        124\n",
       "POLICE/FLAGMAN                 84\n",
       "DELINEATORS                    66\n",
       "SCHOOL ZONE                    54\n",
       "OTHER RAILROAD CROSSING        48\n",
       "NO PASSING                     10\n",
       "Name: TRAFFIC_CONTROL_DEVICE, dtype: int64"
      ]
     },
     "execution_count": 25,
     "metadata": {},
     "output_type": "execute_result"
    }
   ],
   "source": [
    "crashes['TRAFFIC_CONTROL_DEVICE'] = crashes['TRAFFIC_CONTROL_DEVICE'].apply(lambda x: \n",
    "                                                                            'SIGNAL' if 'SIGNAL' in x else x)\n",
    "crashes['TRAFFIC_CONTROL_DEVICE'] = crashes['TRAFFIC_CONTROL_DEVICE'].apply(lambda x: 'SIGN' if ' SIGN' in x else x)\n",
    "crashes['TRAFFIC_CONTROL_DEVICE'].value_counts()"
   ]
  },
  {
   "cell_type": "markdown",
   "metadata": {},
   "source": [
    "**TRAFFICWAY_TYPE** column has a values with different types of intersection, I will reframe them all as one: intersection type."
   ]
  },
  {
   "cell_type": "code",
   "execution_count": 26,
   "metadata": {
    "scrolled": true
   },
   "outputs": [
    {
     "data": {
      "text/plain": [
       "NOT DIVIDED                        87543\n",
       "DIVIDED - W/MEDIAN (NOT RAISED)    31721\n",
       "ONE-WAY                            26103\n",
       "PARKING LOT                        13664\n",
       "FOUR WAY                           13308\n",
       "DIVIDED - W/MEDIAN BARRIER         11304\n",
       "OTHER                               4872\n",
       "INTERSECTION                        4024\n",
       "ALLEY                               3456\n",
       "UNKNOWN                             1991\n",
       "CENTER TURN LANE                    1537\n",
       "DRIVEWAY                             720\n",
       "RAMP                                 621\n",
       "FIVE POINT, OR MORE                  342\n",
       "TRAFFIC ROUTE                        246\n",
       "NOT REPORTED                         102\n",
       "ROUNDABOUT                            83\n",
       "Name: TRAFFICWAY_TYPE, dtype: int64"
      ]
     },
     "execution_count": 26,
     "metadata": {},
     "output_type": "execute_result"
    }
   ],
   "source": [
    "crashes['TRAFFICWAY_TYPE'] = crashes['TRAFFICWAY_TYPE'].apply(lambda x: 'INTERSECTION' if 'INTERSECTION' in x else x)\n",
    "crashes['TRAFFICWAY_TYPE'].value_counts()"
   ]
  },
  {
   "cell_type": "markdown",
   "metadata": {},
   "source": [
    "**ALIGNMENT** column has various types of two categories: straight and curved. I will bin all of the values onto those two categories and create **binary column:** **1** represents **STRAIGHT ALIGNMENT, 0** represents **CURVED ALIGNMENT**"
   ]
  },
  {
   "cell_type": "code",
   "execution_count": 27,
   "metadata": {},
   "outputs": [
    {
     "data": {
      "text/plain": [
       "1    199770\n",
       "0      1867\n",
       "Name: STRAIGHT_ALIGNMENT, dtype: int64"
      ]
     },
     "execution_count": 27,
     "metadata": {},
     "output_type": "execute_result"
    }
   ],
   "source": [
    "crashes['ALIGNMENT'] = crashes['ALIGNMENT'].apply(lambda x: 1 if 'STRAIGHT' in x else 0)\n",
    "crashes.rename(columns={'ALIGNMENT': 'STRAIGHT_ALIGNMENT'}, inplace = True)\n",
    "crashes['STRAIGHT_ALIGNMENT'].value_counts()"
   ]
  },
  {
   "cell_type": "markdown",
   "metadata": {},
   "source": [
    "## Categorical Features of Crashes Dataset - Part II"
   ]
  },
  {
   "cell_type": "code",
   "execution_count": 28,
   "metadata": {},
   "outputs": [
    {
     "name": "stdout",
     "output_type": "stream",
     "text": [
      "CLEAR                       159395\n",
      "RAIN                         18099\n",
      "UNKNOWN                       8634\n",
      "SNOW                          7640\n",
      "CLOUDY/OVERCAST               6102\n",
      "OTHER                          633\n",
      "FREEZING RAIN/DRIZZLE          453\n",
      "SLEET/HAIL                     321\n",
      "FOG/SMOKE/HAZE                 251\n",
      "BLOWING SNOW                    70\n",
      "SEVERE CROSS WIND GATE          37\n",
      "BLOWING SAND, SOIL, DIRT         2\n",
      "Name: WEATHER_CONDITION, dtype: int64\n",
      "\n",
      "\n",
      "DAYLIGHT                  129948\n",
      "DARKNESS, LIGHTED ROAD     44739\n",
      "DARKNESS                    9986\n",
      "UNKNOWN                     7298\n",
      "DUSK                        6108\n",
      "DAWN                        3558\n",
      "Name: LIGHTING_CONDITION, dtype: int64\n",
      "\n",
      "\n",
      "DRY                151175\n",
      "WET                 27835\n",
      "UNKNOWN             13274\n",
      "SNOW OR SLUSH        7211\n",
      "ICE                  1636\n",
      "OTHER                 432\n",
      "SAND, MUD, DIRT        74\n",
      "Name: ROADWAY_SURFACE_COND, dtype: int64\n",
      "\n",
      "\n",
      "NO DEFECTS           167364\n",
      "UNKNOWN               30137\n",
      "RUT, HOLES             1909\n",
      "OTHER                   999\n",
      "WORN SURFACE            649\n",
      "SHOULDER DEFECT         421\n",
      "DEBRIS ON ROADWAY       158\n",
      "Name: ROAD_DEFECT, dtype: int64\n",
      "\n",
      "\n"
     ]
    }
   ],
   "source": [
    "list_of_feat = ['WEATHER_CONDITION', 'LIGHTING_CONDITION', 'ROADWAY_SURFACE_COND', 'ROAD_DEFECT']\n",
    "ed.values(crashes, list_of_feat)"
   ]
  },
  {
   "cell_type": "markdown",
   "metadata": {},
   "source": [
    "**WEATHER_CONDITION** column have multiple categories tht can be combined:"
   ]
  },
  {
   "cell_type": "code",
   "execution_count": 29,
   "metadata": {},
   "outputs": [
    {
     "data": {
      "text/plain": [
       "CLEAR              159395\n",
       "RAIN                18552\n",
       "UNKNOWN              8634\n",
       "SNOW                 8031\n",
       "CLOUDY/OVERCAST      6102\n",
       "OTHER                 672\n",
       "FOG/SMOKE/HAZE        251\n",
       "Name: WEATHER_CONDITION, dtype: int64"
      ]
     },
     "execution_count": 29,
     "metadata": {},
     "output_type": "execute_result"
    }
   ],
   "source": [
    "crashes['WEATHER_CONDITION'] = crashes['WEATHER_CONDITION'].apply(lambda x: 'RAIN' if 'RAIN' in x else x)\n",
    "crashes['WEATHER_CONDITION'] = crashes['WEATHER_CONDITION'].apply(lambda x: 'SNOW' if ('SNOW' in x or \n",
    "                                                                                       'SLEET' in x) else x)\n",
    "crashes['WEATHER_CONDITION'] = crashes['WEATHER_CONDITION'].apply(lambda x: 'OTHER' if ('CROSS' in x or \n",
    "                                                                                        'SAND' in x) else x)\n",
    "crashes['WEATHER_CONDITION'].value_counts()"
   ]
  },
  {
   "cell_type": "markdown",
   "metadata": {},
   "source": [
    "**LIGHTING_CONDITION** column categories can also be categorized:"
   ]
  },
  {
   "cell_type": "code",
   "execution_count": 30,
   "metadata": {},
   "outputs": [
    {
     "data": {
      "text/plain": [
       "LIGHT         129948\n",
       "SOME_LIGHT     54405\n",
       "DARKNESS        9986\n",
       "UNKNOWN         7298\n",
       "Name: LIGHTING_CONDITION, dtype: int64"
      ]
     },
     "execution_count": 30,
     "metadata": {},
     "output_type": "execute_result"
    }
   ],
   "source": [
    "crashes['LIGHTING_CONDITION'] = crashes['LIGHTING_CONDITION'].apply(lambda x: 'LIGHT' if 'DAYLIGHT' in x else x)\n",
    "crashes['LIGHTING_CONDITION'] = crashes['LIGHTING_CONDITION'].apply(lambda x: 'SOME_LIGHT' if \n",
    "                                                                    ('ROAD' in x or 'DAWN' in x or \n",
    "                                                                     'DUSK' in x) else x)\n",
    "crashes['LIGHTING_CONDITION'].value_counts()"
   ]
  },
  {
   "cell_type": "markdown",
   "metadata": {},
   "source": [
    "**ROADWAY_SURFACE_COND** column can also be **binarized: 1** for **clean** (dry, no defect) **road condition, 0** for **defected** (ice, wet, sand, etc)"
   ]
  },
  {
   "cell_type": "code",
   "execution_count": 31,
   "metadata": {},
   "outputs": [
    {
     "data": {
      "text/plain": [
       "1    164449\n",
       "0     37188\n",
       "Name: GOOD_ROADWAY_SUFACE, dtype: int64"
      ]
     },
     "execution_count": 31,
     "metadata": {},
     "output_type": "execute_result"
    }
   ],
   "source": [
    "crashes['ROADWAY_SURFACE_COND'] = crashes['ROADWAY_SURFACE_COND'].apply(lambda x: 1 if \n",
    "                                                                        ('DRY' in x or 'UNKNOWN' in x ) else 0)\n",
    "crashes.rename(columns={'ROADWAY_SURFACE_COND': 'GOOD_ROADWAY_SUFACE'}, inplace = True)\n",
    "crashes['GOOD_ROADWAY_SUFACE'].value_counts()"
   ]
  },
  {
   "cell_type": "markdown",
   "metadata": {},
   "source": [
    "**ROAD_DEFECT** will be also binarized: **1 for defect, 0 for no defect**"
   ]
  },
  {
   "cell_type": "code",
   "execution_count": 32,
   "metadata": {},
   "outputs": [
    {
     "data": {
      "text/plain": [
       "0    197501\n",
       "1      4136\n",
       "Name: ROAD_DEFECT, dtype: int64"
      ]
     },
     "execution_count": 32,
     "metadata": {},
     "output_type": "execute_result"
    }
   ],
   "source": [
    "crashes['ROAD_DEFECT'] = crashes['ROAD_DEFECT'].apply(lambda x: 0 if ('NO DEFECTS' in x or 'UNKNOWN' in x ) else 1)\n",
    "crashes['ROAD_DEFECT'].value_counts()"
   ]
  },
  {
   "cell_type": "markdown",
   "metadata": {},
   "source": [
    "## Categorical Features of Crashes Dataset - Part III"
   ]
  },
  {
   "cell_type": "code",
   "execution_count": 33,
   "metadata": {},
   "outputs": [
    {
     "name": "stdout",
     "output_type": "stream",
     "text": [
      "PARKED MOTOR VEHICLE            47729\n",
      "REAR END                        45040\n",
      "SIDESWIPE SAME DIRECTION        28807\n",
      "TURNING                         28575\n",
      "ANGLE                           20881\n",
      "FIXED OBJECT                    10421\n",
      "PEDESTRIAN                       5052\n",
      "PEDALCYCLIST                     3119\n",
      "SIDESWIPE OPPOSITE DIRECTION     2812\n",
      "REAR TO FRONT                    2397\n",
      "OTHER OBJECT                     2184\n",
      "HEAD ON                          1580\n",
      "REAR TO SIDE                     1499\n",
      "OTHER NONCOLLISION                695\n",
      "REAR TO REAR                      542\n",
      "ANIMAL                            158\n",
      "OVERTURNED                        128\n",
      "TRAIN                              18\n",
      "Name: FIRST_CRASH_TYPE, dtype: int64\n",
      "\n",
      "\n",
      "NOT ON SCENE (DESK REPORT)    102303\n",
      "ON SCENE                       99334\n",
      "Name: REPORT_TYPE, dtype: int64\n",
      "\n",
      "\n",
      "NO INJURY / DRIVE AWAY              144582\n",
      "INJURY AND / OR TOW DUE TO CRASH     57055\n",
      "Name: CRASH_TYPE, dtype: int64\n",
      "\n",
      "\n",
      "OVER $1,500      120646\n",
      "$501 - $1,500     56002\n",
      "$500 OR LESS      24989\n",
      "Name: DAMAGE, dtype: int64\n",
      "\n",
      "\n"
     ]
    }
   ],
   "source": [
    "list_of_feat = ['FIRST_CRASH_TYPE', 'REPORT_TYPE', 'CRASH_TYPE', 'DAMAGE']\n",
    "ed.values(crashes, list_of_feat)"
   ]
  },
  {
   "cell_type": "markdown",
   "metadata": {},
   "source": [
    "For **FIRST_CRASH_TYPE** column, I will combine two sideswipe categories into one:"
   ]
  },
  {
   "cell_type": "code",
   "execution_count": 34,
   "metadata": {},
   "outputs": [
    {
     "data": {
      "text/plain": [
       "PARKED MOTOR VEHICLE    47729\n",
       "REAR END                45040\n",
       "SIDESWIPE               31619\n",
       "TURNING                 28575\n",
       "ANGLE                   20881\n",
       "FIXED OBJECT            10421\n",
       "PEDESTRIAN               5052\n",
       "PEDALCYCLIST             3119\n",
       "REAR TO FRONT            2397\n",
       "OTHER OBJECT             2184\n",
       "HEAD ON                  1580\n",
       "REAR TO SIDE             1499\n",
       "OTHER NONCOLLISION        695\n",
       "REAR TO REAR              542\n",
       "ANIMAL                    158\n",
       "OVERTURNED                128\n",
       "TRAIN                      18\n",
       "Name: FIRST_CRASH_TYPE, dtype: int64"
      ]
     },
     "execution_count": 34,
     "metadata": {},
     "output_type": "execute_result"
    }
   ],
   "source": [
    "crashes['FIRST_CRASH_TYPE'] = crashes['FIRST_CRASH_TYPE'].apply(lambda x: 'SIDESWIPE' if 'SIDESWIPE' in x  else x)\n",
    "crashes['FIRST_CRASH_TYPE'].value_counts()"
   ]
  },
  {
   "cell_type": "markdown",
   "metadata": {},
   "source": [
    "**REPORT_TYPE** column will become binary: **1 for DESK REPORT TYPE** and **0 for ON SCENE:**"
   ]
  },
  {
   "cell_type": "code",
   "execution_count": 35,
   "metadata": {},
   "outputs": [
    {
     "data": {
      "text/plain": [
       "1    102303\n",
       "0     99334\n",
       "Name: DESK_REPORT_TYPE, dtype: int64"
      ]
     },
     "execution_count": 35,
     "metadata": {},
     "output_type": "execute_result"
    }
   ],
   "source": [
    "crashes['REPORT_TYPE'] = crashes['REPORT_TYPE'].apply(lambda x: 1 if 'DESK' in x else 0)\n",
    "crashes.rename(columns={'REPORT_TYPE': 'DESK_REPORT_TYPE'}, inplace = True)\n",
    "crashes['DESK_REPORT_TYPE'].value_counts()"
   ]
  },
  {
   "cell_type": "markdown",
   "metadata": {},
   "source": [
    "I will leave two other columns: **CRASH_TYPE** and **DAMAGE** as they are."
   ]
  },
  {
   "cell_type": "markdown",
   "metadata": {},
   "source": [
    "## Categorical Features of Crashes Dataset - Part IV"
   ]
  },
  {
   "cell_type": "code",
   "execution_count": 36,
   "metadata": {},
   "outputs": [
    {
     "name": "stdout",
     "output_type": "stream",
     "text": [
      "UNABLE TO DETERMINE                                                                 76425\n",
      "FAILING TO YIELD RIGHT-OF-WAY                                                       21679\n",
      "FOLLOWING TOO CLOSELY                                                               19710\n",
      "NOT APPLICABLE                                                                      11038\n",
      "FAILING TO REDUCE SPEED TO AVOID CRASH                                              10000\n",
      "IMPROPER OVERTAKING/PASSING                                                          9197\n",
      "IMPROPER BACKING                                                                     8324\n",
      "IMPROPER LANE USAGE                                                                  7163\n",
      "IMPROPER TURNING/NO SIGNAL                                                           6725\n",
      "DRIVING SKILLS/KNOWLEDGE/EXPERIENCE                                                  6106\n",
      "DISREGARDING TRAFFIC SIGNALS                                                         4193\n",
      "WEATHER                                                                              3219\n",
      "OPERATING VEHICLE IN ERRATIC, RECKLESS, CARELESS, NEGLIGENT OR AGGRESSIVE MANNER     2668\n",
      "DISREGARDING STOP SIGN                                                               2430\n",
      "DISTRACTION - FROM INSIDE VEHICLE                                                    1533\n",
      "EQUIPMENT - VEHICLE CONDITION                                                        1442\n",
      "PHYSICAL CONDITION OF DRIVER                                                         1321\n",
      "UNDER THE INFLUENCE OF ALCOHOL/DRUGS (USE WHEN ARREST IS EFFECTED)                   1289\n",
      "VISION OBSCURED (SIGNS, TREE LIMBS, BUILDINGS, ETC.)                                 1234\n",
      "DRIVING ON WRONG SIDE/WRONG WAY                                                      1053\n",
      "DISTRACTION - FROM OUTSIDE VEHICLE                                                    929\n",
      "ROAD ENGINEERING/SURFACE/MARKING DEFECTS                                              594\n",
      "DISREGARDING OTHER TRAFFIC SIGNS                                                      459\n",
      "ROAD CONSTRUCTION/MAINTENANCE                                                         434\n",
      "EVASIVE ACTION DUE TO ANIMAL, OBJECT, NONMOTORIST                                     380\n",
      "CELL PHONE USE OTHER THAN TEXTING                                                     308\n",
      "EXCEEDING SAFE SPEED FOR CONDITIONS                                                   263\n",
      "DISREGARDING ROAD MARKINGS                                                            263\n",
      "HAD BEEN DRINKING (USE WHEN ARREST IS NOT MADE)                                       219\n",
      "EXCEEDING AUTHORIZED SPEED LIMIT                                                      194\n",
      "ANIMAL                                                                                194\n",
      "TURNING RIGHT ON RED                                                                  151\n",
      "RELATED TO BUS STOP                                                                   147\n",
      "DISTRACTION - OTHER ELECTRONIC DEVICE (NAVIGATION DEVICE, DVD PLAYER, ETC.)           116\n",
      "DISREGARDING YIELD SIGN                                                                85\n",
      "TEXTING                                                                                81\n",
      "OBSTRUCTED CROSSWALKS                                                                  27\n",
      "PASSING STOPPED SCHOOL BUS                                                             26\n",
      "BICYCLE ADVANCING LEGALLY ON RED LIGHT                                                 12\n",
      "MOTORCYCLE ADVANCING LEGALLY ON RED LIGHT                                               6\n",
      "Name: PRIM_CONTRIBUTORY_CAUSE, dtype: int64\n",
      "\n",
      "\n",
      "NOT APPLICABLE                                                                      87117\n",
      "UNABLE TO DETERMINE                                                                 71051\n",
      "FAILING TO REDUCE SPEED TO AVOID CRASH                                               8197\n",
      "DRIVING SKILLS/KNOWLEDGE/EXPERIENCE                                                  5772\n",
      "FAILING TO YIELD RIGHT-OF-WAY                                                        5392\n",
      "FOLLOWING TOO CLOSELY                                                                4813\n",
      "IMPROPER OVERTAKING/PASSING                                                          2771\n",
      "IMPROPER LANE USAGE                                                                  2585\n",
      "WEATHER                                                                              2295\n",
      "IMPROPER TURNING/NO SIGNAL                                                           1853\n",
      "IMPROPER BACKING                                                                     1477\n",
      "OPERATING VEHICLE IN ERRATIC, RECKLESS, CARELESS, NEGLIGENT OR AGGRESSIVE MANNER     1314\n",
      "DISREGARDING TRAFFIC SIGNALS                                                          777\n",
      "VISION OBSCURED (SIGNS, TREE LIMBS, BUILDINGS, ETC.)                                  649\n",
      "PHYSICAL CONDITION OF DRIVER                                                          626\n",
      "DISTRACTION - FROM INSIDE VEHICLE                                                     621\n",
      "DISREGARDING STOP SIGN                                                                500\n",
      "EQUIPMENT - VEHICLE CONDITION                                                         431\n",
      "UNDER THE INFLUENCE OF ALCOHOL/DRUGS (USE WHEN ARREST IS EFFECTED)                    384\n",
      "DRIVING ON WRONG SIDE/WRONG WAY                                                       380\n",
      "DISTRACTION - FROM OUTSIDE VEHICLE                                                    366\n",
      "HAD BEEN DRINKING (USE WHEN ARREST IS NOT MADE)                                       245\n",
      "ROAD CONSTRUCTION/MAINTENANCE                                                         219\n",
      "ROAD ENGINEERING/SURFACE/MARKING DEFECTS                                              219\n",
      "DISREGARDING OTHER TRAFFIC SIGNS                                                      211\n",
      "DISREGARDING ROAD MARKINGS                                                            208\n",
      "EXCEEDING SAFE SPEED FOR CONDITIONS                                                   188\n",
      "RELATED TO BUS STOP                                                                   170\n",
      "EXCEEDING AUTHORIZED SPEED LIMIT                                                      150\n",
      "CELL PHONE USE OTHER THAN TEXTING                                                     147\n",
      "EVASIVE ACTION DUE TO ANIMAL, OBJECT, NONMOTORIST                                     105\n",
      "ANIMAL                                                                                 80\n",
      "TURNING RIGHT ON RED                                                                   69\n",
      "DISTRACTION - OTHER ELECTRONIC DEVICE (NAVIGATION DEVICE, DVD PLAYER, ETC.)            56\n",
      "DISREGARDING YIELD SIGN                                                                50\n",
      "OBSTRUCTED CROSSWALKS                                                                  43\n",
      "BICYCLE ADVANCING LEGALLY ON RED LIGHT                                                 35\n",
      "TEXTING                                                                                34\n",
      "PASSING STOPPED SCHOOL BUS                                                             20\n",
      "MOTORCYCLE ADVANCING LEGALLY ON RED LIGHT                                              17\n",
      "Name: SEC_CONTRIBUTORY_CAUSE, dtype: int64\n",
      "\n",
      "\n",
      "NO INDICATION OF INJURY     172911\n",
      "NONINCAPACITATING INJURY     16392\n",
      "REPORTED, NOT EVIDENT         8521\n",
      "INCAPACITATING INJURY         3625\n",
      "FATAL                          188\n",
      "Name: MOST_SEVERE_INJURY, dtype: int64\n",
      "\n",
      "\n"
     ]
    }
   ],
   "source": [
    "list_of_feat = ['PRIM_CONTRIBUTORY_CAUSE', 'SEC_CONTRIBUTORY_CAUSE', 'MOST_SEVERE_INJURY']\n",
    "ed.values(crashes, list_of_feat)"
   ]
  },
  {
   "cell_type": "markdown",
   "metadata": {},
   "source": [
    "**I will keep those columns as they are for now and will investigate them deeper later on during EDA**"
   ]
  },
  {
   "cell_type": "markdown",
   "metadata": {},
   "source": [
    "## Explore People Dataset"
   ]
  },
  {
   "cell_type": "markdown",
   "metadata": {},
   "source": [
    "Now, explore People Data and check following information:\n",
    "* What columns do we have in each of the datasets\n",
    "* Are there any missing values in tables\n",
    "* Are there duplicates in data"
   ]
  },
  {
   "cell_type": "code",
   "execution_count": 37,
   "metadata": {},
   "outputs": [
    {
     "name": "stdout",
     "output_type": "stream",
     "text": [
      "Lenght of Dataset: 1095613\n",
      "                       missing_values_% Data_type\n",
      "PERSON_ID                      0.000000    object\n",
      "PERSON_TYPE                    0.000000    object\n",
      "CRASH_RECORD_ID                0.000000    object\n",
      "RD_NO                          0.706545    object\n",
      "VEHICLE_ID                     1.971317    object\n",
      "CRASH_DATE                     0.000000    object\n",
      "SEAT_NO                       79.582298    object\n",
      "CITY                          26.154491    object\n",
      "STATE                         25.322445    object\n",
      "ZIPCODE                       32.571903    object\n",
      "SEX                            1.485287    object\n",
      "AGE                           28.550136    object\n",
      "DRIVERS_LICENSE_STATE         40.752072    object\n",
      "DRIVERS_LICENSE_CLASS         48.649204    object\n",
      "SAFETY_EQUIPMENT               0.296090    object\n",
      "AIRBAG_DEPLOYED                1.885246    object\n",
      "EJECTION                       1.230909    object\n",
      "INJURY_CLASSIFICATION          0.052573    object\n",
      "HOSPITAL                      81.850708    object\n",
      "EMS_AGENCY                    88.482977    object\n",
      "EMS_RUN_NO                    98.128080    object\n",
      "DRIVER_ACTION                 20.609832    object\n",
      "DRIVER_VISION                 20.636301    object\n",
      "PHYSICAL_CONDITION            20.552239    object\n",
      "PEDPEDAL_ACTION               98.148890    object\n",
      "PEDPEDAL_VISIBILITY           98.152815    object\n",
      "PEDPEDAL_LOCATION             98.148799    object\n",
      "BAC_RESULT                    20.508154    object\n",
      "BAC_RESULT VALUE              99.871579    object\n",
      "CELL_PHONE_USE                99.894397    object\n"
     ]
    }
   ],
   "source": [
    "ed.show_info(people)"
   ]
  },
  {
   "cell_type": "markdown",
   "metadata": {},
   "source": [
    "Check for **duplicates in CRASH_RECORD_ID** column also."
   ]
  },
  {
   "cell_type": "code",
   "execution_count": 38,
   "metadata": {},
   "outputs": [
    {
     "data": {
      "text/plain": [
       "600634"
      ]
     },
     "execution_count": 38,
     "metadata": {},
     "output_type": "execute_result"
    }
   ],
   "source": [
    "people.CRASH_RECORD_ID.duplicated().sum()"
   ]
  },
  {
   "cell_type": "markdown",
   "metadata": {},
   "source": [
    "**Eploration Results:** \n",
    "- **People dataset** has significant amount of missing values in following columns: \n",
    "\n",
    "SEAT_NO, CITY, STATE, ZIPCODE, AGE, DRIVERS_LICENSE_STATE, DRIVERS_LICENSE_CLASS, HOSPITAL, EMS_AGENCY, EMS_RUN_NO, DRIVER_ACTION, DRIVER_VISION, PHYSICAL_CONDITION, PEDPEDAL_ACTION, PEDPEDAL_VISIBILITY, PEDPEDAL_LOCATION, BAC_RESULT, BAC_RESULT VALUE, CELL_PHONE_USE\n",
    "\n",
    "- **CRASH_RECORD_ID** has **563894 duplicated values** due to the fact that there were **multiple people involved in each crash.**"
   ]
  },
  {
   "cell_type": "markdown",
   "metadata": {},
   "source": [
    "### Investigate Columns with more than 90% Missing Values in People Dataset"
   ]
  },
  {
   "cell_type": "code",
   "execution_count": 39,
   "metadata": {
    "scrolled": false
   },
   "outputs": [
    {
     "name": "stdout",
     "output_type": "stream",
     "text": [
      "DNA                  3657\n",
      "NONE                 1446\n",
      "99                    986\n",
      "REFUSED               536\n",
      "55                    301\n",
      "                     ... \n",
      "REFUSED BY MOTHER       1\n",
      "AMB. 28                 1\n",
      "CDF AMB68               1\n",
      "EMS #35                 1\n",
      "06267                   1\n",
      "Name: EMS_RUN_NO, Length: 998, dtype: int64\n",
      "\n",
      "\n",
      "CROSSING - WITH SIGNAL                               4189\n",
      "WITH TRAFFIC                                         3277\n",
      "UNKNOWN/NA                                           2678\n",
      "OTHER ACTION                                         2635\n",
      "NO ACTION                                            1042\n",
      "CROSSING - AGAINST SIGNAL                            1016\n",
      "CROSSING - NO CONTROLS (NOT AT INTERSECTION)          907\n",
      "NOT AT INTERSECTION                                   887\n",
      "CROSSING - NO CONTROLS (AT INTERSECTION)              755\n",
      "AGAINST TRAFFIC                                       679\n",
      "STANDING IN ROADWAY                                   492\n",
      "CROSSING - CONTROLS PRESENT (NOT AT INTERSECTION)     446\n",
      "TURNING LEFT                                          262\n",
      "PARKED VEHICLE                                        243\n",
      "ENTER FROM DRIVE/ALLEY                                207\n",
      "INTOXICATED PED/PEDAL                                 153\n",
      "WORKING IN ROADWAY                                    140\n",
      "TURNING RIGHT                                         135\n",
      "PLAYING IN ROADWAY                                     86\n",
      "TO/FROM DISABLED VEHICLE                               15\n",
      "PLAYING/WORKING ON VEHICLE                             15\n",
      "SCHOOL BUS (WITHIN 50 FT.)                             12\n",
      "WAITING FOR SCHOOL BUS                                 10\n",
      "Name: PEDPEDAL_ACTION, dtype: int64\n",
      "\n",
      "\n",
      "NO CONTRASTING CLOTHING    15971\n",
      "CONTRASTING CLOTHING        2684\n",
      "OTHER LIGHT SOURCE USED     1072\n",
      "REFLECTIVE MATERIAL          511\n",
      "Name: PEDPEDAL_VISIBILITY, dtype: int64\n",
      "\n",
      "\n",
      "IN ROADWAY         9358\n",
      "IN CROSSWALK       6653\n",
      "UNKNOWN/NA         1659\n",
      "BIKEWAY             955\n",
      "NOT IN ROADWAY      904\n",
      "BIKE LANE           371\n",
      "DRIVEWAY ACCESS     304\n",
      "SHOULDER             78\n",
      "Name: PEDPEDAL_LOCATION, dtype: int64\n",
      "\n",
      "\n",
      "0.0000    141\n",
      "0.1700     97\n",
      "0.1800     97\n",
      "0.2100     83\n",
      "0.1400     81\n",
      "0.2000     73\n",
      "0.1600     68\n",
      "0.1500     65\n",
      "0.1900     64\n",
      "0.2300     59\n",
      "0.2200     57\n",
      "0.1300     52\n",
      "0.1200     52\n",
      "0.1100     50\n",
      "0.2400     43\n",
      "0.2600     29\n",
      "0.2700     28\n",
      "0.2500     26\n",
      "0.1000     25\n",
      "0.0900     24\n",
      "0.2800     21\n",
      "0.0300     15\n",
      "0.3000     15\n",
      "0.0700     14\n",
      "0.0800     14\n",
      "0.0400     14\n",
      "0.2900     12\n",
      "0.3300     12\n",
      "0.0500      9\n",
      "0.3200      8\n",
      "0.0600      7\n",
      "0.0200      7\n",
      "0.3100      6\n",
      "0.3800      6\n",
      "0.3500      5\n",
      "0.3400      4\n",
      "0.0100      3\n",
      "0.4500      2\n",
      "0.3600      2\n",
      "0.3900      2\n",
      "0.6000      2\n",
      "0.4400      2\n",
      "0.4000      1\n",
      "0.8000      1\n",
      "0.5800      1\n",
      "0.8800      1\n",
      "1.0000      1\n",
      "0.7900      1\n",
      "0.9500      1\n",
      "0.6700      1\n",
      "0.4100      1\n",
      "0.9900      1\n",
      "0.4700      1\n",
      "Name: BAC_RESULT VALUE, dtype: int64\n",
      "\n",
      "\n",
      "Y    752\n",
      "N    405\n",
      "Name: CELL_PHONE_USE, dtype: int64\n",
      "\n",
      "\n"
     ]
    }
   ],
   "source": [
    "# The \"missing_values\" function returns list of column names with missing values in a given range\n",
    "people_m_vals = ed.missing_values(people, 90, 100)\n",
    "# The \"values\" function prints out the value_counts for the list of columns passed\n",
    "ed.values(people, people_m_vals)"
   ]
  },
  {
   "cell_type": "markdown",
   "metadata": {},
   "source": [
    "**Result:** Most of the **columns** that are **missing more than 90%** of data in **People dataset** are the columns related to **pedastrian/biker activities**. Rest of the columns are about **EMS run number, cellphone usage and alcohol concentration in blood**. Since this values **can't be reproduced**, I will be **dropping** them. "
   ]
  },
  {
   "cell_type": "markdown",
   "metadata": {},
   "source": [
    "### Investigate Columns with ~80% Missing Values in People Dataset"
   ]
  },
  {
   "cell_type": "code",
   "execution_count": 40,
   "metadata": {},
   "outputs": [
    {
     "name": "stdout",
     "output_type": "stream",
     "text": [
      "REFUSED                                       66970\n",
      "DNA                                           27791\n",
      "NONE                                          16949\n",
      "99                                             6814\n",
      "DECLINED                                       4235\n",
      "                                              ...  \n",
      "GOING TO HAVE WIFE DRIVE HIM TO HIS DOCTOR        1\n",
      "LUTHERN GEN HOSPITAL                              1\n",
      "GRANDFATHER REFUSED                               1\n",
      "ILLINOIS MASONIC MEDICAL                          1\n",
      "COMMUNITY CENTRAL HOSPITAL                        1\n",
      "Name: HOSPITAL, Length: 5135, dtype: int64\n",
      "\n",
      "\n",
      "DNA                       24055\n",
      "CFD                       20951\n",
      "REFUSED                   12760\n",
      "NONE                       8483\n",
      "99                         6552\n",
      "                          ...  \n",
      "CPD 71                        1\n",
      "BURBANK 210                   1\n",
      "CHICAG FIRE DEPARTMENT        1\n",
      "CFD AMBULANCE # 70            1\n",
      "CFD #107 CFD #38              1\n",
      "Name: EMS_AGENCY, Length: 6160, dtype: int64\n",
      "\n",
      "\n"
     ]
    }
   ],
   "source": [
    "people_m_vals = ed.missing_values(people, 80,90)\n",
    "ed.values(people, people_m_vals)"
   ]
  },
  {
   "cell_type": "markdown",
   "metadata": {},
   "source": [
    "**Result:** The columns above represent the **Hospital**, the injured were taken and the **EMS agency** that took them there. Considering, I **cannot forge** the values, the columns **will be dropped.**"
   ]
  },
  {
   "cell_type": "markdown",
   "metadata": {},
   "source": [
    "### Investigate Columns with ~40% Missing Values in People Dataset"
   ]
  },
  {
   "cell_type": "code",
   "execution_count": 41,
   "metadata": {},
   "outputs": [
    {
     "name": "stdout",
     "output_type": "stream",
     "text": [
      "IL    597121\n",
      "XX     14049\n",
      "IN     10641\n",
      "WI      3418\n",
      "MI      2814\n",
      "       ...  \n",
      "ES         1\n",
      "BJ         1\n",
      "NZ         1\n",
      "DH         1\n",
      "CL         1\n",
      "Name: DRIVERS_LICENSE_STATE, Length: 184, dtype: int64\n",
      "\n",
      "\n",
      "D     490052\n",
      "A      19116\n",
      "C      15465\n",
      "B      15038\n",
      "DM      9164\n",
      "       ...  \n",
      "UP         1\n",
      "TA         1\n",
      "GV         1\n",
      "D6         1\n",
      "?          1\n",
      "Name: DRIVERS_LICENSE_CLASS, Length: 235, dtype: int64\n",
      "\n",
      "\n"
     ]
    }
   ],
   "source": [
    "people_m_vals = ed.missing_values(people, 40,50)\n",
    "ed.values(people, people_m_vals)"
   ]
  },
  {
   "cell_type": "markdown",
   "metadata": {},
   "source": [
    "**Result:** Since the \"DRIVERS_LICENSE_STATE\" column can be usefull in modeling, I will keep it for now in dataset. But as for \"DRIVERS_LICENSE_CLASS\", I will be dropping the column, due to the large amount of innacurate classes.\n",
    "\n",
    "* I am only aware of 8 legal drivel license classes."
   ]
  },
  {
   "cell_type": "markdown",
   "metadata": {},
   "source": [
    "## Clean People Dataset"
   ]
  },
  {
   "cell_type": "markdown",
   "metadata": {},
   "source": [
    "### Drop Columns\n",
    "I will drop columns stated above from People dataset"
   ]
  },
  {
   "cell_type": "code",
   "execution_count": 42,
   "metadata": {
    "scrolled": false
   },
   "outputs": [
    {
     "name": "stdout",
     "output_type": "stream",
     "text": [
      "Lenght of Dataset: 1095613\n",
      "                       missing_values_% Data_type\n",
      "PERSON_ID                      0.000000    object\n",
      "PERSON_TYPE                    0.000000    object\n",
      "CRASH_RECORD_ID                0.000000    object\n",
      "RD_NO                          0.706545    object\n",
      "VEHICLE_ID                     1.971317    object\n",
      "CRASH_DATE                     0.000000    object\n",
      "CITY                          26.154491    object\n",
      "STATE                         25.322445    object\n",
      "ZIPCODE                       32.571903    object\n",
      "SEX                            1.485287    object\n",
      "AGE                           28.550136    object\n",
      "DRIVERS_LICENSE_STATE         40.752072    object\n",
      "SAFETY_EQUIPMENT               0.296090    object\n",
      "AIRBAG_DEPLOYED                1.885246    object\n",
      "EJECTION                       1.230909    object\n",
      "INJURY_CLASSIFICATION          0.052573    object\n",
      "DRIVER_ACTION                 20.609832    object\n",
      "DRIVER_VISION                 20.636301    object\n",
      "PHYSICAL_CONDITION            20.552239    object\n",
      "BAC_RESULT                    20.508154    object\n"
     ]
    }
   ],
   "source": [
    "people_drop_cols = ed.missing_values(people, 48, 100)\n",
    "people.drop(columns = people_drop_cols,axis = 1, inplace = True)\n",
    "ed.show_info(people)"
   ]
  },
  {
   "cell_type": "markdown",
   "metadata": {},
   "source": [
    "I will also drop columns that are **already present** in Crashes Dataset or are **irrelevant to the modeling: PERSON_ID, RD_NO, CRASH_DATE, ZIPCODE, CITY, STATE.**"
   ]
  },
  {
   "cell_type": "code",
   "execution_count": 43,
   "metadata": {
    "scrolled": true
   },
   "outputs": [
    {
     "name": "stdout",
     "output_type": "stream",
     "text": [
      "Lenght of Dataset: 1095613\n",
      "                       missing_values_% Data_type\n",
      "PERSON_TYPE                    0.000000    object\n",
      "CRASH_RECORD_ID                0.000000    object\n",
      "VEHICLE_ID                     1.971317    object\n",
      "CRASH_DATE                     0.000000    object\n",
      "SEX                            1.485287    object\n",
      "AGE                           28.550136    object\n",
      "DRIVERS_LICENSE_STATE         40.752072    object\n",
      "SAFETY_EQUIPMENT               0.296090    object\n",
      "AIRBAG_DEPLOYED                1.885246    object\n",
      "EJECTION                       1.230909    object\n",
      "INJURY_CLASSIFICATION          0.052573    object\n",
      "DRIVER_ACTION                 20.609832    object\n",
      "DRIVER_VISION                 20.636301    object\n",
      "PHYSICAL_CONDITION            20.552239    object\n",
      "BAC_RESULT                    20.508154    object\n"
     ]
    }
   ],
   "source": [
    "columns = ['PERSON_ID', 'RD_NO', 'ZIPCODE', 'CITY', 'STATE']\n",
    "people.drop(columns = columns,axis = 1, inplace = True)\n",
    "ed.show_info(people)"
   ]
  },
  {
   "cell_type": "code",
   "execution_count": 44,
   "metadata": {},
   "outputs": [
    {
     "name": "stdout",
     "output_type": "stream",
     "text": [
      "Lenght of Dataset: 465973\n",
      "                       missing_values_% Data_type\n",
      "PERSON_TYPE                    0.000000    object\n",
      "CRASH_RECORD_ID                0.000000    object\n",
      "VEHICLE_ID                     2.202703    object\n",
      "SEX                            1.662543    object\n",
      "AGE                           27.981879    object\n",
      "DRIVERS_LICENSE_STATE         40.789917    object\n",
      "SAFETY_EQUIPMENT               0.349376    object\n",
      "AIRBAG_DEPLOYED                2.064712    object\n",
      "EJECTION                       1.360594    object\n",
      "INJURY_CLASSIFICATION          0.033049    object\n",
      "DRIVER_ACTION                 21.138778    object\n",
      "DRIVER_VISION                 21.175261    object\n",
      "PHYSICAL_CONDITION            21.068173    object\n",
      "BAC_RESULT                    21.098862    object\n"
     ]
    }
   ],
   "source": [
    "people['CRASH_DATE'] = pd.to_datetime(people['CRASH_DATE'])\n",
    "people['CRASH_YEAR'] = people['CRASH_DATE'].dt.year\n",
    "people = people[(people['CRASH_YEAR'] == 2019) | (people['CRASH_YEAR'] == 2020) ]\n",
    "people.drop(columns = [\"CRASH_DATE\", \"CRASH_YEAR\"],axis = 1, inplace = True)\n",
    "\n",
    "ed.show_info(people)"
   ]
  },
  {
   "cell_type": "markdown",
   "metadata": {},
   "source": [
    "I will **drop observations** from colums that are **missing less than 10%** of data."
   ]
  },
  {
   "cell_type": "code",
   "execution_count": 45,
   "metadata": {},
   "outputs": [
    {
     "name": "stdout",
     "output_type": "stream",
     "text": [
      "Lenght of Dataset: 448227\n",
      "                       missing_values_% Data_type\n",
      "PERSON_TYPE                    0.000000    object\n",
      "CRASH_RECORD_ID                0.000000    object\n",
      "VEHICLE_ID                     0.000000    object\n",
      "SEX                            0.000000    object\n",
      "AGE                           27.309377    object\n",
      "DRIVERS_LICENSE_STATE         38.519099    object\n",
      "SAFETY_EQUIPMENT               0.000000    object\n",
      "AIRBAG_DEPLOYED                0.000000    object\n",
      "EJECTION                       0.000000    object\n",
      "INJURY_CLASSIFICATION          0.000000    object\n",
      "DRIVER_ACTION                 20.067510    object\n",
      "DRIVER_VISION                 20.067734    object\n",
      "PHYSICAL_CONDITION            20.067957    object\n",
      "BAC_RESULT                    20.068180    object\n"
     ]
    }
   ],
   "source": [
    "people_m_vals = ed.missing_values(people, 0, 10)\n",
    "people.dropna(subset=people_m_vals, inplace = True)\n",
    "ed.show_info(people)"
   ]
  },
  {
   "cell_type": "markdown",
   "metadata": {},
   "source": [
    "### Convert to Numeric"
   ]
  },
  {
   "cell_type": "markdown",
   "metadata": {},
   "source": [
    "Since **AGE** is only one column that needs to be **converted to int** and still has NaN values, I will **drop observations with NaN values** and then convert. "
   ]
  },
  {
   "cell_type": "code",
   "execution_count": 46,
   "metadata": {},
   "outputs": [
    {
     "name": "stdout",
     "output_type": "stream",
     "text": [
      "Lenght of Dataset: 325819\n",
      "                       missing_values_% Data_type\n",
      "PERSON_TYPE                    0.000000    object\n",
      "CRASH_RECORD_ID                0.000000    object\n",
      "VEHICLE_ID                     0.000000    object\n",
      "SEX                            0.000000    object\n",
      "AGE                            0.000000     int64\n",
      "DRIVERS_LICENSE_STATE         21.085020    object\n",
      "SAFETY_EQUIPMENT               0.000000    object\n",
      "AIRBAG_DEPLOYED                0.000000    object\n",
      "EJECTION                       0.000000    object\n",
      "INJURY_CLASSIFICATION          0.000000    object\n",
      "DRIVER_ACTION                 18.423112    object\n",
      "DRIVER_VISION                 18.423112    object\n",
      "PHYSICAL_CONDITION            18.423419    object\n",
      "BAC_RESULT                    18.423726    object\n"
     ]
    }
   ],
   "source": [
    "people.dropna(subset = ['AGE'], inplace = True)\n",
    "people['AGE'] = people.AGE.astype(int)\n",
    "ed.show_info(people)"
   ]
  },
  {
   "cell_type": "markdown",
   "metadata": {},
   "source": [
    "## Categorical Features of People Dataset - Part I"
   ]
  },
  {
   "cell_type": "code",
   "execution_count": 47,
   "metadata": {},
   "outputs": [
    {
     "name": "stdout",
     "output_type": "stream",
     "text": [
      "DRIVER                 265769\n",
      "PASSENGER               60026\n",
      "NON-CONTACT VEHICLE        24\n",
      "Name: PERSON_TYPE, dtype: int64\n",
      "\n",
      "\n",
      "M    187332\n",
      "F    137961\n",
      "X       526\n",
      "Name: SEX, dtype: int64\n",
      "\n",
      "\n",
      "SAFETY BELT USED                       195302\n",
      "USAGE UNKNOWN                          115170\n",
      "NONE PRESENT                             8614\n",
      "SAFETY BELT NOT USED                     2152\n",
      "CHILD RESTRAINT - FORWARD FACING         1166\n",
      "CHILD RESTRAINT - REAR FACING             660\n",
      "CHILD RESTRAINT USED                      643\n",
      "CHILD RESTRAINT - TYPE UNKNOWN            628\n",
      "HELMET NOT USED                           484\n",
      "DOT COMPLIANT MOTORCYCLE HELMET           396\n",
      "BOOSTER SEAT                              318\n",
      "CHILD RESTRAINT NOT USED                  103\n",
      "NOT DOT COMPLIANT MOTORCYCLE HELMET        58\n",
      "SHOULD/LAP BELT USED IMPROPERLY            57\n",
      "CHILD RESTRAINT USED IMPROPERLY            34\n",
      "HELMET USED                                14\n",
      "WHEELCHAIR                                 12\n",
      "STRETCHER                                   8\n",
      "Name: SAFETY_EQUIPMENT, dtype: int64\n",
      "\n",
      "\n",
      "DID NOT DEPLOY                            203148\n",
      "NOT APPLICABLE                             80175\n",
      "DEPLOYED, FRONT                            14635\n",
      "DEPLOYMENT UNKNOWN                         13854\n",
      "DEPLOYED, COMBINATION                       9924\n",
      "DEPLOYED, SIDE                              3905\n",
      "DEPLOYED OTHER (KNEE, AIR, BELT, ETC.)       178\n",
      "Name: AIRBAG_DEPLOYED, dtype: int64\n",
      "\n",
      "\n",
      "NONE                  319735\n",
      "UNKNOWN                 5345\n",
      "TOTALLY EJECTED          477\n",
      "TRAPPED/EXTRICATED       157\n",
      "PARTIALLY EJECTED        105\n",
      "Name: EJECTION, dtype: int64\n",
      "\n",
      "\n"
     ]
    }
   ],
   "source": [
    "list_of_feat = ['PERSON_TYPE', 'SEX', 'SAFETY_EQUIPMENT', 'AIRBAG_DEPLOYED', 'EJECTION']\n",
    "ed.values(people, list_of_feat)"
   ]
  },
  {
   "cell_type": "markdown",
   "metadata": {},
   "source": [
    "For **PERSON_TYPE** column I will **drop observations** that have value of **\"NON-CONTACT VEHICLE\" and \"PASSANGER\"\"**. Also, I will remove the duplicated values from the dataset, such as duplicated crash id values. Since the goal of the project does not require passangers information."
   ]
  },
  {
   "cell_type": "code",
   "execution_count": 48,
   "metadata": {},
   "outputs": [
    {
     "data": {
      "text/plain": [
       "DRIVER    265769\n",
       "Name: PERSON_TYPE, dtype: int64"
      ]
     },
     "execution_count": 48,
     "metadata": {},
     "output_type": "execute_result"
    }
   ],
   "source": [
    "index_ptype = people[~(people['PERSON_TYPE'] == \"DRIVER\")].index \n",
    "people.drop(index_ptype, inplace=True)\n",
    "people['PERSON_TYPE'].value_counts()"
   ]
  },
  {
   "cell_type": "code",
   "execution_count": 49,
   "metadata": {},
   "outputs": [],
   "source": [
    "people.drop_duplicates(subset =\"CRASH_RECORD_ID\",\n",
    "                     keep = 'first', inplace = True)"
   ]
  },
  {
   "cell_type": "code",
   "execution_count": 50,
   "metadata": {},
   "outputs": [
    {
     "data": {
      "text/plain": [
       "M    102012\n",
       "F     65265\n",
       "X       248\n",
       "Name: SEX, dtype: int64"
      ]
     },
     "execution_count": 50,
     "metadata": {},
     "output_type": "execute_result"
    }
   ],
   "source": [
    "people.SEX.value_counts()"
   ]
  },
  {
   "cell_type": "markdown",
   "metadata": {},
   "source": [
    "As for **SEX** column, I will **binarize** it too: **1 for Male and 0 for Female**. The values of **X** will be dropped, assuming that X means \"no answer provided\""
   ]
  },
  {
   "cell_type": "code",
   "execution_count": 51,
   "metadata": {},
   "outputs": [
    {
     "data": {
      "text/plain": [
       "M    102012\n",
       "F     65265\n",
       "Name: SEX, dtype: int64"
      ]
     },
     "execution_count": 51,
     "metadata": {},
     "output_type": "execute_result"
    }
   ],
   "source": [
    "index_ptype = people[(people['SEX'] == \"X\")].index \n",
    "people.drop(index_ptype, inplace=True)\n",
    "people['SEX'].value_counts()"
   ]
  },
  {
   "cell_type": "code",
   "execution_count": 52,
   "metadata": {},
   "outputs": [
    {
     "data": {
      "text/plain": [
       "1    102012\n",
       "0     65265\n",
       "Name: MALE_PERSON, dtype: int64"
      ]
     },
     "execution_count": 52,
     "metadata": {},
     "output_type": "execute_result"
    }
   ],
   "source": [
    "people['SEX'] = people['SEX'].apply(lambda x: 1 if 'M' in x  else 0)\n",
    "people.rename(columns={'SEX': 'MALE_PERSON'}, inplace = True)\n",
    "people['MALE_PERSON'].value_counts()"
   ]
  },
  {
   "cell_type": "markdown",
   "metadata": {},
   "source": [
    "For **AIRBAG_DEPLOYED** column I will **binarize** it too: **1 for deployed and 0 for not deployed.**"
   ]
  },
  {
   "cell_type": "code",
   "execution_count": 53,
   "metadata": {},
   "outputs": [
    {
     "data": {
      "text/plain": [
       "0    152495\n",
       "1     14782\n",
       "Name: AIRBAG_DEPLOYED, dtype: int64"
      ]
     },
     "execution_count": 53,
     "metadata": {},
     "output_type": "execute_result"
    }
   ],
   "source": [
    "people['AIRBAG_DEPLOYED'] = people['AIRBAG_DEPLOYED'].apply(lambda x: 1 if 'DEPLOYED' in x else 0)\n",
    "people['AIRBAG_DEPLOYED'].value_counts()"
   ]
  },
  {
   "cell_type": "markdown",
   "metadata": {},
   "source": [
    "The **EJECTION** column will be binarized as: **1 for ejected and 0 for not.**"
   ]
  },
  {
   "cell_type": "code",
   "execution_count": 54,
   "metadata": {},
   "outputs": [
    {
     "data": {
      "text/plain": [
       "0    166916\n",
       "1       361\n",
       "Name: EJECTION, dtype: int64"
      ]
     },
     "execution_count": 54,
     "metadata": {},
     "output_type": "execute_result"
    }
   ],
   "source": [
    "people['EJECTION'] = people['EJECTION'].apply(lambda x: 1 if 'EJECTED' in x else 0)\n",
    "people['EJECTION'].value_counts()"
   ]
  },
  {
   "cell_type": "markdown",
   "metadata": {},
   "source": [
    "## Categorical Features of People Dataset - Part II"
   ]
  },
  {
   "cell_type": "code",
   "execution_count": 55,
   "metadata": {},
   "outputs": [
    {
     "name": "stdout",
     "output_type": "stream",
     "text": [
      "NO INDICATION OF INJURY     155053\n",
      "NONINCAPACITATING INJURY      7099\n",
      "REPORTED, NOT EVIDENT         3653\n",
      "INCAPACITATING INJURY         1368\n",
      "FATAL                          104\n",
      "Name: INJURY_CLASSIFICATION, dtype: int64\n",
      "\n",
      "\n",
      "NONE                                 44689\n",
      "UNKNOWN                              33457\n",
      "FAILED TO YIELD                      21871\n",
      "OTHER                                19199\n",
      "FOLLOWED TOO CLOSELY                 14666\n",
      "IMPROPER BACKING                      6543\n",
      "IMPROPER TURN                         6489\n",
      "IMPROPER LANE CHANGE                  5501\n",
      "TOO FAST FOR CONDITIONS               3946\n",
      "DISREGARDED CONTROL DEVICES           3910\n",
      "IMPROPER PASSING                      3815\n",
      "IMPROPER PARKING                       824\n",
      "WRONG WAY/SIDE                         741\n",
      "OVERCORRECTED                          538\n",
      "CELL PHONE USE OTHER THAN TEXTING      375\n",
      "EVADING POLICE VEHICLE                 371\n",
      "EMERGENCY VEHICLE ON CALL              222\n",
      "TEXTING                                100\n",
      "LICENSE RESTRICTIONS                    10\n",
      "STOPPED SCHOOL BUS                      10\n",
      "Name: DRIVER_ACTION, dtype: int64\n",
      "\n",
      "\n",
      "NOT OBSCURED              103350\n",
      "UNKNOWN                    57604\n",
      "OTHER                       2564\n",
      "MOVING VEHICLES             1390\n",
      "PARKED VEHICLES              997\n",
      "WINDSHIELD (WATER/ICE)       697\n",
      "BLINDED - SUNLIGHT           392\n",
      "TREES, PLANTS                123\n",
      "BUILDINGS                     84\n",
      "HILLCREST                     20\n",
      "BLOWING MATERIALS             20\n",
      "BLINDED - HEADLIGHTS          20\n",
      "EMBANKMENT                    12\n",
      "SIGNBOARD                      4\n",
      "Name: DRIVER_VISION, dtype: int64\n",
      "\n",
      "\n",
      "NORMAL                          134239\n",
      "UNKNOWN                          27379\n",
      "IMPAIRED - ALCOHOL                1671\n",
      "FATIGUED/ASLEEP                    966\n",
      "REMOVED BY EMS                     753\n",
      "OTHER                              698\n",
      "EMOTIONAL                          628\n",
      "ILLNESS/FAINTED                    344\n",
      "IMPAIRED - DRUGS                   215\n",
      "HAD BEEN DRINKING                  201\n",
      "IMPAIRED - ALCOHOL AND DRUGS       138\n",
      "MEDICATED                           45\n",
      "Name: PHYSICAL_CONDITION, dtype: int64\n",
      "\n",
      "\n",
      "TEST NOT OFFERED                   163263\n",
      "TEST REFUSED                         2512\n",
      "TEST TAKEN                            813\n",
      "TEST PERFORMED, RESULTS UNKNOWN       689\n",
      "Name: BAC_RESULT, dtype: int64\n",
      "\n",
      "\n"
     ]
    }
   ],
   "source": [
    "list_of_feat = ['INJURY_CLASSIFICATION', 'DRIVER_ACTION', 'DRIVER_VISION', 'PHYSICAL_CONDITION', 'BAC_RESULT']\n",
    "ed.values(people, list_of_feat)"
   ]
  },
  {
   "cell_type": "markdown",
   "metadata": {},
   "source": [
    "I will **drop** the **INJURY_CLASSIFICATION** column, because I already have the **same data in Crashes dataset**."
   ]
  },
  {
   "cell_type": "code",
   "execution_count": 56,
   "metadata": {},
   "outputs": [],
   "source": [
    "people.drop(columns = \"INJURY_CLASSIFICATION\",axis = 1, inplace = True)"
   ]
  },
  {
   "cell_type": "markdown",
   "metadata": {},
   "source": [
    "As for the **rest of the columns**, I will **keep them** as they are for now."
   ]
  },
  {
   "cell_type": "code",
   "execution_count": 57,
   "metadata": {},
   "outputs": [
    {
     "name": "stdout",
     "output_type": "stream",
     "text": [
      "Lenght of Dataset: 167277\n",
      "                       missing_values_% Data_type\n",
      "PERSON_TYPE                    0.000000    object\n",
      "CRASH_RECORD_ID                0.000000    object\n",
      "VEHICLE_ID                     0.000000    object\n",
      "MALE_PERSON                    0.000000     int64\n",
      "AGE                            0.000000     int64\n",
      "DRIVERS_LICENSE_STATE          4.032832    object\n",
      "SAFETY_EQUIPMENT               0.000000    object\n",
      "AIRBAG_DEPLOYED                0.000000     int64\n",
      "EJECTION                       0.000000     int64\n",
      "DRIVER_ACTION                  0.000000    object\n",
      "DRIVER_VISION                  0.000000    object\n",
      "PHYSICAL_CONDITION             0.000000    object\n",
      "BAC_RESULT                     0.000000    object\n"
     ]
    }
   ],
   "source": [
    "ed.show_info(people)"
   ]
  },
  {
   "cell_type": "code",
   "execution_count": 58,
   "metadata": {},
   "outputs": [
    {
     "name": "stdout",
     "output_type": "stream",
     "text": [
      "Lenght of Dataset: 201637\n",
      "                               missing_values_% Data_type\n",
      "CRASH_RECORD_ID                             0.0    object\n",
      "RD_NO                                       0.0    object\n",
      "CRASH_YEAR                                  0.0     int64\n",
      "CRASH_MONTH                                 0.0     int64\n",
      "CRASH_HOUR                                  0.0     int64\n",
      "CRASH_DAY_OF_WEEK                           0.0     int64\n",
      "POSTED_SPEED_LIMIT                          0.0     int64\n",
      "TRAFFIC_CONTROL_DEVICE                      0.0    object\n",
      "DEVICE_CONDITION                            0.0    object\n",
      "WEATHER_CONDITION                           0.0    object\n",
      "LIGHTING_CONDITION                          0.0    object\n",
      "FIRST_CRASH_TYPE                            0.0    object\n",
      "TRAFFICWAY_TYPE                             0.0    object\n",
      "STRAIGHT_ALIGNMENT                          0.0     int64\n",
      "GOOD_ROADWAY_SUFACE                         0.0     int64\n",
      "ROAD_DEFECT                                 0.0     int64\n",
      "DESK_REPORT_TYPE                            0.0     int64\n",
      "CRASH_TYPE                                  0.0    object\n",
      "DAMAGE                                      0.0    object\n",
      "DATE_POLICE_NOTIFIED                        0.0    object\n",
      "PRIM_CONTRIBUTORY_CAUSE                     0.0    object\n",
      "SEC_CONTRIBUTORY_CAUSE                      0.0    object\n",
      "STREET_NO                                   0.0     int64\n",
      "STREET_DIRECTION                            0.0    object\n",
      "STREET_NAME                                 0.0    object\n",
      "BEAT_OF_OCCURRENCE                          0.0     int64\n",
      "NUM_UNITS                                   0.0     int64\n",
      "MOST_SEVERE_INJURY                          0.0    object\n",
      "INJURIES_TOTAL                              0.0     int64\n",
      "INJURIES_FATAL                              0.0     int64\n",
      "INJURIES_INCAPACITATING                     0.0     int64\n",
      "INJURIES_NON_INCAPACITATING                 0.0     int64\n",
      "INJURIES_REPORTED_NOT_EVIDENT               0.0     int64\n",
      "INJURIES_NO_INDICATION                      0.0     int64\n",
      "INJURIES_UNKNOWN                            0.0     int64\n",
      "LATITUDE                                    0.0    object\n",
      "LONGITUDE                                   0.0    object\n",
      "LOCATION                                    0.0    object\n"
     ]
    }
   ],
   "source": [
    "ed.show_info(crashes)"
   ]
  },
  {
   "cell_type": "markdown",
   "metadata": {},
   "source": [
    "## Merge Datasets"
   ]
  },
  {
   "cell_type": "markdown",
   "metadata": {},
   "source": [
    "I will **merge two datasets** and create one combined. The **People dataframe has a duplicates** of the **CRASH_RECORD_ID**, since in one car crash there could be **multiple injured people**."
   ]
  },
  {
   "cell_type": "code",
   "execution_count": 59,
   "metadata": {},
   "outputs": [
    {
     "name": "stdout",
     "output_type": "stream",
     "text": [
      "Lenght of Dataset: 160657\n",
      "                               missing_values_% Data_type\n",
      "CRASH_RECORD_ID                        0.000000    object\n",
      "RD_NO                                  0.000000    object\n",
      "CRASH_YEAR                             0.000000     int64\n",
      "CRASH_MONTH                            0.000000     int64\n",
      "CRASH_HOUR                             0.000000     int64\n",
      "CRASH_DAY_OF_WEEK                      0.000000     int64\n",
      "POSTED_SPEED_LIMIT                     0.000000     int64\n",
      "TRAFFIC_CONTROL_DEVICE                 0.000000    object\n",
      "DEVICE_CONDITION                       0.000000    object\n",
      "WEATHER_CONDITION                      0.000000    object\n",
      "LIGHTING_CONDITION                     0.000000    object\n",
      "FIRST_CRASH_TYPE                       0.000000    object\n",
      "TRAFFICWAY_TYPE                        0.000000    object\n",
      "STRAIGHT_ALIGNMENT                     0.000000     int64\n",
      "GOOD_ROADWAY_SUFACE                    0.000000     int64\n",
      "ROAD_DEFECT                            0.000000     int64\n",
      "DESK_REPORT_TYPE                       0.000000     int64\n",
      "CRASH_TYPE                             0.000000    object\n",
      "DAMAGE                                 0.000000    object\n",
      "DATE_POLICE_NOTIFIED                   0.000000    object\n",
      "PRIM_CONTRIBUTORY_CAUSE                0.000000    object\n",
      "SEC_CONTRIBUTORY_CAUSE                 0.000000    object\n",
      "STREET_NO                              0.000000     int64\n",
      "STREET_DIRECTION                       0.000000    object\n",
      "STREET_NAME                            0.000000    object\n",
      "BEAT_OF_OCCURRENCE                     0.000000     int64\n",
      "NUM_UNITS                              0.000000     int64\n",
      "MOST_SEVERE_INJURY                     0.000000    object\n",
      "INJURIES_TOTAL                         0.000000     int64\n",
      "INJURIES_FATAL                         0.000000     int64\n",
      "INJURIES_INCAPACITATING                0.000000     int64\n",
      "INJURIES_NON_INCAPACITATING            0.000000     int64\n",
      "INJURIES_REPORTED_NOT_EVIDENT          0.000000     int64\n",
      "INJURIES_NO_INDICATION                 0.000000     int64\n",
      "INJURIES_UNKNOWN                       0.000000     int64\n",
      "LATITUDE                               0.000000    object\n",
      "LONGITUDE                              0.000000    object\n",
      "LOCATION                               0.000000    object\n",
      "PERSON_TYPE                            0.000000    object\n",
      "VEHICLE_ID                             0.000000    object\n",
      "MALE_PERSON                            0.000000     int64\n",
      "AGE                                    0.000000     int64\n",
      "DRIVERS_LICENSE_STATE                  4.029703    object\n",
      "SAFETY_EQUIPMENT                       0.000000    object\n",
      "AIRBAG_DEPLOYED                        0.000000     int64\n",
      "EJECTION                               0.000000     int64\n",
      "DRIVER_ACTION                          0.000000    object\n",
      "DRIVER_VISION                          0.000000    object\n",
      "PHYSICAL_CONDITION                     0.000000    object\n",
      "BAC_RESULT                             0.000000    object\n"
     ]
    }
   ],
   "source": [
    "df = pd.merge(left=crashes, right=people, left_on='CRASH_RECORD_ID', right_on='CRASH_RECORD_ID', how = 'inner')\n",
    "ed.show_info(df)"
   ]
  },
  {
   "cell_type": "markdown",
   "metadata": {},
   "source": [
    "## Clean Merged Dataset"
   ]
  },
  {
   "cell_type": "markdown",
   "metadata": {},
   "source": [
    "### Drop Rows with Missing Values"
   ]
  },
  {
   "cell_type": "code",
   "execution_count": 60,
   "metadata": {},
   "outputs": [
    {
     "name": "stdout",
     "output_type": "stream",
     "text": [
      "Lenght of Dataset: 154183\n",
      "                               missing_values_% Data_type\n",
      "CRASH_RECORD_ID                             0.0    object\n",
      "RD_NO                                       0.0    object\n",
      "CRASH_YEAR                                  0.0     int64\n",
      "CRASH_MONTH                                 0.0     int64\n",
      "CRASH_HOUR                                  0.0     int64\n",
      "CRASH_DAY_OF_WEEK                           0.0     int64\n",
      "POSTED_SPEED_LIMIT                          0.0     int64\n",
      "TRAFFIC_CONTROL_DEVICE                      0.0    object\n",
      "DEVICE_CONDITION                            0.0    object\n",
      "WEATHER_CONDITION                           0.0    object\n",
      "LIGHTING_CONDITION                          0.0    object\n",
      "FIRST_CRASH_TYPE                            0.0    object\n",
      "TRAFFICWAY_TYPE                             0.0    object\n",
      "STRAIGHT_ALIGNMENT                          0.0     int64\n",
      "GOOD_ROADWAY_SUFACE                         0.0     int64\n",
      "ROAD_DEFECT                                 0.0     int64\n",
      "DESK_REPORT_TYPE                            0.0     int64\n",
      "CRASH_TYPE                                  0.0    object\n",
      "DAMAGE                                      0.0    object\n",
      "DATE_POLICE_NOTIFIED                        0.0    object\n",
      "PRIM_CONTRIBUTORY_CAUSE                     0.0    object\n",
      "SEC_CONTRIBUTORY_CAUSE                      0.0    object\n",
      "STREET_NO                                   0.0     int64\n",
      "STREET_DIRECTION                            0.0    object\n",
      "STREET_NAME                                 0.0    object\n",
      "BEAT_OF_OCCURRENCE                          0.0     int64\n",
      "NUM_UNITS                                   0.0     int64\n",
      "MOST_SEVERE_INJURY                          0.0    object\n",
      "INJURIES_TOTAL                              0.0     int64\n",
      "INJURIES_FATAL                              0.0     int64\n",
      "INJURIES_INCAPACITATING                     0.0     int64\n",
      "INJURIES_NON_INCAPACITATING                 0.0     int64\n",
      "INJURIES_REPORTED_NOT_EVIDENT               0.0     int64\n",
      "INJURIES_NO_INDICATION                      0.0     int64\n",
      "INJURIES_UNKNOWN                            0.0     int64\n",
      "LATITUDE                                    0.0    object\n",
      "LONGITUDE                                   0.0    object\n",
      "LOCATION                                    0.0    object\n",
      "PERSON_TYPE                                 0.0    object\n",
      "VEHICLE_ID                                  0.0    object\n",
      "MALE_PERSON                                 0.0     int64\n",
      "AGE                                         0.0     int64\n",
      "DRIVERS_LICENSE_STATE                       0.0    object\n",
      "SAFETY_EQUIPMENT                            0.0    object\n",
      "AIRBAG_DEPLOYED                             0.0     int64\n",
      "EJECTION                                    0.0     int64\n",
      "DRIVER_ACTION                               0.0    object\n",
      "DRIVER_VISION                               0.0    object\n",
      "PHYSICAL_CONDITION                          0.0    object\n",
      "BAC_RESULT                                  0.0    object\n"
     ]
    }
   ],
   "source": [
    "df.dropna(inplace = True)\n",
    "ed.show_info(df)"
   ]
  },
  {
   "cell_type": "markdown",
   "metadata": {},
   "source": [
    "Now I will see if I can drop **SEC_CONTRIBUTORY_CAUSE**, but first I'll try to replace **PRIM_CONTRIBUTORY_CAUSE** that are not determined by **PRIM_CONTRIBUTORY_CAUSE** values if they exist."
   ]
  },
  {
   "cell_type": "code",
   "execution_count": 61,
   "metadata": {},
   "outputs": [
    {
     "data": {
      "text/plain": [
       "UNABLE TO DETERMINE                                                                 47740\n",
       "FAILING TO YIELD RIGHT-OF-WAY                                                       19484\n",
       "FOLLOWING TOO CLOSELY                                                               18125\n",
       "FAILING TO REDUCE SPEED TO AVOID CRASH                                               8485\n",
       "IMPROPER OVERTAKING/PASSING                                                          8049\n",
       "NOT APPLICABLE                                                                       7459\n",
       "IMPROPER BACKING                                                                     6109\n",
       "IMPROPER TURNING/NO SIGNAL                                                           6066\n",
       "IMPROPER LANE USAGE                                                                  6038\n",
       "DRIVING SKILLS/KNOWLEDGE/EXPERIENCE                                                  4681\n",
       "DISREGARDING TRAFFIC SIGNALS                                                         3855\n",
       "WEATHER                                                                              2890\n",
       "DISREGARDING STOP SIGN                                                               2174\n",
       "OPERATING VEHICLE IN ERRATIC, RECKLESS, CARELESS, NEGLIGENT OR AGGRESSIVE MANNER     1678\n",
       "DISTRACTION - FROM INSIDE VEHICLE                                                    1403\n",
       "EQUIPMENT - VEHICLE CONDITION                                                        1313\n",
       "UNDER THE INFLUENCE OF ALCOHOL/DRUGS (USE WHEN ARREST IS EFFECTED)                   1182\n",
       "PHYSICAL CONDITION OF DRIVER                                                         1162\n",
       "VISION OBSCURED (SIGNS, TREE LIMBS, BUILDINGS, ETC.)                                 1162\n",
       "DISTRACTION - FROM OUTSIDE VEHICLE                                                    847\n",
       "DRIVING ON WRONG SIDE/WRONG WAY                                                       819\n",
       "ROAD ENGINEERING/SURFACE/MARKING DEFECTS                                              565\n",
       "DISREGARDING OTHER TRAFFIC SIGNS                                                      416\n",
       "ROAD CONSTRUCTION/MAINTENANCE                                                         403\n",
       "EVASIVE ACTION DUE TO ANIMAL, OBJECT, NONMOTORIST                                     353\n",
       "CELL PHONE USE OTHER THAN TEXTING                                                     273\n",
       "DISREGARDING ROAD MARKINGS                                                            228\n",
       "EXCEEDING SAFE SPEED FOR CONDITIONS                                                   221\n",
       "ANIMAL                                                                                169\n",
       "EXCEEDING AUTHORIZED SPEED LIMIT                                                      138\n",
       "TURNING RIGHT ON RED                                                                  135\n",
       "HAD BEEN DRINKING (USE WHEN ARREST IS NOT MADE)                                       135\n",
       "RELATED TO BUS STOP                                                                   124\n",
       "DISTRACTION - OTHER ELECTRONIC DEVICE (NAVIGATION DEVICE, DVD PLAYER, ETC.)           105\n",
       "DISREGARDING YIELD SIGN                                                                75\n",
       "TEXTING                                                                                70\n",
       "OBSTRUCTED CROSSWALKS                                                                  25\n",
       "PASSING STOPPED SCHOOL BUS                                                             17\n",
       "BICYCLE ADVANCING LEGALLY ON RED LIGHT                                                  6\n",
       "MOTORCYCLE ADVANCING LEGALLY ON RED LIGHT                                               4\n",
       "Name: PRIM_CONTRIBUTORY_CAUSE, dtype: int64"
      ]
     },
     "execution_count": 61,
     "metadata": {},
     "output_type": "execute_result"
    }
   ],
   "source": [
    "df.PRIM_CONTRIBUTORY_CAUSE.value_counts()"
   ]
  },
  {
   "cell_type": "code",
   "execution_count": 62,
   "metadata": {},
   "outputs": [],
   "source": [
    "for index, row in df.iterrows(): \n",
    "    if df.loc[index,'PRIM_CONTRIBUTORY_CAUSE'] == 'UNABLE TO DETERMINE':\n",
    "        if (df.loc[index,'SEC_CONTRIBUTORY_CAUSE'] != 'UNABLE TO DETERMINE') & (df.loc[index,'SEC_CONTRIBUTORY_CAUSE'] != 'NOT APPLICABLE'):\n",
    "            df.loc[index,'PRIM_CONTRIBUTORY_CAUSE'] = df.loc[index,'SEC_CONTRIBUTORY_CAUSE']"
   ]
  },
  {
   "cell_type": "code",
   "execution_count": 63,
   "metadata": {},
   "outputs": [
    {
     "data": {
      "text/plain": [
       "UNABLE TO DETERMINE                                                                 46361\n",
       "FAILING TO YIELD RIGHT-OF-WAY                                                       19601\n",
       "FOLLOWING TOO CLOSELY                                                               18257\n",
       "FAILING TO REDUCE SPEED TO AVOID CRASH                                               8625\n",
       "IMPROPER OVERTAKING/PASSING                                                          8102\n",
       "NOT APPLICABLE                                                                       7459\n",
       "IMPROPER BACKING                                                                     6153\n",
       "IMPROPER LANE USAGE                                                                  6136\n",
       "IMPROPER TURNING/NO SIGNAL                                                           6092\n",
       "DRIVING SKILLS/KNOWLEDGE/EXPERIENCE                                                  4952\n",
       "DISREGARDING TRAFFIC SIGNALS                                                         3877\n",
       "WEATHER                                                                              3043\n",
       "DISREGARDING STOP SIGN                                                               2190\n",
       "OPERATING VEHICLE IN ERRATIC, RECKLESS, CARELESS, NEGLIGENT OR AGGRESSIVE MANNER     1689\n",
       "DISTRACTION - FROM INSIDE VEHICLE                                                    1418\n",
       "EQUIPMENT - VEHICLE CONDITION                                                        1339\n",
       "PHYSICAL CONDITION OF DRIVER                                                         1226\n",
       "UNDER THE INFLUENCE OF ALCOHOL/DRUGS (USE WHEN ARREST IS EFFECTED)                   1193\n",
       "VISION OBSCURED (SIGNS, TREE LIMBS, BUILDINGS, ETC.)                                 1192\n",
       "DISTRACTION - FROM OUTSIDE VEHICLE                                                    858\n",
       "DRIVING ON WRONG SIDE/WRONG WAY                                                       828\n",
       "ROAD ENGINEERING/SURFACE/MARKING DEFECTS                                              573\n",
       "DISREGARDING OTHER TRAFFIC SIGNS                                                      428\n",
       "ROAD CONSTRUCTION/MAINTENANCE                                                         413\n",
       "EVASIVE ACTION DUE TO ANIMAL, OBJECT, NONMOTORIST                                     354\n",
       "CELL PHONE USE OTHER THAN TEXTING                                                     278\n",
       "DISREGARDING ROAD MARKINGS                                                            233\n",
       "EXCEEDING SAFE SPEED FOR CONDITIONS                                                   224\n",
       "ANIMAL                                                                                173\n",
       "HAD BEEN DRINKING (USE WHEN ARREST IS NOT MADE)                                       173\n",
       "EXCEEDING AUTHORIZED SPEED LIMIT                                                      141\n",
       "TURNING RIGHT ON RED                                                                  139\n",
       "RELATED TO BUS STOP                                                                   136\n",
       "DISTRACTION - OTHER ELECTRONIC DEVICE (NAVIGATION DEVICE, DVD PLAYER, ETC.)           106\n",
       "DISREGARDING YIELD SIGN                                                                83\n",
       "TEXTING                                                                                70\n",
       "OBSTRUCTED CROSSWALKS                                                                  32\n",
       "PASSING STOPPED SCHOOL BUS                                                             17\n",
       "BICYCLE ADVANCING LEGALLY ON RED LIGHT                                                 11\n",
       "MOTORCYCLE ADVANCING LEGALLY ON RED LIGHT                                               8\n",
       "Name: PRIM_CONTRIBUTORY_CAUSE, dtype: int64"
      ]
     },
     "execution_count": 63,
     "metadata": {},
     "output_type": "execute_result"
    }
   ],
   "source": [
    "df.PRIM_CONTRIBUTORY_CAUSE.value_counts()"
   ]
  },
  {
   "cell_type": "code",
   "execution_count": 64,
   "metadata": {},
   "outputs": [],
   "source": [
    "df.drop(['SEC_CONTRIBUTORY_CAUSE'],axis = 1, inplace = True)"
   ]
  },
  {
   "cell_type": "markdown",
   "metadata": {},
   "source": [
    "Due to the fact that observations with **undetermiate cause** will not be helpful in modeling, I will **drop them** too."
   ]
  },
  {
   "cell_type": "code",
   "execution_count": 65,
   "metadata": {},
   "outputs": [],
   "source": [
    "index_ptype = df[~(df['PRIM_CONTRIBUTORY_CAUSE'] != 'NOT APPLICABLE')].index \n",
    "df.drop(index_ptype, inplace=True)\n",
    "\n",
    "index_ptype = df[~(df['PRIM_CONTRIBUTORY_CAUSE'] != 'UNABLE TO DETERMINE')].index \n",
    "df.drop(index_ptype, inplace=True)"
   ]
  },
  {
   "cell_type": "code",
   "execution_count": 66,
   "metadata": {},
   "outputs": [
    {
     "data": {
      "text/plain": [
       "FAILING TO YIELD RIGHT-OF-WAY                                                       19601\n",
       "FOLLOWING TOO CLOSELY                                                               18257\n",
       "FAILING TO REDUCE SPEED TO AVOID CRASH                                               8625\n",
       "IMPROPER OVERTAKING/PASSING                                                          8102\n",
       "IMPROPER BACKING                                                                     6153\n",
       "IMPROPER LANE USAGE                                                                  6136\n",
       "IMPROPER TURNING/NO SIGNAL                                                           6092\n",
       "DRIVING SKILLS/KNOWLEDGE/EXPERIENCE                                                  4952\n",
       "DISREGARDING TRAFFIC SIGNALS                                                         3877\n",
       "WEATHER                                                                              3043\n",
       "DISREGARDING STOP SIGN                                                               2190\n",
       "OPERATING VEHICLE IN ERRATIC, RECKLESS, CARELESS, NEGLIGENT OR AGGRESSIVE MANNER     1689\n",
       "DISTRACTION - FROM INSIDE VEHICLE                                                    1418\n",
       "EQUIPMENT - VEHICLE CONDITION                                                        1339\n",
       "PHYSICAL CONDITION OF DRIVER                                                         1226\n",
       "UNDER THE INFLUENCE OF ALCOHOL/DRUGS (USE WHEN ARREST IS EFFECTED)                   1193\n",
       "VISION OBSCURED (SIGNS, TREE LIMBS, BUILDINGS, ETC.)                                 1192\n",
       "DISTRACTION - FROM OUTSIDE VEHICLE                                                    858\n",
       "DRIVING ON WRONG SIDE/WRONG WAY                                                       828\n",
       "ROAD ENGINEERING/SURFACE/MARKING DEFECTS                                              573\n",
       "DISREGARDING OTHER TRAFFIC SIGNS                                                      428\n",
       "ROAD CONSTRUCTION/MAINTENANCE                                                         413\n",
       "EVASIVE ACTION DUE TO ANIMAL, OBJECT, NONMOTORIST                                     354\n",
       "CELL PHONE USE OTHER THAN TEXTING                                                     278\n",
       "DISREGARDING ROAD MARKINGS                                                            233\n",
       "EXCEEDING SAFE SPEED FOR CONDITIONS                                                   224\n",
       "ANIMAL                                                                                173\n",
       "HAD BEEN DRINKING (USE WHEN ARREST IS NOT MADE)                                       173\n",
       "EXCEEDING AUTHORIZED SPEED LIMIT                                                      141\n",
       "TURNING RIGHT ON RED                                                                  139\n",
       "RELATED TO BUS STOP                                                                   136\n",
       "DISTRACTION - OTHER ELECTRONIC DEVICE (NAVIGATION DEVICE, DVD PLAYER, ETC.)           106\n",
       "DISREGARDING YIELD SIGN                                                                83\n",
       "TEXTING                                                                                70\n",
       "OBSTRUCTED CROSSWALKS                                                                  32\n",
       "PASSING STOPPED SCHOOL BUS                                                             17\n",
       "BICYCLE ADVANCING LEGALLY ON RED LIGHT                                                 11\n",
       "MOTORCYCLE ADVANCING LEGALLY ON RED LIGHT                                               8\n",
       "Name: PRIM_CONTRIBUTORY_CAUSE, dtype: int64"
      ]
     },
     "execution_count": 66,
     "metadata": {},
     "output_type": "execute_result"
    }
   ],
   "source": [
    "df.PRIM_CONTRIBUTORY_CAUSE.value_counts()"
   ]
  },
  {
   "cell_type": "code",
   "execution_count": 67,
   "metadata": {},
   "outputs": [
    {
     "name": "stdout",
     "output_type": "stream",
     "text": [
      "Lenght of Dataset: 100363\n",
      "                               missing_values_% Data_type\n",
      "CRASH_RECORD_ID                             0.0    object\n",
      "RD_NO                                       0.0    object\n",
      "CRASH_YEAR                                  0.0     int64\n",
      "CRASH_MONTH                                 0.0     int64\n",
      "CRASH_HOUR                                  0.0     int64\n",
      "CRASH_DAY_OF_WEEK                           0.0     int64\n",
      "POSTED_SPEED_LIMIT                          0.0     int64\n",
      "TRAFFIC_CONTROL_DEVICE                      0.0    object\n",
      "DEVICE_CONDITION                            0.0    object\n",
      "WEATHER_CONDITION                           0.0    object\n",
      "LIGHTING_CONDITION                          0.0    object\n",
      "FIRST_CRASH_TYPE                            0.0    object\n",
      "TRAFFICWAY_TYPE                             0.0    object\n",
      "STRAIGHT_ALIGNMENT                          0.0     int64\n",
      "GOOD_ROADWAY_SUFACE                         0.0     int64\n",
      "ROAD_DEFECT                                 0.0     int64\n",
      "DESK_REPORT_TYPE                            0.0     int64\n",
      "CRASH_TYPE                                  0.0    object\n",
      "DAMAGE                                      0.0    object\n",
      "DATE_POLICE_NOTIFIED                        0.0    object\n",
      "PRIM_CONTRIBUTORY_CAUSE                     0.0    object\n",
      "STREET_NO                                   0.0     int64\n",
      "STREET_DIRECTION                            0.0    object\n",
      "STREET_NAME                                 0.0    object\n",
      "BEAT_OF_OCCURRENCE                          0.0     int64\n",
      "NUM_UNITS                                   0.0     int64\n",
      "MOST_SEVERE_INJURY                          0.0    object\n",
      "INJURIES_TOTAL                              0.0     int64\n",
      "INJURIES_FATAL                              0.0     int64\n",
      "INJURIES_INCAPACITATING                     0.0     int64\n",
      "INJURIES_NON_INCAPACITATING                 0.0     int64\n",
      "INJURIES_REPORTED_NOT_EVIDENT               0.0     int64\n",
      "INJURIES_NO_INDICATION                      0.0     int64\n",
      "INJURIES_UNKNOWN                            0.0     int64\n",
      "LATITUDE                                    0.0    object\n",
      "LONGITUDE                                   0.0    object\n",
      "LOCATION                                    0.0    object\n",
      "PERSON_TYPE                                 0.0    object\n",
      "VEHICLE_ID                                  0.0    object\n",
      "MALE_PERSON                                 0.0     int64\n",
      "AGE                                         0.0     int64\n",
      "DRIVERS_LICENSE_STATE                       0.0    object\n",
      "SAFETY_EQUIPMENT                            0.0    object\n",
      "AIRBAG_DEPLOYED                             0.0     int64\n",
      "EJECTION                                    0.0     int64\n",
      "DRIVER_ACTION                               0.0    object\n",
      "DRIVER_VISION                               0.0    object\n",
      "PHYSICAL_CONDITION                          0.0    object\n",
      "BAC_RESULT                                  0.0    object\n"
     ]
    }
   ],
   "source": [
    "ed.show_info(df)"
   ]
  },
  {
   "cell_type": "code",
   "execution_count": 68,
   "metadata": {},
   "outputs": [
    {
     "data": {
      "text/plain": [
       "IL    93742\n",
       "IN     1705\n",
       "WI      590\n",
       "MI      515\n",
       "FL      372\n",
       "      ...  \n",
       "ZD        1\n",
       "SX        1\n",
       "BU        1\n",
       "LD        1\n",
       "DR        1\n",
       "Name: DRIVERS_LICENSE_STATE, Length: 121, dtype: int64"
      ]
     },
     "execution_count": 68,
     "metadata": {},
     "output_type": "execute_result"
    }
   ],
   "source": [
    "df.DRIVERS_LICENSE_STATE.value_counts()"
   ]
  },
  {
   "cell_type": "code",
   "execution_count": 69,
   "metadata": {},
   "outputs": [
    {
     "data": {
      "text/html": [
       "<div>\n",
       "<style scoped>\n",
       "    .dataframe tbody tr th:only-of-type {\n",
       "        vertical-align: middle;\n",
       "    }\n",
       "\n",
       "    .dataframe tbody tr th {\n",
       "        vertical-align: top;\n",
       "    }\n",
       "\n",
       "    .dataframe thead th {\n",
       "        text-align: right;\n",
       "    }\n",
       "</style>\n",
       "<table border=\"1\" class=\"dataframe\">\n",
       "  <thead>\n",
       "    <tr style=\"text-align: right;\">\n",
       "      <th></th>\n",
       "      <th>State</th>\n",
       "      <th>Abbreviation</th>\n",
       "      <th>Unnamed: 2</th>\n",
       "    </tr>\n",
       "  </thead>\n",
       "  <tbody>\n",
       "    <tr>\n",
       "      <th>0</th>\n",
       "      <td>Alabama</td>\n",
       "      <td>AL</td>\n",
       "      <td>NaN</td>\n",
       "    </tr>\n",
       "    <tr>\n",
       "      <th>1</th>\n",
       "      <td>Alaska</td>\n",
       "      <td>AK</td>\n",
       "      <td>NaN</td>\n",
       "    </tr>\n",
       "    <tr>\n",
       "      <th>2</th>\n",
       "      <td>Arizona</td>\n",
       "      <td>AZ</td>\n",
       "      <td>NaN</td>\n",
       "    </tr>\n",
       "    <tr>\n",
       "      <th>3</th>\n",
       "      <td>Arkansas</td>\n",
       "      <td>AR</td>\n",
       "      <td>NaN</td>\n",
       "    </tr>\n",
       "    <tr>\n",
       "      <th>4</th>\n",
       "      <td>California</td>\n",
       "      <td>CA</td>\n",
       "      <td>NaN</td>\n",
       "    </tr>\n",
       "  </tbody>\n",
       "</table>\n",
       "</div>"
      ],
      "text/plain": [
       "        State Abbreviation Unnamed: 2\n",
       "0     Alabama           AL        NaN\n",
       "1      Alaska           AK        NaN\n",
       "2     Arizona           AZ        NaN\n",
       "3    Arkansas           AR        NaN\n",
       "4  California           CA        NaN"
      ]
     },
     "execution_count": 69,
     "metadata": {},
     "output_type": "execute_result"
    }
   ],
   "source": [
    "states.head()"
   ]
  },
  {
   "cell_type": "code",
   "execution_count": 70,
   "metadata": {},
   "outputs": [],
   "source": [
    "states_list = states['Abbreviation'].tolist()\n",
    "states_index = df[~(df['DRIVERS_LICENSE_STATE'].isin(states_list))].index\n",
    "df.drop(states_index, inplace=True)"
   ]
  },
  {
   "cell_type": "code",
   "execution_count": 71,
   "metadata": {},
   "outputs": [
    {
     "name": "stdout",
     "output_type": "stream",
     "text": [
      "Lenght of Dataset: 99909\n",
      "                               missing_values_% Data_type\n",
      "CRASH_RECORD_ID                             0.0    object\n",
      "RD_NO                                       0.0    object\n",
      "CRASH_YEAR                                  0.0     int64\n",
      "CRASH_MONTH                                 0.0     int64\n",
      "CRASH_HOUR                                  0.0     int64\n",
      "CRASH_DAY_OF_WEEK                           0.0     int64\n",
      "POSTED_SPEED_LIMIT                          0.0     int64\n",
      "TRAFFIC_CONTROL_DEVICE                      0.0    object\n",
      "DEVICE_CONDITION                            0.0    object\n",
      "WEATHER_CONDITION                           0.0    object\n",
      "LIGHTING_CONDITION                          0.0    object\n",
      "FIRST_CRASH_TYPE                            0.0    object\n",
      "TRAFFICWAY_TYPE                             0.0    object\n",
      "STRAIGHT_ALIGNMENT                          0.0     int64\n",
      "GOOD_ROADWAY_SUFACE                         0.0     int64\n",
      "ROAD_DEFECT                                 0.0     int64\n",
      "DESK_REPORT_TYPE                            0.0     int64\n",
      "CRASH_TYPE                                  0.0    object\n",
      "DAMAGE                                      0.0    object\n",
      "DATE_POLICE_NOTIFIED                        0.0    object\n",
      "PRIM_CONTRIBUTORY_CAUSE                     0.0    object\n",
      "STREET_NO                                   0.0     int64\n",
      "STREET_DIRECTION                            0.0    object\n",
      "STREET_NAME                                 0.0    object\n",
      "BEAT_OF_OCCURRENCE                          0.0     int64\n",
      "NUM_UNITS                                   0.0     int64\n",
      "MOST_SEVERE_INJURY                          0.0    object\n",
      "INJURIES_TOTAL                              0.0     int64\n",
      "INJURIES_FATAL                              0.0     int64\n",
      "INJURIES_INCAPACITATING                     0.0     int64\n",
      "INJURIES_NON_INCAPACITATING                 0.0     int64\n",
      "INJURIES_REPORTED_NOT_EVIDENT               0.0     int64\n",
      "INJURIES_NO_INDICATION                      0.0     int64\n",
      "INJURIES_UNKNOWN                            0.0     int64\n",
      "LATITUDE                                    0.0    object\n",
      "LONGITUDE                                   0.0    object\n",
      "LOCATION                                    0.0    object\n",
      "PERSON_TYPE                                 0.0    object\n",
      "VEHICLE_ID                                  0.0    object\n",
      "MALE_PERSON                                 0.0     int64\n",
      "AGE                                         0.0     int64\n",
      "DRIVERS_LICENSE_STATE                       0.0    object\n",
      "SAFETY_EQUIPMENT                            0.0    object\n",
      "AIRBAG_DEPLOYED                             0.0     int64\n",
      "EJECTION                                    0.0     int64\n",
      "DRIVER_ACTION                               0.0    object\n",
      "DRIVER_VISION                               0.0    object\n",
      "PHYSICAL_CONDITION                          0.0    object\n",
      "BAC_RESULT                                  0.0    object\n"
     ]
    }
   ],
   "source": [
    "ed.show_info(df)"
   ]
  },
  {
   "cell_type": "markdown",
   "metadata": {},
   "source": [
    "# Exploration Analysis"
   ]
  },
  {
   "cell_type": "code",
   "execution_count": null,
   "metadata": {},
   "outputs": [],
   "source": []
  },
  {
   "cell_type": "code",
   "execution_count": null,
   "metadata": {},
   "outputs": [],
   "source": []
  },
  {
   "cell_type": "markdown",
   "metadata": {},
   "source": [
    "## Descriptive Analysis"
   ]
  },
  {
   "cell_type": "markdown",
   "metadata": {},
   "source": [
    "First, I will perform descriptive analysis to get the mean, standart deviation and value counts of the numeric columns."
   ]
  },
  {
   "cell_type": "code",
   "execution_count": 72,
   "metadata": {},
   "outputs": [
    {
     "data": {
      "text/html": [
       "<div>\n",
       "<style scoped>\n",
       "    .dataframe tbody tr th:only-of-type {\n",
       "        vertical-align: middle;\n",
       "    }\n",
       "\n",
       "    .dataframe tbody tr th {\n",
       "        vertical-align: top;\n",
       "    }\n",
       "\n",
       "    .dataframe thead th {\n",
       "        text-align: right;\n",
       "    }\n",
       "</style>\n",
       "<table border=\"1\" class=\"dataframe\">\n",
       "  <thead>\n",
       "    <tr style=\"text-align: right;\">\n",
       "      <th></th>\n",
       "      <th>CRASH_YEAR</th>\n",
       "      <th>CRASH_MONTH</th>\n",
       "      <th>CRASH_HOUR</th>\n",
       "      <th>CRASH_DAY_OF_WEEK</th>\n",
       "      <th>POSTED_SPEED_LIMIT</th>\n",
       "      <th>STRAIGHT_ALIGNMENT</th>\n",
       "      <th>GOOD_ROADWAY_SUFACE</th>\n",
       "      <th>ROAD_DEFECT</th>\n",
       "      <th>DESK_REPORT_TYPE</th>\n",
       "      <th>STREET_NO</th>\n",
       "      <th>...</th>\n",
       "      <th>INJURIES_FATAL</th>\n",
       "      <th>INJURIES_INCAPACITATING</th>\n",
       "      <th>INJURIES_NON_INCAPACITATING</th>\n",
       "      <th>INJURIES_REPORTED_NOT_EVIDENT</th>\n",
       "      <th>INJURIES_NO_INDICATION</th>\n",
       "      <th>INJURIES_UNKNOWN</th>\n",
       "      <th>MALE_PERSON</th>\n",
       "      <th>AGE</th>\n",
       "      <th>AIRBAG_DEPLOYED</th>\n",
       "      <th>EJECTION</th>\n",
       "    </tr>\n",
       "  </thead>\n",
       "  <tbody>\n",
       "    <tr>\n",
       "      <th>count</th>\n",
       "      <td>99909.000000</td>\n",
       "      <td>99909.000000</td>\n",
       "      <td>99909.000000</td>\n",
       "      <td>99909.000000</td>\n",
       "      <td>99909.000000</td>\n",
       "      <td>99909.000000</td>\n",
       "      <td>99909.000000</td>\n",
       "      <td>99909.000000</td>\n",
       "      <td>99909.000000</td>\n",
       "      <td>99909.000000</td>\n",
       "      <td>...</td>\n",
       "      <td>99909.000000</td>\n",
       "      <td>99909.000000</td>\n",
       "      <td>99909.00000</td>\n",
       "      <td>99909.000000</td>\n",
       "      <td>99909.000000</td>\n",
       "      <td>99909.0</td>\n",
       "      <td>99909.000000</td>\n",
       "      <td>99909.000000</td>\n",
       "      <td>99909.000000</td>\n",
       "      <td>99909.000000</td>\n",
       "    </tr>\n",
       "    <tr>\n",
       "      <th>mean</th>\n",
       "      <td>2019.423035</td>\n",
       "      <td>6.468426</td>\n",
       "      <td>13.381397</td>\n",
       "      <td>4.157133</td>\n",
       "      <td>29.163078</td>\n",
       "      <td>0.988680</td>\n",
       "      <td>0.791981</td>\n",
       "      <td>0.020258</td>\n",
       "      <td>0.439730</td>\n",
       "      <td>3678.598535</td>\n",
       "      <td>...</td>\n",
       "      <td>0.000991</td>\n",
       "      <td>0.025313</td>\n",
       "      <td>0.14279</td>\n",
       "      <td>0.081074</td>\n",
       "      <td>2.215716</td>\n",
       "      <td>0.0</td>\n",
       "      <td>0.609775</td>\n",
       "      <td>39.524317</td>\n",
       "      <td>0.100091</td>\n",
       "      <td>0.002112</td>\n",
       "    </tr>\n",
       "    <tr>\n",
       "      <th>std</th>\n",
       "      <td>0.494043</td>\n",
       "      <td>3.444740</td>\n",
       "      <td>5.430082</td>\n",
       "      <td>1.958839</td>\n",
       "      <td>5.284492</td>\n",
       "      <td>0.105793</td>\n",
       "      <td>0.405893</td>\n",
       "      <td>0.140884</td>\n",
       "      <td>0.496357</td>\n",
       "      <td>2879.421854</td>\n",
       "      <td>...</td>\n",
       "      <td>0.033616</td>\n",
       "      <td>0.188155</td>\n",
       "      <td>0.49998</td>\n",
       "      <td>0.364768</td>\n",
       "      <td>1.197367</td>\n",
       "      <td>0.0</td>\n",
       "      <td>0.487803</td>\n",
       "      <td>16.265801</td>\n",
       "      <td>0.300123</td>\n",
       "      <td>0.045907</td>\n",
       "    </tr>\n",
       "    <tr>\n",
       "      <th>min</th>\n",
       "      <td>2019.000000</td>\n",
       "      <td>1.000000</td>\n",
       "      <td>0.000000</td>\n",
       "      <td>1.000000</td>\n",
       "      <td>0.000000</td>\n",
       "      <td>0.000000</td>\n",
       "      <td>0.000000</td>\n",
       "      <td>0.000000</td>\n",
       "      <td>0.000000</td>\n",
       "      <td>1.000000</td>\n",
       "      <td>...</td>\n",
       "      <td>0.000000</td>\n",
       "      <td>0.000000</td>\n",
       "      <td>0.00000</td>\n",
       "      <td>0.000000</td>\n",
       "      <td>0.000000</td>\n",
       "      <td>0.0</td>\n",
       "      <td>0.000000</td>\n",
       "      <td>0.000000</td>\n",
       "      <td>0.000000</td>\n",
       "      <td>0.000000</td>\n",
       "    </tr>\n",
       "    <tr>\n",
       "      <th>25%</th>\n",
       "      <td>2019.000000</td>\n",
       "      <td>3.000000</td>\n",
       "      <td>10.000000</td>\n",
       "      <td>2.000000</td>\n",
       "      <td>30.000000</td>\n",
       "      <td>1.000000</td>\n",
       "      <td>1.000000</td>\n",
       "      <td>0.000000</td>\n",
       "      <td>0.000000</td>\n",
       "      <td>1202.000000</td>\n",
       "      <td>...</td>\n",
       "      <td>0.000000</td>\n",
       "      <td>0.000000</td>\n",
       "      <td>0.00000</td>\n",
       "      <td>0.000000</td>\n",
       "      <td>2.000000</td>\n",
       "      <td>0.0</td>\n",
       "      <td>0.000000</td>\n",
       "      <td>27.000000</td>\n",
       "      <td>0.000000</td>\n",
       "      <td>0.000000</td>\n",
       "    </tr>\n",
       "    <tr>\n",
       "      <th>50%</th>\n",
       "      <td>2019.000000</td>\n",
       "      <td>7.000000</td>\n",
       "      <td>14.000000</td>\n",
       "      <td>4.000000</td>\n",
       "      <td>30.000000</td>\n",
       "      <td>1.000000</td>\n",
       "      <td>1.000000</td>\n",
       "      <td>0.000000</td>\n",
       "      <td>0.000000</td>\n",
       "      <td>3198.000000</td>\n",
       "      <td>...</td>\n",
       "      <td>0.000000</td>\n",
       "      <td>0.000000</td>\n",
       "      <td>0.00000</td>\n",
       "      <td>0.000000</td>\n",
       "      <td>2.000000</td>\n",
       "      <td>0.0</td>\n",
       "      <td>1.000000</td>\n",
       "      <td>36.000000</td>\n",
       "      <td>0.000000</td>\n",
       "      <td>0.000000</td>\n",
       "    </tr>\n",
       "    <tr>\n",
       "      <th>75%</th>\n",
       "      <td>2020.000000</td>\n",
       "      <td>9.000000</td>\n",
       "      <td>17.000000</td>\n",
       "      <td>6.000000</td>\n",
       "      <td>30.000000</td>\n",
       "      <td>1.000000</td>\n",
       "      <td>1.000000</td>\n",
       "      <td>0.000000</td>\n",
       "      <td>1.000000</td>\n",
       "      <td>5600.000000</td>\n",
       "      <td>...</td>\n",
       "      <td>0.000000</td>\n",
       "      <td>0.000000</td>\n",
       "      <td>0.00000</td>\n",
       "      <td>0.000000</td>\n",
       "      <td>3.000000</td>\n",
       "      <td>0.0</td>\n",
       "      <td>1.000000</td>\n",
       "      <td>51.000000</td>\n",
       "      <td>0.000000</td>\n",
       "      <td>0.000000</td>\n",
       "    </tr>\n",
       "    <tr>\n",
       "      <th>max</th>\n",
       "      <td>2020.000000</td>\n",
       "      <td>12.000000</td>\n",
       "      <td>23.000000</td>\n",
       "      <td>7.000000</td>\n",
       "      <td>70.000000</td>\n",
       "      <td>1.000000</td>\n",
       "      <td>1.000000</td>\n",
       "      <td>1.000000</td>\n",
       "      <td>1.000000</td>\n",
       "      <td>13799.000000</td>\n",
       "      <td>...</td>\n",
       "      <td>3.000000</td>\n",
       "      <td>6.000000</td>\n",
       "      <td>21.00000</td>\n",
       "      <td>15.000000</td>\n",
       "      <td>42.000000</td>\n",
       "      <td>0.0</td>\n",
       "      <td>1.000000</td>\n",
       "      <td>100.000000</td>\n",
       "      <td>1.000000</td>\n",
       "      <td>1.000000</td>\n",
       "    </tr>\n",
       "  </tbody>\n",
       "</table>\n",
       "<p>8 rows × 23 columns</p>\n",
       "</div>"
      ],
      "text/plain": [
       "         CRASH_YEAR   CRASH_MONTH    CRASH_HOUR  CRASH_DAY_OF_WEEK  \\\n",
       "count  99909.000000  99909.000000  99909.000000       99909.000000   \n",
       "mean    2019.423035      6.468426     13.381397           4.157133   \n",
       "std        0.494043      3.444740      5.430082           1.958839   \n",
       "min     2019.000000      1.000000      0.000000           1.000000   \n",
       "25%     2019.000000      3.000000     10.000000           2.000000   \n",
       "50%     2019.000000      7.000000     14.000000           4.000000   \n",
       "75%     2020.000000      9.000000     17.000000           6.000000   \n",
       "max     2020.000000     12.000000     23.000000           7.000000   \n",
       "\n",
       "       POSTED_SPEED_LIMIT  STRAIGHT_ALIGNMENT  GOOD_ROADWAY_SUFACE  \\\n",
       "count        99909.000000        99909.000000         99909.000000   \n",
       "mean            29.163078            0.988680             0.791981   \n",
       "std              5.284492            0.105793             0.405893   \n",
       "min              0.000000            0.000000             0.000000   \n",
       "25%             30.000000            1.000000             1.000000   \n",
       "50%             30.000000            1.000000             1.000000   \n",
       "75%             30.000000            1.000000             1.000000   \n",
       "max             70.000000            1.000000             1.000000   \n",
       "\n",
       "        ROAD_DEFECT  DESK_REPORT_TYPE     STREET_NO  ...  INJURIES_FATAL  \\\n",
       "count  99909.000000      99909.000000  99909.000000  ...    99909.000000   \n",
       "mean       0.020258          0.439730   3678.598535  ...        0.000991   \n",
       "std        0.140884          0.496357   2879.421854  ...        0.033616   \n",
       "min        0.000000          0.000000      1.000000  ...        0.000000   \n",
       "25%        0.000000          0.000000   1202.000000  ...        0.000000   \n",
       "50%        0.000000          0.000000   3198.000000  ...        0.000000   \n",
       "75%        0.000000          1.000000   5600.000000  ...        0.000000   \n",
       "max        1.000000          1.000000  13799.000000  ...        3.000000   \n",
       "\n",
       "       INJURIES_INCAPACITATING  INJURIES_NON_INCAPACITATING  \\\n",
       "count             99909.000000                  99909.00000   \n",
       "mean                  0.025313                      0.14279   \n",
       "std                   0.188155                      0.49998   \n",
       "min                   0.000000                      0.00000   \n",
       "25%                   0.000000                      0.00000   \n",
       "50%                   0.000000                      0.00000   \n",
       "75%                   0.000000                      0.00000   \n",
       "max                   6.000000                     21.00000   \n",
       "\n",
       "       INJURIES_REPORTED_NOT_EVIDENT  INJURIES_NO_INDICATION  \\\n",
       "count                   99909.000000            99909.000000   \n",
       "mean                        0.081074                2.215716   \n",
       "std                         0.364768                1.197367   \n",
       "min                         0.000000                0.000000   \n",
       "25%                         0.000000                2.000000   \n",
       "50%                         0.000000                2.000000   \n",
       "75%                         0.000000                3.000000   \n",
       "max                        15.000000               42.000000   \n",
       "\n",
       "       INJURIES_UNKNOWN   MALE_PERSON           AGE  AIRBAG_DEPLOYED  \\\n",
       "count           99909.0  99909.000000  99909.000000     99909.000000   \n",
       "mean                0.0      0.609775     39.524317         0.100091   \n",
       "std                 0.0      0.487803     16.265801         0.300123   \n",
       "min                 0.0      0.000000      0.000000         0.000000   \n",
       "25%                 0.0      0.000000     27.000000         0.000000   \n",
       "50%                 0.0      1.000000     36.000000         0.000000   \n",
       "75%                 0.0      1.000000     51.000000         0.000000   \n",
       "max                 0.0      1.000000    100.000000         1.000000   \n",
       "\n",
       "           EJECTION  \n",
       "count  99909.000000  \n",
       "mean       0.002112  \n",
       "std        0.045907  \n",
       "min        0.000000  \n",
       "25%        0.000000  \n",
       "50%        0.000000  \n",
       "75%        0.000000  \n",
       "max        1.000000  \n",
       "\n",
       "[8 rows x 23 columns]"
      ]
     },
     "execution_count": 72,
     "metadata": {},
     "output_type": "execute_result"
    }
   ],
   "source": [
    "df.describe()"
   ]
  },
  {
   "cell_type": "markdown",
   "metadata": {},
   "source": [
    "* The describe function does not give a lot of useful information, since the most of the numeric columns represent binary categorical data."
   ]
  },
  {
   "cell_type": "markdown",
   "metadata": {},
   "source": [
    "## Plot Histogram for Numeric Features"
   ]
  },
  {
   "cell_type": "markdown",
   "metadata": {},
   "source": [
    "I will plot a histograms for features like **CRASH_MONTH, CRASH_HOUR, CRASH_DAY_OF_WEEK** to see what is the most common value for those features."
   ]
  },
  {
   "cell_type": "code",
   "execution_count": 73,
   "metadata": {},
   "outputs": [
    {
     "data": {
      "image/png": "[encoded data removed]",
      "text/plain": [
       "<Figure size 1440x720 with 4 Axes>"
      ]
     },
     "metadata": {
      "needs_background": "light"
     },
     "output_type": "display_data"
    }
   ],
   "source": [
    "cols_cont =['CRASH_MONTH', 'CRASH_HOUR', 'CRASH_DAY_OF_WEEK']\n",
    "\n",
    "df[cols_cont].hist(figsize = (20,10), edgecolor=\"w\", facecolor='maroon');"
   ]
  },
  {
   "cell_type": "markdown",
   "metadata": {},
   "source": [
    "* The highest amount of crashes happened on **Saturday**\n",
    "* Large amount of crashes happened during afternoon **(around 3 PM)**. My guess would be the reason is traffic.\n",
    "* And majority of crashes are during **January and December**, probably due to the weather condition."
   ]
  },
  {
   "cell_type": "markdown",
   "metadata": {},
   "source": [
    "## Primary Cause of Crash vs. Number of Crashes"
   ]
  },
  {
   "cell_type": "markdown",
   "metadata": {},
   "source": [
    "Now I will investigate what causes of crash have the highest amount...."
   ]
  },
  {
   "cell_type": "code",
   "execution_count": 74,
   "metadata": {},
   "outputs": [
    {
     "data": {
      "image/png": "[encoded data removed]",
      "text/plain": [
       "<Figure size 1440x720 with 1 Axes>"
      ]
     },
     "metadata": {
      "needs_background": "light"
     },
     "output_type": "display_data"
    }
   ],
   "source": [
    "plt.figure(figsize =(20,10))\n",
    "plt.xticks(rotation=45, horizontalalignment='right')\n",
    "\n",
    "ax = sns.countplot(x=\"PRIM_CONTRIBUTORY_CAUSE\", data=df,\n",
    "                   order = df['PRIM_CONTRIBUTORY_CAUSE'].value_counts().head(15).index, \n",
    "                   palette = 'crest_r')\n",
    "\n",
    "plt.xlabel('Primary Cause for Crash')\n",
    "plt.ylabel('Number of Crashes')\n",
    "plt.title('Primary Cause of Cash vs Number of Crashes')\n",
    "plt.show()"
   ]
  },
  {
   "cell_type": "markdown",
   "metadata": {},
   "source": [
    "As the graph shows, most of the crashes happened because of following causes: **failing to yield, following too closely.**"
   ]
  },
  {
   "cell_type": "markdown",
   "metadata": {},
   "source": [
    "## Driver's Age vs. Number of Crashes"
   ]
  },
  {
   "cell_type": "markdown",
   "metadata": {},
   "source": [
    "Let's see at what age drivers were at thye moment of the crashes."
   ]
  },
  {
   "cell_type": "code",
   "execution_count": 124,
   "metadata": {},
   "outputs": [
    {
     "data": {
      "text/plain": [
       "Text(0, 0.5, 'Number of Crashes')"
      ]
     },
     "execution_count": 124,
     "metadata": {},
     "output_type": "execute_result"
    },
    {
     "data": {
      "image/png": "[encoded data removed]",
      "text/plain": [
       "<Figure size 1080x720 with 1 Axes>"
      ]
     },
     "metadata": {
      "needs_background": "light"
     },
     "output_type": "display_data"
    }
   ],
   "source": [
    "fig, ax = plt.subplots(figsize =(15,10))\n",
    "\n",
    "ax.hist(df['AGE'], edgecolor=\"w\", facecolor='teal')\n",
    "  \n",
    "# Set title\n",
    "ax.set_title(\"Age of Driver vs. Number of Crashes\")\n",
    "  \n",
    "# adding labels\n",
    "ax.set_xlabel('Age')\n",
    "ax.set_ylabel('Number of Crashes')"
   ]
  },
  {
   "cell_type": "markdown",
   "metadata": {},
   "source": [
    "## Crash Types Frequency"
   ]
  },
  {
   "cell_type": "code",
   "execution_count": 76,
   "metadata": {},
   "outputs": [
    {
     "data": {
      "image/png": "[encoded data removed]",
      "text/plain": [
       "<Figure size 1440x720 with 1 Axes>"
      ]
     },
     "metadata": {
      "needs_background": "light"
     },
     "output_type": "display_data"
    }
   ],
   "source": [
    "plt.figure(figsize =(20,10))\n",
    "plt.xticks(horizontalalignment='right')\n",
    "\n",
    "ax = sns.countplot(x=\"CRASH_TYPE\", data=df,\n",
    "                   order = df['CRASH_TYPE'].value_counts().index, \n",
    "                   palette = 'rocket')\n",
    "\n",
    "\n",
    "plt.xlabel('Crash Types')\n",
    "plt.ylabel('Number of Crashes')\n",
    "plt.title('Count of Crash Types')\n",
    "plt.show()"
   ]
  },
  {
   "cell_type": "markdown",
   "metadata": {},
   "source": [
    "## Exploration of Crashes with No Injury"
   ]
  },
  {
   "cell_type": "markdown",
   "metadata": {},
   "source": [
    "Now, I will look into the observations where the **crash resulted in no injury** and see what were the **main causes and reasons** for those crashes."
   ]
  },
  {
   "cell_type": "code",
   "execution_count": 77,
   "metadata": {},
   "outputs": [],
   "source": [
    "df_no_injury = df[df['CRASH_TYPE'] == 'NO INJURY / DRIVE AWAY']"
   ]
  },
  {
   "cell_type": "markdown",
   "metadata": {},
   "source": [
    "### Primary Cause of the Crashes"
   ]
  },
  {
   "cell_type": "code",
   "execution_count": 78,
   "metadata": {},
   "outputs": [
    {
     "data": {
      "image/png": "[encoded data removed]",
      "text/plain": [
       "<Figure size 1440x720 with 1 Axes>"
      ]
     },
     "metadata": {
      "needs_background": "light"
     },
     "output_type": "display_data"
    }
   ],
   "source": [
    "plt.figure(figsize =(20,10))\n",
    "plt.xticks(rotation=45, horizontalalignment='right')\n",
    "\n",
    "ax = sns.countplot(x=\"PRIM_CONTRIBUTORY_CAUSE\", data=df_no_injury,\n",
    "                   order = df_no_injury['PRIM_CONTRIBUTORY_CAUSE'].value_counts().head(15).index, \n",
    "                   palette = 'crest_r')\n",
    "\n",
    "plt.xlabel('Primary Cause for Crash')\n",
    "plt.ylabel('Number of Crashes')\n",
    "plt.title('Primary Cause of Cash with No Injury vs Number of Crashes')\n",
    "plt.show()"
   ]
  },
  {
   "cell_type": "markdown",
   "metadata": {},
   "source": [
    "As it is shown on graph, the majority of **no-injury crashes** were because of **following too closely or failing to yield.**"
   ]
  },
  {
   "cell_type": "markdown",
   "metadata": {},
   "source": [
    "**EDA Result:**\n",
    "* Most of the Crashes happened during **light time and clear weather.** \n",
    "* The **roadway surface** for most of the cases was **good**.\n",
    "* Vast majority of the crashes happened on **roads with no defect.**"
   ]
  },
  {
   "cell_type": "markdown",
   "metadata": {},
   "source": [
    "### Inital State of the Crashes"
   ]
  },
  {
   "cell_type": "code",
   "execution_count": 79,
   "metadata": {},
   "outputs": [
    {
     "data": {
      "image/png": "[encoded data removed]",
      "text/plain": [
       "<Figure size 1080x720 with 1 Axes>"
      ]
     },
     "metadata": {
      "needs_background": "light"
     },
     "output_type": "display_data"
    }
   ],
   "source": [
    "plt.figure(figsize =(15,10))\n",
    "plt.xticks(rotation=45, horizontalalignment='right')\n",
    "\n",
    "ax = sns.countplot(x=\"FIRST_CRASH_TYPE\", data=df_no_injury, \n",
    "                   order = df_no_injury['FIRST_CRASH_TYPE'].value_counts().index, palette = 'crest_r')\n",
    "plt.xlabel('Initial Crash Type')\n",
    "plt.ylabel('Number of Crashes')\n",
    "plt.title('Initial Crash Type vs Number of Crashes')\n",
    "plt.show()"
   ]
  },
  {
   "cell_type": "markdown",
   "metadata": {},
   "source": [
    "Majority of crashes happened on the **rear end, sideswipe or while turning.**"
   ]
  },
  {
   "cell_type": "markdown",
   "metadata": {},
   "source": [
    "### Driver's Gender"
   ]
  },
  {
   "cell_type": "code",
   "execution_count": 80,
   "metadata": {
    "scrolled": false
   },
   "outputs": [
    {
     "data": {
      "image/png": "[encoded data removed]",
      "text/plain": [
       "<Figure size 1080x720 with 1 Axes>"
      ]
     },
     "metadata": {
      "needs_background": "light"
     },
     "output_type": "display_data"
    }
   ],
   "source": [
    "plt.figure(figsize =(15,10))\n",
    "plt.xticks(horizontalalignment='right')\n",
    "\n",
    "ax = sns.countplot(x=\"MALE_PERSON\", data=df_no_injury, palette = 'viridis')\n",
    "\n",
    "plt.ylabel('Number of Crashes')\n",
    "plt.xlabel('Gender of The Driver: 0 - Female, 1 - Male')\n",
    "plt.title('Count of Crashes with Male and Female Drivers')\n",
    "plt.show()"
   ]
  },
  {
   "cell_type": "markdown",
   "metadata": {},
   "source": [
    "## Crashes Resulted in Fatal Injury"
   ]
  },
  {
   "cell_type": "code",
   "execution_count": 81,
   "metadata": {},
   "outputs": [
    {
     "data": {
      "image/png": "[encoded data removed]",
      "text/plain": [
       "<Figure size 1440x720 with 1 Axes>"
      ]
     },
     "metadata": {
      "needs_background": "light"
     },
     "output_type": "display_data"
    }
   ],
   "source": [
    "df_fatal = df[df['MOST_SEVERE_INJURY'] == 'FATAL']\n",
    "\n",
    "plt.figure(figsize =(20,10))\n",
    "plt.xticks(rotation=45, horizontalalignment='right')\n",
    "\n",
    "ax = sns.countplot(x=\"PRIM_CONTRIBUTORY_CAUSE\", data=df_fatal,\n",
    "                   order = df_fatal['PRIM_CONTRIBUTORY_CAUSE'].value_counts().head(15).index, \n",
    "                   palette = 'rocket')\n",
    "\n",
    "plt.xlabel('Primary Cause for Crash')\n",
    "plt.ylabel('Number of Crashes')\n",
    "plt.title('Primary Cause of Cash with Fatal Result vs Number of Crashes')\n",
    "plt.show()"
   ]
  },
  {
   "cell_type": "markdown",
   "metadata": {},
   "source": [
    "Since majority of crashes were caused by **Physical Condition of the driver**, let's see into that column."
   ]
  },
  {
   "cell_type": "code",
   "execution_count": 82,
   "metadata": {},
   "outputs": [
    {
     "data": {
      "image/png": "[encoded data removed]",
      "text/plain": [
       "<Figure size 1080x720 with 1 Axes>"
      ]
     },
     "metadata": {
      "needs_background": "light"
     },
     "output_type": "display_data"
    }
   ],
   "source": [
    "plt.figure(figsize =(15,10))\n",
    "plt.xticks(rotation=45, horizontalalignment='right')\n",
    "\n",
    "ax = sns.countplot(x=\"PHYSICAL_CONDITION\", data=df_fatal, \n",
    "                   order = df_fatal['PHYSICAL_CONDITION'].value_counts().index, palette = 'crest_r')\n",
    "plt.xlabel('Driver\\'s Physical Condition')\n",
    "plt.ylabel('Count of Crashes')\n",
    "plt.title('Counts of Crashes vs. Driver\\'s Physical Condition')\n",
    "plt.show()"
   ]
  },
  {
   "cell_type": "markdown",
   "metadata": {},
   "source": [
    "## Driver's Gender of Crash with Fatal Injury"
   ]
  },
  {
   "cell_type": "code",
   "execution_count": 83,
   "metadata": {},
   "outputs": [
    {
     "data": {
      "image/png": "[encoded data removed]",
      "text/plain": [
       "<Figure size 1080x720 with 1 Axes>"
      ]
     },
     "metadata": {
      "needs_background": "light"
     },
     "output_type": "display_data"
    }
   ],
   "source": [
    "plt.figure(figsize =(15,10))\n",
    "plt.xticks(horizontalalignment='right')\n",
    "\n",
    "ax = sns.countplot(x=\"MALE_PERSON\", data=df_fatal, palette = 'viridis')\n",
    "\n",
    "plt.ylabel('Number of Crashes')\n",
    "plt.xlabel('Gender of The Driver: 0 - Female, 1 - Male')\n",
    "plt.title('Count of Crashes with Male and Female Drivers')\n",
    "plt.show()"
   ]
  },
  {
   "cell_type": "markdown",
   "metadata": {},
   "source": [
    "The graph above shows that most of the drivers involved in accident with fatal injury were male drivers."
   ]
  },
  {
   "cell_type": "markdown",
   "metadata": {},
   "source": [
    "**EDA Result:**\n",
    "* Most of the Crashes with Fatal Injury happened during **light time or with some light, and weather was clear.** \n",
    "* The **roadway surface** for most of the cases was **good**.\n",
    "* Vast majority of the crashes happened on **roads with no defect.**"
   ]
  },
  {
   "cell_type": "markdown",
   "metadata": {},
   "source": [
    "## Severity of Injury and Hour of Crash"
   ]
  },
  {
   "cell_type": "code",
   "execution_count": 84,
   "metadata": {},
   "outputs": [
    {
     "data": {
      "image/png": "[encoded data removed]",
      "text/plain": [
       "<Figure size 1440x720 with 1 Axes>"
      ]
     },
     "metadata": {
      "needs_background": "light"
     },
     "output_type": "display_data"
    }
   ],
   "source": [
    "df_injury = df[df['MOST_SEVERE_INJURY'] != 'NO INDICATION OF INJURY']\n",
    "\n",
    "\n",
    "plt.figure(figsize =(20,10))\n",
    "ax = sns.countplot(x=\"CRASH_HOUR\", hue = 'MOST_SEVERE_INJURY',data=df_injury)\n",
    "plt.xlabel('Hour of Crash')\n",
    "plt.ylabel('Number of Crashes')\n",
    "plt.title('Hour and Severity of Crash vs Number of Crashes')\n",
    "plt.legend(loc = 'upper left')\n",
    "plt.show()"
   ]
  },
  {
   "cell_type": "markdown",
   "metadata": {},
   "source": [
    "As the graph shows, the **peak hours** for the crashes with injury are from **1 PM to 5 PM.**"
   ]
  },
  {
   "cell_type": "markdown",
   "metadata": {},
   "source": [
    "## Trafficway Type and Number of Crashes"
   ]
  },
  {
   "cell_type": "markdown",
   "metadata": {},
   "source": [
    "Lastly, I will look into the Trafficway type of the place where crash happened."
   ]
  },
  {
   "cell_type": "code",
   "execution_count": 85,
   "metadata": {},
   "outputs": [
    {
     "data": {
      "image/png": "[encoded data removed]",
      "text/plain": [
       "<Figure size 1440x720 with 1 Axes>"
      ]
     },
     "metadata": {
      "needs_background": "light"
     },
     "output_type": "display_data"
    }
   ],
   "source": [
    "plt.figure(figsize =(20,10))\n",
    "plt.xticks(rotation=90)\n",
    "\n",
    "ax = sns.countplot(x=\"TRAFFICWAY_TYPE\", data=df,\n",
    "                   order = df['TRAFFICWAY_TYPE'].value_counts().index, \n",
    "                   palette = 'rocket')\n",
    "plt.xlabel('Trafficway Type')\n",
    "plt.ylabel('Number of Crashes')\n",
    "plt.title('Trafficway Type vs Number of Crashes')\n",
    "plt.show()"
   ]
  },
  {
   "cell_type": "markdown",
   "metadata": {},
   "source": [
    "For most of the crashes, the **trafficway was not divided.**"
   ]
  },
  {
   "cell_type": "markdown",
   "metadata": {},
   "source": [
    "## Binning Primary Contributory Cause for the Crash"
   ]
  },
  {
   "cell_type": "markdown",
   "metadata": {},
   "source": [
    "The ease the work of the models, I will **regroup the types of causes** and create less categorized column with following categories: **Improper/Agressive Driving, Irresponsible Behavior and External/Other Causes.**"
   ]
  },
  {
   "cell_type": "code",
   "execution_count": 86,
   "metadata": {},
   "outputs": [
    {
     "data": {
      "text/plain": [
       "{'FAILING TO YIELD RIGHT-OF-WAY': 19532,\n",
       " 'FOLLOWING TOO CLOSELY': 18186,\n",
       " 'FAILING TO REDUCE SPEED TO AVOID CRASH': 8589,\n",
       " 'IMPROPER OVERTAKING/PASSING': 8074,\n",
       " 'IMPROPER BACKING': 6115,\n",
       " 'IMPROPER LANE USAGE': 6104,\n",
       " 'IMPROPER TURNING/NO SIGNAL': 6065,\n",
       " 'DRIVING SKILLS/KNOWLEDGE/EXPERIENCE': 4915,\n",
       " 'DISREGARDING TRAFFIC SIGNALS': 3858,\n",
       " 'WEATHER': 3030,\n",
       " 'DISREGARDING STOP SIGN': 2185,\n",
       " 'OPERATING VEHICLE IN ERRATIC, RECKLESS, CARELESS, NEGLIGENT OR AGGRESSIVE MANNER': 1669,\n",
       " 'DISTRACTION - FROM INSIDE VEHICLE': 1413,\n",
       " 'EQUIPMENT - VEHICLE CONDITION': 1335,\n",
       " 'PHYSICAL CONDITION OF DRIVER': 1219,\n",
       " 'VISION OBSCURED (SIGNS, TREE LIMBS, BUILDINGS, ETC.)': 1189,\n",
       " 'UNDER THE INFLUENCE OF ALCOHOL/DRUGS (USE WHEN ARREST IS EFFECTED)': 1181,\n",
       " 'DISTRACTION - FROM OUTSIDE VEHICLE': 853,\n",
       " 'DRIVING ON WRONG SIDE/WRONG WAY': 824,\n",
       " 'ROAD ENGINEERING/SURFACE/MARKING DEFECTS': 573,\n",
       " 'DISREGARDING OTHER TRAFFIC SIGNS': 422,\n",
       " 'ROAD CONSTRUCTION/MAINTENANCE': 413,\n",
       " 'EVASIVE ACTION DUE TO ANIMAL, OBJECT, NONMOTORIST': 354,\n",
       " 'CELL PHONE USE OTHER THAN TEXTING': 275,\n",
       " 'DISREGARDING ROAD MARKINGS': 229,\n",
       " 'EXCEEDING SAFE SPEED FOR CONDITIONS': 222,\n",
       " 'ANIMAL': 173,\n",
       " 'HAD BEEN DRINKING (USE WHEN ARREST IS NOT MADE)': 172,\n",
       " 'EXCEEDING AUTHORIZED SPEED LIMIT': 141,\n",
       " 'TURNING RIGHT ON RED': 139,\n",
       " 'RELATED TO BUS STOP': 136,\n",
       " 'DISTRACTION - OTHER ELECTRONIC DEVICE (NAVIGATION DEVICE, DVD PLAYER, ETC.)': 104,\n",
       " 'DISREGARDING YIELD SIGN': 82,\n",
       " 'TEXTING': 70,\n",
       " 'OBSTRUCTED CROSSWALKS': 32,\n",
       " 'PASSING STOPPED SCHOOL BUS': 17,\n",
       " 'BICYCLE ADVANCING LEGALLY ON RED LIGHT': 11,\n",
       " 'MOTORCYCLE ADVANCING LEGALLY ON RED LIGHT': 8}"
      ]
     },
     "execution_count": 86,
     "metadata": {},
     "output_type": "execute_result"
    }
   ],
   "source": [
    "df.PRIM_CONTRIBUTORY_CAUSE.value_counts().to_dict()"
   ]
  },
  {
   "cell_type": "code",
   "execution_count": 87,
   "metadata": {},
   "outputs": [
    {
     "data": {
      "text/plain": [
       "AGRESSIVE/IMPROPER DRIVING                                                          54895\n",
       "FOLLOWING TOO CLOSELY                                                               18186\n",
       "DRIVING SKILLS/KNOWLEDGE/EXPERIENCE                                                  4915\n",
       "DISREGARDING TRAFFIC SIGNALS                                                         3858\n",
       "WEATHER                                                                              3030\n",
       "DISREGARDING STOP SIGN                                                               2185\n",
       "OPERATING VEHICLE IN ERRATIC, RECKLESS, CARELESS, NEGLIGENT OR AGGRESSIVE MANNER     1669\n",
       "DISTRACTION - FROM INSIDE VEHICLE                                                    1413\n",
       "EQUIPMENT - VEHICLE CONDITION                                                        1335\n",
       "PHYSICAL CONDITION OF DRIVER                                                         1219\n",
       "VISION OBSCURED (SIGNS, TREE LIMBS, BUILDINGS, ETC.)                                 1189\n",
       "UNDER THE INFLUENCE OF ALCOHOL/DRUGS (USE WHEN ARREST IS EFFECTED)                   1181\n",
       "DISTRACTION - FROM OUTSIDE VEHICLE                                                    853\n",
       "DRIVING ON WRONG SIDE/WRONG WAY                                                       824\n",
       "ROAD ENGINEERING/SURFACE/MARKING DEFECTS                                              573\n",
       "DISREGARDING OTHER TRAFFIC SIGNS                                                      422\n",
       "ROAD CONSTRUCTION/MAINTENANCE                                                         413\n",
       "EVASIVE ACTION DUE TO ANIMAL, OBJECT, NONMOTORIST                                     354\n",
       "CELL PHONE USE OTHER THAN TEXTING                                                     275\n",
       "DISREGARDING ROAD MARKINGS                                                            229\n",
       "EXCEEDING SAFE SPEED FOR CONDITIONS                                                   222\n",
       "ANIMAL                                                                                173\n",
       "HAD BEEN DRINKING (USE WHEN ARREST IS NOT MADE)                                       172\n",
       "DISTRACTION - OTHER ELECTRONIC DEVICE (NAVIGATION DEVICE, DVD PLAYER, ETC.)           104\n",
       "DISREGARDING YIELD SIGN                                                                82\n",
       "TEXTING                                                                                70\n",
       "OBSTRUCTED CROSSWALKS                                                                  32\n",
       "PASSING STOPPED SCHOOL BUS                                                             17\n",
       "BICYCLE ADVANCING LEGALLY ON RED LIGHT                                                 11\n",
       "MOTORCYCLE ADVANCING LEGALLY ON RED LIGHT                                               8\n",
       "Name: PRIM_CONTRIBUTORY_CAUSE, dtype: int64"
      ]
     },
     "execution_count": 87,
     "metadata": {},
     "output_type": "execute_result"
    }
   ],
   "source": [
    "agress_dict = {'FAILING TO YIELD RIGHT-OF-WAY': 'AGRESSIVE/IMPROPER DRIVING',  \n",
    "               'FAILING TO REDUCE SPEED TO AVOID CRASH': 'AGRESSIVE/IMPROPER DRIVING', \n",
    "               'IMPROPER OVERTAKING/PASSING': 'AGRESSIVE/IMPROPER DRIVING', \n",
    "               'IMPROPER TURNING/NO SIGNAL': 'AGRESSIVE/IMPROPER DRIVING', \n",
    "               'IMPROPER LANE USAGE': 'AGRESSIVE/IMPROPER DRIVING', \n",
    "               'IMPROPER BACKING': 'AGRESSIVE/IMPROPER DRIVING',\n",
    "               'TURNING RIGHT ON RED':'AGRESSIVE/IMPROPER DRIVING', \n",
    "               'RELATED TO BUS STOP': 'AGRESSIVE/IMPROPER DRIVING', \n",
    "               'EXCEEDING AUTHORIZED SPEED LIMIT': 'AGRESSIVE/IMPROPER DRIVING'}\n",
    "\n",
    "df['PRIM_CONTRIBUTORY_CAUSE'] = df['PRIM_CONTRIBUTORY_CAUSE'].map(agress_dict).fillna(df['PRIM_CONTRIBUTORY_CAUSE'])\n",
    "df['PRIM_CONTRIBUTORY_CAUSE'].value_counts()"
   ]
  },
  {
   "cell_type": "code",
   "execution_count": 88,
   "metadata": {},
   "outputs": [
    {
     "data": {
      "text/plain": [
       "AGRESSIVE/IMPROPER DRIVING                              54895\n",
       "IRRESPONSIBLE BEHAVIOR                                  33241\n",
       "DRIVING SKILLS/KNOWLEDGE/EXPERIENCE                      4915\n",
       "WEATHER                                                  3030\n",
       "VISION OBSCURED (SIGNS, TREE LIMBS, BUILDINGS, ETC.)     1189\n",
       "DISTRACTION - FROM OUTSIDE VEHICLE                        853\n",
       "ROAD ENGINEERING/SURFACE/MARKING DEFECTS                  573\n",
       "ROAD CONSTRUCTION/MAINTENANCE                             413\n",
       "EVASIVE ACTION DUE TO ANIMAL, OBJECT, NONMOTORIST         354\n",
       "EXCEEDING SAFE SPEED FOR CONDITIONS                       222\n",
       "ANIMAL                                                    173\n",
       "OBSTRUCTED CROSSWALKS                                      32\n",
       "BICYCLE ADVANCING LEGALLY ON RED LIGHT                     11\n",
       "MOTORCYCLE ADVANCING LEGALLY ON RED LIGHT                   8\n",
       "Name: PRIM_CONTRIBUTORY_CAUSE, dtype: int64"
      ]
     },
     "execution_count": 88,
     "metadata": {},
     "output_type": "execute_result"
    }
   ],
   "source": [
    "irresp_dict = {'OPERATING VEHICLE IN ERRATIC, RECKLESS, CARELESS, NEGLIGENT OR AGGRESSIVE MANNER': 'IRRESPONSIBLE BEHAVIOR', \n",
    "               'EQUIPMENT - VEHICLE CONDITION': 'IRRESPONSIBLE BEHAVIOR', \n",
    "               'UNDER THE INFLUENCE OF ALCOHOL/DRUGS (USE WHEN ARREST IS EFFECTED)': 'IRRESPONSIBLE BEHAVIOR', \n",
    "               'PHYSICAL CONDITION OF DRIVER':'IRRESPONSIBLE BEHAVIOR', \n",
    "               'CELL PHONE USE OTHER THAN TEXTING': 'IRRESPONSIBLE BEHAVIOR', \n",
    "               'HAD BEEN DRINKING (USE WHEN ARREST IS NOT MADE)':'IRRESPONSIBLE BEHAVIOR', \n",
    "               'DISTRACTION - OTHER ELECTRONIC DEVICE (NAVIGATION DEVICE, DVD PLAYER, ETC.)': 'IRRESPONSIBLE BEHAVIOR', \n",
    "               'TEXTING': 'IRRESPONSIBLE BEHAVIOR', 'PASSING STOPPED SCHOOL BUS': 'IRRESPONSIBLE BEHAVIOR', \n",
    "               'DISTRACTION - FROM INSIDE VEHICLE': 'IRRESPONSIBLE BEHAVIOR', \n",
    "               'DISREGARDING TRAFFIC SIGNALS': 'IRRESPONSIBLE BEHAVIOR', \n",
    "               'DISREGARDING STOP SIGN': 'IRRESPONSIBLE BEHAVIOR', \n",
    "               'DISREGARDING OTHER TRAFFIC SIGNS': 'IRRESPONSIBLE BEHAVIOR', \n",
    "               'DISREGARDING YIELD SIGN': 'IRRESPONSIBLE BEHAVIOR', \n",
    "               'DISREGARDING ROAD MARKINGS': 'IRRESPONSIBLE BEHAVIOR', \n",
    "               'FOLLOWING TOO CLOSELY': 'IRRESPONSIBLE BEHAVIOR', \n",
    "               'DRIVING ON WRONG SIDE/WRONG WAY': 'IRRESPONSIBLE BEHAVIOR', \n",
    "               'TURNING RIGHT ON RED':'IRRESPONSIBLE BEHAVIOR'}\n",
    "\n",
    "df['PRIM_CONTRIBUTORY_CAUSE'] = df['PRIM_CONTRIBUTORY_CAUSE'].map(irresp_dict).fillna(df['PRIM_CONTRIBUTORY_CAUSE'])\n",
    "df['PRIM_CONTRIBUTORY_CAUSE'].value_counts()"
   ]
  },
  {
   "cell_type": "code",
   "execution_count": 89,
   "metadata": {
    "scrolled": true
   },
   "outputs": [
    {
     "data": {
      "text/plain": [
       "AGRESSIVE/IMPROPER DRIVING    54895\n",
       "IRRESPONSIBLE BEHAVIOR        33241\n",
       "EXTERNAL/OTHER FACTORS        11773\n",
       "Name: PRIM_CONTRIBUTORY_CAUSE, dtype: int64"
      ]
     },
     "execution_count": 89,
     "metadata": {},
     "output_type": "execute_result"
    }
   ],
   "source": [
    "external_dict = {'DRIVING SKILLS/KNOWLEDGE/EXPERIENCE': 'EXTERNAL/OTHER FACTORS', \n",
    "                 'WEATHER': 'EXTERNAL/OTHER FACTORS', \n",
    "                 'VISION OBSCURED (SIGNS, TREE LIMBS, BUILDINGS, ETC.)': 'EXTERNAL/OTHER FACTORS', \n",
    "                 'DISTRACTION - FROM OUTSIDE VEHICLE': 'EXTERNAL/OTHER FACTORS', \n",
    "                 'ROAD ENGINEERING/SURFACE/MARKING DEFECTS': 'EXTERNAL/OTHER FACTORS', \n",
    "                 'ROAD CONSTRUCTION/MAINTENANCE': 'EXTERNAL/OTHER FACTORS', \n",
    "                 'EVASIVE ACTION DUE TO ANIMAL, OBJECT, NONMOTORIST': 'EXTERNAL/OTHER FACTORS', \n",
    "                 'EXCEEDING SAFE SPEED FOR CONDITIONS': 'EXTERNAL/OTHER FACTORS', \n",
    "                 'ANIMAL': 'EXTERNAL/OTHER FACTORS', \n",
    "                 'OBSTRUCTED CROSSWALKS': 'EXTERNAL/OTHER FACTORS', \n",
    "                 'BICYCLE ADVANCING LEGALLY ON RED LIGHT': 'EXTERNAL/OTHER FACTORS', \n",
    "                 'MOTORCYCLE ADVANCING LEGALLY ON RED LIGHT': 'EXTERNAL/OTHER FACTORS'}\n",
    "\n",
    "df['PRIM_CONTRIBUTORY_CAUSE'] = df['PRIM_CONTRIBUTORY_CAUSE'].map(external_dict).fillna(df['PRIM_CONTRIBUTORY_CAUSE'])\n",
    "df['PRIM_CONTRIBUTORY_CAUSE'].value_counts()"
   ]
  },
  {
   "cell_type": "code",
   "execution_count": 90,
   "metadata": {
    "scrolled": true
   },
   "outputs": [
    {
     "data": {
      "text/plain": [
       "AGRESSIVE/IMPROPER DRIVING    0.549450\n",
       "IRRESPONSIBLE BEHAVIOR        0.332713\n",
       "EXTERNAL/OTHER FACTORS        0.117837\n",
       "Name: PRIM_CONTRIBUTORY_CAUSE, dtype: float64"
      ]
     },
     "execution_count": 90,
     "metadata": {},
     "output_type": "execute_result"
    }
   ],
   "source": [
    "df.PRIM_CONTRIBUTORY_CAUSE.value_counts(normalize = True)"
   ]
  },
  {
   "cell_type": "markdown",
   "metadata": {},
   "source": [
    "Now the target variable is classified into three categories with following ratios: **Agressive/Improper Driving - 55%, Irresponsible Behavior - 34% and External Causes - 11%**"
   ]
  },
  {
   "cell_type": "markdown",
   "metadata": {},
   "source": [
    "## Drop Needless Columns"
   ]
  },
  {
   "cell_type": "code",
   "execution_count": 91,
   "metadata": {},
   "outputs": [],
   "source": [
    "df.drop(columns = ['LOCATION', 'STREET_NAME','STREET_DIRECTION','STREET_NO', \n",
    "                   'RD_NO','BEAT_OF_OCCURRENCE', 'NUM_UNITS', 'VEHICLE_ID', \n",
    "                   'AIRBAG_DEPLOYED','EJECTION', 'DATE_POLICE_NOTIFIED'], axis = 1, inplace = True)"
   ]
  },
  {
   "cell_type": "code",
   "execution_count": 92,
   "metadata": {},
   "outputs": [
    {
     "name": "stdout",
     "output_type": "stream",
     "text": [
      "Lenght of Dataset: 99909\n",
      "                               missing_values_% Data_type\n",
      "CRASH_RECORD_ID                             0.0    object\n",
      "CRASH_YEAR                                  0.0     int64\n",
      "CRASH_MONTH                                 0.0     int64\n",
      "CRASH_HOUR                                  0.0     int64\n",
      "CRASH_DAY_OF_WEEK                           0.0     int64\n",
      "POSTED_SPEED_LIMIT                          0.0     int64\n",
      "TRAFFIC_CONTROL_DEVICE                      0.0    object\n",
      "DEVICE_CONDITION                            0.0    object\n",
      "WEATHER_CONDITION                           0.0    object\n",
      "LIGHTING_CONDITION                          0.0    object\n",
      "FIRST_CRASH_TYPE                            0.0    object\n",
      "TRAFFICWAY_TYPE                             0.0    object\n",
      "STRAIGHT_ALIGNMENT                          0.0     int64\n",
      "GOOD_ROADWAY_SUFACE                         0.0     int64\n",
      "ROAD_DEFECT                                 0.0     int64\n",
      "DESK_REPORT_TYPE                            0.0     int64\n",
      "CRASH_TYPE                                  0.0    object\n",
      "DAMAGE                                      0.0    object\n",
      "PRIM_CONTRIBUTORY_CAUSE                     0.0    object\n",
      "MOST_SEVERE_INJURY                          0.0    object\n",
      "INJURIES_TOTAL                              0.0     int64\n",
      "INJURIES_FATAL                              0.0     int64\n",
      "INJURIES_INCAPACITATING                     0.0     int64\n",
      "INJURIES_NON_INCAPACITATING                 0.0     int64\n",
      "INJURIES_REPORTED_NOT_EVIDENT               0.0     int64\n",
      "INJURIES_NO_INDICATION                      0.0     int64\n",
      "INJURIES_UNKNOWN                            0.0     int64\n",
      "LATITUDE                                    0.0    object\n",
      "LONGITUDE                                   0.0    object\n",
      "PERSON_TYPE                                 0.0    object\n",
      "MALE_PERSON                                 0.0     int64\n",
      "AGE                                         0.0     int64\n",
      "DRIVERS_LICENSE_STATE                       0.0    object\n",
      "SAFETY_EQUIPMENT                            0.0    object\n",
      "DRIVER_ACTION                               0.0    object\n",
      "DRIVER_VISION                               0.0    object\n",
      "PHYSICAL_CONDITION                          0.0    object\n",
      "BAC_RESULT                                  0.0    object\n"
     ]
    }
   ],
   "source": [
    "ed.show_info(df)"
   ]
  },
  {
   "cell_type": "markdown",
   "metadata": {},
   "source": [
    "# Modeling\n",
    "\n",
    "Since all of the cleaning and explorations were performed, now I will start building models. "
   ]
  },
  {
   "cell_type": "markdown",
   "metadata": {},
   "source": [
    "## Train - Test Split "
   ]
  },
  {
   "cell_type": "markdown",
   "metadata": {},
   "source": [
    "To prevent models from **overfitting** and to be able to **accurately evaluate** model I will split the data to **X as a features and y as a target variable.**"
   ]
  },
  {
   "cell_type": "code",
   "execution_count": 93,
   "metadata": {},
   "outputs": [],
   "source": [
    "df.drop(columns = ['CRASH_RECORD_ID', 'PERSON_TYPE', 'DRIVERS_LICENSE_STATE', \n",
    "                   'SAFETY_EQUIPMENT', 'LATITUDE', 'LONGITUDE'], inplace = True)"
   ]
  },
  {
   "cell_type": "code",
   "execution_count": 94,
   "metadata": {},
   "outputs": [],
   "source": [
    "X = df.drop(\"PRIM_CONTRIBUTORY_CAUSE\", axis=1)\n",
    "y = df['PRIM_CONTRIBUTORY_CAUSE']"
   ]
  },
  {
   "cell_type": "markdown",
   "metadata": {},
   "source": [
    "Now, split the data to **test - train sets** and then **split the train set into test and train sets too.**"
   ]
  },
  {
   "cell_type": "code",
   "execution_count": 95,
   "metadata": {},
   "outputs": [],
   "source": [
    "X_all, X_hold, y_all, y_hold = train_test_split(X, y, random_state=2021)"
   ]
  },
  {
   "cell_type": "code",
   "execution_count": 96,
   "metadata": {},
   "outputs": [],
   "source": [
    "X_train, X_test, y_train, y_test = train_test_split(X_all, y_all, random_state=2021)"
   ]
  },
  {
   "cell_type": "markdown",
   "metadata": {},
   "source": [
    "Let's check **how balanced is** my **target classes:**"
   ]
  },
  {
   "cell_type": "code",
   "execution_count": 97,
   "metadata": {
    "scrolled": true
   },
   "outputs": [
    {
     "data": {
      "text/plain": [
       "AGRESSIVE/IMPROPER DRIVING    0.549521\n",
       "IRRESPONSIBLE BEHAVIOR        0.333250\n",
       "EXTERNAL/OTHER FACTORS        0.117228\n",
       "Name: PRIM_CONTRIBUTORY_CAUSE, dtype: float64"
      ]
     },
     "execution_count": 97,
     "metadata": {},
     "output_type": "execute_result"
    }
   ],
   "source": [
    "pd.Series(y_train).value_counts(normalize=True)"
   ]
  },
  {
   "cell_type": "markdown",
   "metadata": {},
   "source": [
    "Looking at the ratios, I can say that the **data is mostly imbalanced.** Thus, I will use **SMOTE to resample training sets.**"
   ]
  },
  {
   "cell_type": "markdown",
   "metadata": {},
   "source": [
    "# Model 1: Logistic Regression"
   ]
  },
  {
   "cell_type": "markdown",
   "metadata": {},
   "source": [
    "The Baseline Model I chose was Logistic Regression Classifier."
   ]
  },
  {
   "cell_type": "markdown",
   "metadata": {},
   "source": [
    "### ColumnTransformer for Categorical Features"
   ]
  },
  {
   "cell_type": "markdown",
   "metadata": {},
   "source": [
    "Before I start any modeling, I will use **ColumnTransformer** and **OneHotEncode** all categorical features of the dataframe: "
   ]
  },
  {
   "cell_type": "code",
   "execution_count": 98,
   "metadata": {},
   "outputs": [
    {
     "data": {
      "text/plain": [
       "[5, 6, 7, 8, 9, 10, 15, 16, 17, 27, 28, 29, 30]"
      ]
     },
     "execution_count": 98,
     "metadata": {},
     "output_type": "execute_result"
    }
   ],
   "source": [
    "cols = X_train.select_dtypes(include='object').columns\n",
    "indices = []\n",
    "for col in cols:\n",
    "    indices.append(X_train.columns.get_loc(col))\n",
    "indices"
   ]
  },
  {
   "cell_type": "code",
   "execution_count": 99,
   "metadata": {},
   "outputs": [],
   "source": [
    "transformer = ColumnTransformer(transformers=[('categorical', OneHotEncoder(handle_unknown = 'ignore'), indices)])"
   ]
  },
  {
   "cell_type": "markdown",
   "metadata": {},
   "source": [
    "Build a new **pipeline** with transformer and perform the **cross-validation:**"
   ]
  },
  {
   "cell_type": "code",
   "execution_count": 100,
   "metadata": {},
   "outputs": [],
   "source": [
    "categ_pipeline = make_pipeline(transformer, StandardScaler(with_mean = False), SMOTE(), \n",
    "                               LogisticRegression(multi_class='multinomial',\n",
    "                                                  C=0.01, random_state=2021, max_iter = 5000))"
   ]
  },
  {
   "cell_type": "code",
   "execution_count": 101,
   "metadata": {
    "scrolled": true
   },
   "outputs": [
    {
     "name": "stdout",
     "output_type": "stream",
     "text": [
      "Average Score: 0.7279618560311703\n"
     ]
    },
    {
     "data": {
      "text/plain": [
       "array([0.72384342, 0.73469751, 0.7297153 , 0.72224199, 0.72793594,\n",
       "       0.73078292, 0.72313167, 0.73096085, 0.73055704, 0.72575191])"
      ]
     },
     "execution_count": 101,
     "metadata": {},
     "output_type": "execute_result"
    }
   ],
   "source": [
    "history = ModelHistory()\n",
    "history.report(categ_pipeline,X_train, y_train, 'Logistic Regression - multinomial', \n",
    "               'Regression with Numeric and Categorical Features')"
   ]
  },
  {
   "cell_type": "markdown",
   "metadata": {},
   "source": [
    "**Model Results:** The average **accuracy score for the Model 1 is 0.7254.**"
   ]
  },
  {
   "cell_type": "code",
   "execution_count": 102,
   "metadata": {},
   "outputs": [
    {
     "data": {
      "text/plain": [
       "0.7233758607804409"
      ]
     },
     "execution_count": 102,
     "metadata": {},
     "output_type": "execute_result"
    }
   ],
   "source": [
    "categ_pipeline.fit(X_train, y_train)\n",
    "categ_pipeline.score(X_test, y_test)"
   ]
  },
  {
   "cell_type": "markdown",
   "metadata": {},
   "source": [
    "**Predict on test set**."
   ]
  },
  {
   "cell_type": "code",
   "execution_count": 103,
   "metadata": {},
   "outputs": [],
   "source": [
    "train_preds = categ_pipeline.predict(X_train)\n",
    "test_preds = categ_pipeline.predict(X_test)"
   ]
  },
  {
   "cell_type": "markdown",
   "metadata": {},
   "source": [
    "**Check the Metrics of the Model 1:**"
   ]
  },
  {
   "cell_type": "code",
   "execution_count": 104,
   "metadata": {},
   "outputs": [
    {
     "name": "stdout",
     "output_type": "stream",
     "text": [
      "Precision Score: 0.7674185856581323\n",
      "Recall Score: 0.7296167123385174\n",
      "Accuracy Score: 0.7296167123385174\n",
      "F1 Score: 0.7416141958070329\n",
      "\n",
      "\n",
      "Precision Score: 0.7623146336194836\n",
      "Recall Score: 0.7233758607804409\n",
      "Accuracy Score: 0.7233758607804409\n",
      "F1 Score: 0.7357184668940655\n",
      "\n",
      "\n"
     ]
    }
   ],
   "source": [
    "mf.print_metrics(y_train,train_preds)\n",
    "mf.print_metrics(y_test,test_preds)"
   ]
  },
  {
   "cell_type": "code",
   "execution_count": 105,
   "metadata": {
    "scrolled": false
   },
   "outputs": [
    {
     "data": {
      "text/plain": [
       "<Figure size 720x720 with 0 Axes>"
      ]
     },
     "metadata": {},
     "output_type": "display_data"
    },
    {
     "data": {
      "image/png": "[encoded data removed]",
      "text/plain": [
       "<Figure size 432x288 with 2 Axes>"
      ]
     },
     "metadata": {
      "needs_background": "light"
     },
     "output_type": "display_data"
    }
   ],
   "source": [
    "plt.figure(figsize =(10,10))\n",
    "plot_confusion_matrix(categ_pipeline, X_test, y_test,\n",
    "                     cmap=plt.cm.Blues,normalize='true')\n",
    "\n",
    "plt.xticks(rotation=45, horizontalalignment='right', fontsize='small')\n",
    "plt.show()"
   ]
  },
  {
   "cell_type": "markdown",
   "metadata": {},
   "source": [
    "### Model 1 Results:\n",
    "\n",
    "Based on the **Scores of the Training and Test Sets**, there is **no overfitting** - The Accuracy Score for **Training Model is 0.7266,** while the same score for **Testing Model is 0.7284.** In terms of confusion matrix, this model performed much better, considering **the diagonal of true values is high.**"
   ]
  },
  {
   "cell_type": "markdown",
   "metadata": {},
   "source": [
    "# Model 2: KNN with All Features"
   ]
  },
  {
   "cell_type": "markdown",
   "metadata": {},
   "source": [
    "In order to see if the metrics can be improved and coefficients of the matrix be higher, I will build some other models with different classifiers."
   ]
  },
  {
   "cell_type": "code",
   "execution_count": 106,
   "metadata": {},
   "outputs": [],
   "source": [
    "cat_knn_pipeline = make_pipeline(transformer, StandardScaler(with_mean = False), SMOTE(), KNeighborsClassifier())"
   ]
  },
  {
   "cell_type": "code",
   "execution_count": 107,
   "metadata": {},
   "outputs": [
    {
     "name": "stdout",
     "output_type": "stream",
     "text": [
      "Average Score: 0.6818394947493223\n"
     ]
    },
    {
     "data": {
      "text/plain": [
       "array([0.66530249, 0.68131673, 0.67580071, 0.68078292, 0.68042705,\n",
       "       0.68398577, 0.68647687, 0.68469751, 0.68891262, 0.69069229])"
      ]
     },
     "execution_count": 107,
     "metadata": {},
     "output_type": "execute_result"
    }
   ],
   "source": [
    "history.report(cat_knn_pipeline,X_train, y_train, 'KNN - Defaults', \n",
    "               'KNN with All Features')"
   ]
  },
  {
   "cell_type": "code",
   "execution_count": 108,
   "metadata": {},
   "outputs": [
    {
     "data": {
      "text/plain": [
       "0.7824833623972384"
      ]
     },
     "execution_count": 108,
     "metadata": {},
     "output_type": "execute_result"
    }
   ],
   "source": [
    "cat_knn_pipeline.fit(X_train, y_train)\n",
    "cat_knn_pipeline.score(X_train, y_train)"
   ]
  },
  {
   "cell_type": "code",
   "execution_count": 109,
   "metadata": {},
   "outputs": [
    {
     "data": {
      "text/plain": [
       "0.6804569476325202"
      ]
     },
     "execution_count": 109,
     "metadata": {},
     "output_type": "execute_result"
    }
   ],
   "source": [
    "cat_knn_pipeline.score(X_test, y_test)"
   ]
  },
  {
   "cell_type": "markdown",
   "metadata": {},
   "source": [
    "**Result:** The **Recall Score for Test Set is 0.4493.**"
   ]
  },
  {
   "cell_type": "markdown",
   "metadata": {},
   "source": [
    "**Predict on trainig and test sets**."
   ]
  },
  {
   "cell_type": "code",
   "execution_count": 110,
   "metadata": {},
   "outputs": [],
   "source": [
    "train_preds = cat_knn_pipeline.predict(X_train)\n",
    "test_preds = cat_knn_pipeline.predict(X_test)"
   ]
  },
  {
   "cell_type": "markdown",
   "metadata": {},
   "source": [
    "**Check the Metrics of the Model 2:**"
   ]
  },
  {
   "cell_type": "code",
   "execution_count": 111,
   "metadata": {},
   "outputs": [
    {
     "name": "stdout",
     "output_type": "stream",
     "text": [
      "Precision Score: 0.8093566432227756\n",
      "Recall Score: 0.7824833623972384\n",
      "Accuracy Score: 0.7824833623972384\n",
      "F1 Score: 0.7890716448831521\n",
      "\n",
      "\n",
      "Precision Score: 0.7167995257222176\n",
      "Recall Score: 0.6804569476325202\n",
      "Accuracy Score: 0.6804569476325202\n",
      "F1 Score: 0.6925871042884398\n",
      "\n",
      "\n"
     ]
    }
   ],
   "source": [
    "mf.print_metrics(y_train,train_preds)\n",
    "mf.print_metrics(y_test,test_preds)"
   ]
  },
  {
   "cell_type": "markdown",
   "metadata": {},
   "source": [
    "**Confusion Matrix for Model 2:**"
   ]
  },
  {
   "cell_type": "code",
   "execution_count": 112,
   "metadata": {
    "scrolled": false
   },
   "outputs": [
    {
     "data": {
      "text/plain": [
       "<Figure size 720x720 with 0 Axes>"
      ]
     },
     "metadata": {},
     "output_type": "display_data"
    },
    {
     "data": {
      "image/png": "[encoded data removed]",
      "text/plain": [
       "<Figure size 432x288 with 2 Axes>"
      ]
     },
     "metadata": {
      "needs_background": "light"
     },
     "output_type": "display_data"
    }
   ],
   "source": [
    "plt.figure(figsize =(10,10))\n",
    "plot_confusion_matrix(cat_knn_pipeline, X_test, y_test,\n",
    "                     cmap=plt.cm.Blues,normalize='true')\n",
    "\n",
    "plt.xticks(rotation=45, horizontalalignment='right', fontsize='small')\n",
    "plt.show()"
   ]
  },
  {
   "cell_type": "markdown",
   "metadata": {},
   "source": [
    "### Model 4 Results:\n",
    "* The model is **overfitting trainig data.**\n",
    "* Confusion Matrix shows **worse results than for Logistic Regression.**"
   ]
  },
  {
   "cell_type": "markdown",
   "metadata": {},
   "source": [
    "# Model 3: Decision Tree Classifier"
   ]
  },
  {
   "cell_type": "markdown",
   "metadata": {},
   "source": [
    "Since the KNN model showed results worse than Logistic Regression, I will build another model with Decision Tree Classifier."
   ]
  },
  {
   "cell_type": "code",
   "execution_count": 113,
   "metadata": {},
   "outputs": [],
   "source": [
    "tree_pipeline = make_pipeline (transformer, StandardScaler(with_mean = False), SMOTE(random_state = 2021),\n",
    "                               DecisionTreeClassifier(random_state = 2021, max_depth = 10))"
   ]
  },
  {
   "cell_type": "code",
   "execution_count": 114,
   "metadata": {},
   "outputs": [
    {
     "name": "stdout",
     "output_type": "stream",
     "text": [
      "Average Score: 0.7139576164753673\n"
     ]
    },
    {
     "data": {
      "text/plain": [
       "array([0.72241993, 0.7133452 , 0.73558719, 0.71405694, 0.71743772,\n",
       "       0.70106762, 0.71014235, 0.70747331, 0.69709913, 0.72094679])"
      ]
     },
     "execution_count": 114,
     "metadata": {},
     "output_type": "execute_result"
    }
   ],
   "source": [
    "history.report(tree_pipeline,X_train, y_train, 'DescisionTree', \n",
    "               'Tree with Max-Depth = 10')"
   ]
  },
  {
   "cell_type": "code",
   "execution_count": 115,
   "metadata": {},
   "outputs": [
    {
     "data": {
      "text/plain": [
       "0.719545179543756"
      ]
     },
     "execution_count": 115,
     "metadata": {},
     "output_type": "execute_result"
    }
   ],
   "source": [
    "tree_pipeline.fit(X_train, y_train)\n",
    "tree_pipeline.score(X_train, y_train)"
   ]
  },
  {
   "cell_type": "code",
   "execution_count": 116,
   "metadata": {},
   "outputs": [
    {
     "data": {
      "text/plain": [
       "0.704852399508888"
      ]
     },
     "execution_count": 116,
     "metadata": {},
     "output_type": "execute_result"
    }
   ],
   "source": [
    "tree_pipeline.score(X_test, y_test)"
   ]
  },
  {
   "cell_type": "code",
   "execution_count": 117,
   "metadata": {},
   "outputs": [],
   "source": [
    "train_preds = tree_pipeline.predict(X_train)\n",
    "test_preds = tree_pipeline.predict(X_test)"
   ]
  },
  {
   "cell_type": "code",
   "execution_count": 118,
   "metadata": {},
   "outputs": [
    {
     "name": "stdout",
     "output_type": "stream",
     "text": [
      "Precision Score: 0.7427757743888319\n",
      "Recall Score: 0.719545179543756\n",
      "Accuracy Score: 0.719545179543756\n",
      "F1 Score: 0.7281092223336197\n",
      "\n",
      "\n",
      "Precision Score: 0.7294901917236224\n",
      "Recall Score: 0.704852399508888\n",
      "Accuracy Score: 0.704852399508888\n",
      "F1 Score: 0.7141658893962056\n",
      "\n",
      "\n"
     ]
    }
   ],
   "source": [
    "mf.print_metrics(y_train,train_preds)\n",
    "mf.print_metrics(y_test,test_preds)"
   ]
  },
  {
   "cell_type": "code",
   "execution_count": 119,
   "metadata": {
    "scrolled": false
   },
   "outputs": [
    {
     "data": {
      "text/plain": [
       "<Figure size 720x720 with 0 Axes>"
      ]
     },
     "metadata": {},
     "output_type": "display_data"
    },
    {
     "data": {
      "image/png": "[encoded data removed]",
      "text/plain": [
       "<Figure size 432x288 with 2 Axes>"
      ]
     },
     "metadata": {
      "needs_background": "light"
     },
     "output_type": "display_data"
    }
   ],
   "source": [
    "plt.figure(figsize =(10,10))\n",
    "plot_confusion_matrix(tree_pipeline, X_test, y_test,\n",
    "                     cmap=plt.cm.Blues,normalize='true')\n",
    "\n",
    "plt.xticks(rotation=45, horizontalalignment='right', fontsize='small')\n",
    "plt.show()"
   ]
  },
  {
   "cell_type": "markdown",
   "metadata": {},
   "source": [
    "### Model 3 Results:\n",
    "* The model is **not overfitting.**\n",
    "* Confusion Matrix shows **better results than KNN**, but still **worse results than for Logistic Regression.**"
   ]
  },
  {
   "cell_type": "markdown",
   "metadata": {},
   "source": [
    "# Modeling Conclusion"
   ]
  },
  {
   "cell_type": "markdown",
   "metadata": {},
   "source": [
    "After the evaluation of all models performance, I see that the best metrics and coefficients for confusion matrix is achieved by Logistic Regression Classifier. My final model will be Logistic Regression for the purpose of the project."
   ]
  },
  {
   "cell_type": "markdown",
   "metadata": {},
   "source": [
    "# Evaluation of Final Model"
   ]
  },
  {
   "cell_type": "markdown",
   "metadata": {},
   "source": [
    "Now I will perform final evaluation of the Logistic Regression Model with the data that wasn't used while building. "
   ]
  },
  {
   "cell_type": "code",
   "execution_count": 120,
   "metadata": {},
   "outputs": [
    {
     "data": {
      "text/plain": [
       "0.7273758524509215"
      ]
     },
     "execution_count": 120,
     "metadata": {},
     "output_type": "execute_result"
    }
   ],
   "source": [
    "categ_pipeline.fit(X_all, y_all)\n",
    "\n",
    "categ_pipeline.score(X_all, y_all)"
   ]
  },
  {
   "cell_type": "code",
   "execution_count": 121,
   "metadata": {},
   "outputs": [
    {
     "data": {
      "text/plain": [
       "0.7285210985667387"
      ]
     },
     "execution_count": 121,
     "metadata": {},
     "output_type": "execute_result"
    }
   ],
   "source": [
    "categ_pipeline.score(X_hold, y_hold)"
   ]
  },
  {
   "cell_type": "code",
   "execution_count": 122,
   "metadata": {},
   "outputs": [
    {
     "name": "stdout",
     "output_type": "stream",
     "text": [
      "Precision Score: 0.7656607379774959\n",
      "Recall Score: 0.7273758524509215\n",
      "Accuracy Score: 0.7273758524509215\n",
      "F1 Score: 0.7394806784132365\n",
      "\n",
      "\n",
      "Precision Score: 0.7661430157301438\n",
      "Recall Score: 0.7285210985667387\n",
      "Accuracy Score: 0.7285210985667387\n",
      "F1 Score: 0.7405156892719819\n",
      "\n",
      "\n"
     ]
    }
   ],
   "source": [
    "train_preds = categ_pipeline.predict(X_all)\n",
    "test_preds = categ_pipeline.predict(X_hold)\n",
    "mf.print_metrics(y_all,train_preds)\n",
    "mf.print_metrics(y_hold,test_preds)"
   ]
  },
  {
   "cell_type": "code",
   "execution_count": 123,
   "metadata": {},
   "outputs": [
    {
     "data": {
      "text/plain": [
       "<Figure size 720x720 with 0 Axes>"
      ]
     },
     "metadata": {},
     "output_type": "display_data"
    },
    {
     "data": {
      "image/png": "[encoded data removed]",
      "text/plain": [
       "<Figure size 432x288 with 2 Axes>"
      ]
     },
     "metadata": {
      "needs_background": "light"
     },
     "output_type": "display_data"
    }
   ],
   "source": [
    "plt.figure(figsize =(10,10))\n",
    "plot_confusion_matrix(categ_pipeline, X_hold, y_hold,\n",
    "                     cmap=plt.cm.Blues,normalize='true')\n",
    "\n",
    "plt.xticks(rotation=45, horizontalalignment='right', fontsize='small')\n",
    "plt.show()"
   ]
  },
  {
   "cell_type": "markdown",
   "metadata": {},
   "source": [
    "**Results:**\n",
    "The model performance on the unseen data is good. The metrics are high and the confusion matrix has shown that model is able to predict 73% of true values for Agressive/Improper Driving, 67% for External/Other Causes and 74% of Irresponsible Behavior causes. "
   ]
  },
  {
   "attachments": {},
   "cell_type": "markdown",
   "metadata": {},
   "source": [
    "# Conclusion\n",
    "\n",
    "Based on the analysis and the modeling results the following actions would be appropriate to consider in order to reduce number of traffic accidents:\n",
    "\n",
    "- Promotion of less aggressive driving\n",
    "- Promotion of drivers’ safety, especially during traffic time and winter season, such that regulate the roads with hight traffic volume and take actions against the road conditions during winter.\n",
    "- Assuring enough of driving experience and safety preparations of the drivers with age range of 20 - 30."
   ]
  }
 ],
 "metadata": {
  "kernelspec": {
   "display_name": "Python 3",
   "language": "python",
   "name": "python3"
  },
  "language_info": {
   "codemirror_mode": {
    "name": "ipython",
    "version": 3
   },
   "file_extension": ".py",
   "mimetype": "text/x-python",
   "name": "python",
   "nbconvert_exporter": "python",
   "pygments_lexer": "ipython3",
   "version": "3.8.3"
  }
 },
 "nbformat": 4,
 "nbformat_minor": 4
}
