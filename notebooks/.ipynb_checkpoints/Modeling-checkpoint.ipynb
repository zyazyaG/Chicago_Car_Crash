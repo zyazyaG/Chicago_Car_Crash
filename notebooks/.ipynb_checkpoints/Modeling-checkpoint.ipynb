{
 "cells": [
  {
   "cell_type": "markdown",
   "metadata": {},
   "source": [
    "# Modeling"
   ]
  },
  {
   "cell_type": "markdown",
   "metadata": {},
   "source": [
    "## Import Packages"
   ]
  },
  {
   "cell_type": "code",
   "execution_count": 1,
   "metadata": {},
   "outputs": [],
   "source": [
    "import pandas as pd\n",
    "import numpy as np\n",
    "\n",
    "import seaborn as sns\n",
    "import matplotlib.pyplot as plt\n",
    "%matplotlib inline\n",
    "\n",
    "from imblearn.over_sampling import SMOTE, SMOTENC\n",
    "from imblearn.pipeline import Pipeline, make_pipeline\n",
    "from sklearn.neighbors import KNeighborsClassifier\n",
    "\n",
    "from sklearn.decomposition import PCA\n",
    "from sklearn.preprocessing import LabelEncoder, OneHotEncoder, StandardScaler\n",
    "\n",
    "from sklearn.linear_model import LogisticRegression\n",
    "from sklearn.model_selection import train_test_split, cross_val_score, KFold, GridSearchCV\n",
    "\n",
    "from sklearn.metrics import confusion_matrix, plot_confusion_matrix, classification_report\n",
    "from sklearn.metrics import mean_squared_error, make_scorer\n",
    "from sklearn.metrics import precision_score, recall_score, accuracy_score, f1_score, roc_curve, auc\n",
    "from sklearn.compose import ColumnTransformer\n",
    "from sklearn.tree import DecisionTreeClassifier\n",
    "from sklearn.ensemble import RandomForestClassifier\n",
    "# Import additional files with statistical functions\n",
    "import sys\n",
    "import os\n",
    "\n",
    "module_path = os.path.abspath(os.path.join('../src'))\n",
    "if module_path not in sys.path:\n",
    "    sys.path.append(module_path)\n",
    "    \n",
    "import explore_data as ed \n",
    "import model_functions as mf"
   ]
  },
  {
   "cell_type": "code",
   "execution_count": 2,
   "metadata": {},
   "outputs": [],
   "source": [
    "pd.options.display.max_rows = 500\n",
    "pd.options.display.max_columns = 100\n",
    "\n",
    "# plt.style.use('seaborn-dark')\n",
    "# sns.set_theme('talk')"
   ]
  },
  {
   "cell_type": "code",
   "execution_count": 3,
   "metadata": {},
   "outputs": [],
   "source": [
    "class ModelHistory:\n",
    "    \n",
    "    def __init__(self, random_state=2021):\n",
    "        self.scorer = 'accuracy'\n",
    "        self.history = pd.DataFrame(columns=['Name', 'Accuracy_Score', 'Notes'])\n",
    "\n",
    "    def report(self, pipeline, X, y, name, notes='', cv=10,):\n",
    "        kf = KFold(n_splits=cv, random_state=2021, shuffle=True)\n",
    "        scores = cross_val_score(pipeline, X, y, \n",
    "                                 scoring=self.scorer, cv=kf)\n",
    "        self.log_report(name, scores.mean(), notes)\n",
    "        print('Average Score:', scores.mean())\n",
    "        return scores\n",
    "    \n",
    "    def log_report(self, name, av_score, notes):\n",
    "        frame = pd.DataFrame([[name, av_score, notes]], columns=['Name', 'Accuracy_Score', 'Notes'])\n",
    "        self.history = self.history.append(frame)\n",
    "        self.history = self.history.reset_index(drop=True)\n",
    "        self.history = self.history.sort_values('Accuracy_Score')\n",
    "\n",
    "    def print_error(self, name, error):\n",
    "        print('{} has an average error of ${:.2f}'.format(name, error))"
   ]
  },
  {
   "cell_type": "markdown",
   "metadata": {},
   "source": [
    "## Upload Dataset"
   ]
  },
  {
   "cell_type": "code",
   "execution_count": 4,
   "metadata": {},
   "outputs": [
    {
     "data": {
      "text/plain": [
       "Index(['CRASH_RECORD_ID', 'CRASH_YEAR', 'CRASH_MONTH', 'CRASH_HOUR',\n",
       "       'CRASH_DAY_OF_WEEK', 'POSTED_SPEED_LIMIT', 'TRAFFIC_CONTROL_DEVICE',\n",
       "       'DEVICE_CONDITION', 'WEATHER_CONDITION', 'LIGHTING_CONDITION',\n",
       "       'FIRST_CRASH_TYPE', 'TRAFFICWAY_TYPE', 'STRAIGHT_ALIGNMENT',\n",
       "       'GOOD_ROADWAY_SUFACE', 'ROAD_DEFECT', 'DESK_REPORT_TYPE', 'CRASH_TYPE',\n",
       "       'DAMAGE', 'PRIM_CONTRIBUTORY_CAUSE', 'MOST_SEVERE_INJURY',\n",
       "       'INJURIES_TOTAL', 'INJURIES_FATAL', 'INJURIES_INCAPACITATING',\n",
       "       'INJURIES_NON_INCAPACITATING', 'INJURIES_REPORTED_NOT_EVIDENT',\n",
       "       'INJURIES_NO_INDICATION', 'INJURIES_UNKNOWN', 'LATITUDE', 'LONGITUDE',\n",
       "       'PERSON_TYPE', 'MALE_PERSON', 'AGE', 'DRIVERS_LICENSE_STATE',\n",
       "       'SAFETY_EQUIPMENT', 'DRIVER_ACTION', 'DRIVER_VISION',\n",
       "       'PHYSICAL_CONDITION', 'BAC_RESULT'],\n",
       "      dtype='object')"
      ]
     },
     "execution_count": 4,
     "metadata": {},
     "output_type": "execute_result"
    }
   ],
   "source": [
    "df = pd.read_csv(\"../data/clean_data_2.csv\", dtype={'CRASH_RECORD_ID': str, 'RD_NO': str})\n",
    "df.columns"
   ]
  },
  {
   "cell_type": "code",
   "execution_count": 5,
   "metadata": {},
   "outputs": [
    {
     "name": "stdout",
     "output_type": "stream",
     "text": [
      "Lenght of Dataset: 99909\n",
      "                               missing_values_% Data_type\n",
      "CRASH_RECORD_ID                             0.0    object\n",
      "CRASH_YEAR                                  0.0     int64\n",
      "CRASH_MONTH                                 0.0     int64\n",
      "CRASH_HOUR                                  0.0     int64\n",
      "CRASH_DAY_OF_WEEK                           0.0     int64\n",
      "POSTED_SPEED_LIMIT                          0.0     int64\n",
      "TRAFFIC_CONTROL_DEVICE                      0.0    object\n",
      "DEVICE_CONDITION                            0.0    object\n",
      "WEATHER_CONDITION                           0.0    object\n",
      "LIGHTING_CONDITION                          0.0    object\n",
      "FIRST_CRASH_TYPE                            0.0    object\n",
      "TRAFFICWAY_TYPE                             0.0    object\n",
      "STRAIGHT_ALIGNMENT                          0.0     int64\n",
      "GOOD_ROADWAY_SUFACE                         0.0     int64\n",
      "ROAD_DEFECT                                 0.0     int64\n",
      "DESK_REPORT_TYPE                            0.0     int64\n",
      "CRASH_TYPE                                  0.0    object\n",
      "DAMAGE                                      0.0    object\n",
      "PRIM_CONTRIBUTORY_CAUSE                     0.0    object\n",
      "MOST_SEVERE_INJURY                          0.0    object\n",
      "INJURIES_TOTAL                              0.0     int64\n",
      "INJURIES_FATAL                              0.0     int64\n",
      "INJURIES_INCAPACITATING                     0.0     int64\n",
      "INJURIES_NON_INCAPACITATING                 0.0     int64\n",
      "INJURIES_REPORTED_NOT_EVIDENT               0.0     int64\n",
      "INJURIES_NO_INDICATION                      0.0     int64\n",
      "INJURIES_UNKNOWN                            0.0     int64\n",
      "LATITUDE                                    0.0   float64\n",
      "LONGITUDE                                   0.0   float64\n",
      "PERSON_TYPE                                 0.0    object\n",
      "MALE_PERSON                                 0.0     int64\n",
      "AGE                                         0.0     int64\n",
      "DRIVERS_LICENSE_STATE                       0.0    object\n",
      "SAFETY_EQUIPMENT                            0.0    object\n",
      "DRIVER_ACTION                               0.0    object\n",
      "DRIVER_VISION                               0.0    object\n",
      "PHYSICAL_CONDITION                          0.0    object\n",
      "BAC_RESULT                                  0.0    object\n"
     ]
    }
   ],
   "source": [
    "ed.show_info(df)"
   ]
  },
  {
   "cell_type": "markdown",
   "metadata": {},
   "source": [
    "## Label Encode the Target Variable"
   ]
  },
  {
   "cell_type": "code",
   "execution_count": null,
   "metadata": {},
   "outputs": [],
   "source": [
    "# le = LabelEncoder()\n",
    "# le.fit_transform()"
   ]
  },
  {
   "cell_type": "code",
   "execution_count": null,
   "metadata": {},
   "outputs": [],
   "source": []
  },
  {
   "cell_type": "code",
   "execution_count": null,
   "metadata": {},
   "outputs": [],
   "source": []
  },
  {
   "cell_type": "code",
   "execution_count": null,
   "metadata": {},
   "outputs": [],
   "source": []
  },
  {
   "cell_type": "markdown",
   "metadata": {},
   "source": [
    "## Train - Test Split "
   ]
  },
  {
   "cell_type": "markdown",
   "metadata": {},
   "source": [
    "First, split the data to **X as a features and y as a target variable.**"
   ]
  },
  {
   "cell_type": "code",
   "execution_count": 6,
   "metadata": {},
   "outputs": [],
   "source": [
    "df.drop(columns = ['CRASH_RECORD_ID', 'PERSON_TYPE', 'DRIVERS_LICENSE_STATE', \n",
    "                   'SAFETY_EQUIPMENT'], inplace = True)"
   ]
  },
  {
   "cell_type": "code",
   "execution_count": 7,
   "metadata": {},
   "outputs": [],
   "source": [
    "X = df.drop(\"PRIM_CONTRIBUTORY_CAUSE\", axis=1)\n",
    "y = df['PRIM_CONTRIBUTORY_CAUSE']"
   ]
  },
  {
   "cell_type": "markdown",
   "metadata": {},
   "source": [
    "Now, split the data to **test - train sets**"
   ]
  },
  {
   "cell_type": "code",
   "execution_count": 8,
   "metadata": {},
   "outputs": [],
   "source": [
    "X_train, X_test, y_train, y_test = train_test_split(X, y, random_state=2021)"
   ]
  },
  {
   "cell_type": "markdown",
   "metadata": {},
   "source": [
    "Let's check **how balanced is** my **target classes:**"
   ]
  },
  {
   "cell_type": "code",
   "execution_count": 9,
   "metadata": {
    "scrolled": true
   },
   "outputs": [
    {
     "data": {
      "text/plain": [
       "AGRESSIVE/IMPROPER DRIVING    0.548798\n",
       "IRRESPONSIBLE BEHAVIOR        0.333013\n",
       "EXTERNAL/OTHER FACTORS        0.118189\n",
       "Name: PRIM_CONTRIBUTORY_CAUSE, dtype: float64"
      ]
     },
     "execution_count": 9,
     "metadata": {},
     "output_type": "execute_result"
    }
   ],
   "source": [
    "pd.Series(y_train).value_counts(normalize=True)"
   ]
  },
  {
   "cell_type": "markdown",
   "metadata": {},
   "source": [
    "Looking at the ratios, I can say that the **data is mostly imbalanced.** Thus, I will use **SMOTE to resample training sets.**"
   ]
  },
  {
   "cell_type": "markdown",
   "metadata": {},
   "source": [
    "## Resample Train Sets"
   ]
  },
  {
   "cell_type": "code",
   "execution_count": 10,
   "metadata": {},
   "outputs": [],
   "source": [
    "cols = X_train.select_dtypes(include='object').columns"
   ]
  },
  {
   "cell_type": "code",
   "execution_count": 11,
   "metadata": {},
   "outputs": [
    {
     "data": {
      "text/plain": [
       "[5, 6, 7, 8, 9, 10, 15, 16, 17, 29, 30, 31, 32]"
      ]
     },
     "execution_count": 11,
     "metadata": {},
     "output_type": "execute_result"
    }
   ],
   "source": [
    "cols = X_train.select_dtypes(include='object').columns\n",
    "indices = []\n",
    "for col in cols:\n",
    "    indices.append(X_train.columns.get_loc(col))\n",
    "indices"
   ]
  },
  {
   "cell_type": "code",
   "execution_count": null,
   "metadata": {},
   "outputs": [],
   "source": [
    "#resample = SMOTENC(random_state=2021, categorical_features=indices)\n",
    "#X_train_resampled, y_train_resampled = resample.fit_resample(X_train, y_train)"
   ]
  },
  {
   "cell_type": "code",
   "execution_count": null,
   "metadata": {},
   "outputs": [],
   "source": [
    "pd.Series(y_train_resampled).value_counts(normalize=True)"
   ]
  },
  {
   "cell_type": "markdown",
   "metadata": {},
   "source": [
    "# Baseline Model with Numeric Features Only"
   ]
  },
  {
   "cell_type": "markdown",
   "metadata": {},
   "source": [
    "For the **Baseline Model** I will build **Logistic Regression Model** with only **numerical features**. Before building, I will **scale data.**"
   ]
  },
  {
   "cell_type": "code",
   "execution_count": 12,
   "metadata": {},
   "outputs": [],
   "source": [
    "X_train_num = X_train.select_dtypes(exclude='object').copy()\n",
    "X_test_num = X_test.select_dtypes(exclude='object').copy()"
   ]
  },
  {
   "cell_type": "markdown",
   "metadata": {},
   "source": [
    "### Create a Pipeline to Scale the Train Set"
   ]
  },
  {
   "cell_type": "markdown",
   "metadata": {},
   "source": [
    "To make sure that the **testing data will not leak into training data** while doing cross_validation, I will create a **pipeline** to pass the **StandardScaler and LogisticRegression**."
   ]
  },
  {
   "cell_type": "code",
   "execution_count": 13,
   "metadata": {},
   "outputs": [],
   "source": [
    "scaler_pipeline = make_pipeline(SMOTE(random_state = 2021), StandardScaler(), LogisticRegression(multi_class='multinomial',\n",
    "                             C=0.01, random_state=2021))"
   ]
  },
  {
   "cell_type": "markdown",
   "metadata": {},
   "source": [
    "I will **pass the pipeline into ModelHistory function** to perform **cross-validation and store the model results.**"
   ]
  },
  {
   "cell_type": "code",
   "execution_count": 14,
   "metadata": {
    "scrolled": true
   },
   "outputs": [
    {
     "name": "stdout",
     "output_type": "stream",
     "text": [
      "Average Score: 0.44863939908544126\n"
     ]
    },
    {
     "data": {
      "text/plain": [
       "array([0.44982653, 0.45869478, 0.44775123, 0.44054451, 0.44388096,\n",
       "       0.45002002, 0.45268918, 0.44788469, 0.45255572, 0.44254638])"
      ]
     },
     "execution_count": 14,
     "metadata": {},
     "output_type": "execute_result"
    }
   ],
   "source": [
    "history = ModelHistory()\n",
    "history.report(scaler_pipeline,X_train_num, y_train, 'Logistic Regression - Defaults', \n",
    "               'Regression with Only Numeric Features')"
   ]
  },
  {
   "cell_type": "markdown",
   "metadata": {},
   "source": [
    "**Model Results:** Since the score that cross validation is based on is **accuracy score, the average accuracy score for the trainig set of Model 1 is 0.5206.**"
   ]
  },
  {
   "cell_type": "code",
   "execution_count": 15,
   "metadata": {
    "scrolled": false
   },
   "outputs": [
    {
     "data": {
      "text/plain": [
       "0.4489951157018176"
      ]
     },
     "execution_count": 15,
     "metadata": {},
     "output_type": "execute_result"
    }
   ],
   "source": [
    "scaler_pipeline.fit(X_train_num, y_train)\n",
    "scaler_pipeline.score(X_test_num, y_test)"
   ]
  },
  {
   "cell_type": "markdown",
   "metadata": {},
   "source": [
    "**Result:** The **Recall Score for Test Set is 0.4493.**"
   ]
  },
  {
   "cell_type": "markdown",
   "metadata": {},
   "source": [
    "**Predict on trainig and test sets**."
   ]
  },
  {
   "cell_type": "code",
   "execution_count": 16,
   "metadata": {},
   "outputs": [],
   "source": [
    "train_preds = scaler_pipeline.predict(X_train_num)\n",
    "test_preds = scaler_pipeline.predict(X_test_num)"
   ]
  },
  {
   "cell_type": "markdown",
   "metadata": {},
   "source": [
    "**Check the Metrics of the Model 1:**"
   ]
  },
  {
   "cell_type": "code",
   "execution_count": 17,
   "metadata": {},
   "outputs": [
    {
     "name": "stdout",
     "output_type": "stream",
     "text": [
      "Precision Score: 0.47121707009912905\n",
      "Recall Score: 0.44854599564933073\n",
      "Accuracy Score: 0.44854599564933073\n",
      "F1 Score: 0.4546394084275923\n",
      "\n",
      "\n",
      "Precision Score: 0.47316892540889627\n",
      "Recall Score: 0.4489951157018176\n",
      "Accuracy Score: 0.4489951157018176\n",
      "F1 Score: 0.45625368150351264\n",
      "\n",
      "\n"
     ]
    }
   ],
   "source": [
    "mf.print_metrics(y_train,train_preds)\n",
    "mf.print_metrics(y_test,test_preds)"
   ]
  },
  {
   "cell_type": "markdown",
   "metadata": {},
   "source": [
    "**Confusion Matrix for Model 1:**"
   ]
  },
  {
   "cell_type": "code",
   "execution_count": 18,
   "metadata": {},
   "outputs": [
    {
     "data": {
      "text/plain": [
       "<Figure size 720x720 with 0 Axes>"
      ]
     },
     "metadata": {},
     "output_type": "display_data"
    },
    {
     "data": {
      "image/png": "[encoded data removed]",
      "text/plain": [
       "<Figure size 432x288 with 2 Axes>"
      ]
     },
     "metadata": {
      "needs_background": "light"
     },
     "output_type": "display_data"
    }
   ],
   "source": [
    "plt.figure(figsize =(10,10))\n",
    "plot_confusion_matrix(scaler_pipeline, X_test_num, y_test,\n",
    "                     cmap=plt.cm.Blues,normalize='true')\n",
    "\n",
    "plt.xticks(rotation=45, horizontalalignment='right', fontsize='small')\n",
    "plt.show()"
   ]
  },
  {
   "cell_type": "markdown",
   "metadata": {},
   "source": [
    "### Model 1 Results:\n",
    "Based on the **Scores of the Training and Test Sets**, it is clear that I have **slightly overfitting the Trainig Model** - The Accuracy Score for **Training Model is 0.5210,** while the same score for **Testing Model is 0.4494.**"
   ]
  },
  {
   "cell_type": "code",
   "execution_count": null,
   "metadata": {
    "scrolled": false
   },
   "outputs": [],
   "source": [
    "# n_components = list(range(1,X_train_num.shape[1]+1,1))\n",
    "# C = [0.1, 0.2, 0.3, 0.4, 0.5, 0.6, 0.7, 0.8, 0.9, 1.0]\n",
    "\n",
    "# parameters = dict(logisticregression__C=C)\n",
    "\n",
    "# clf_GS = GridSearchCV(scaler_pipeline, parameters)\n",
    "\n",
    "# clf_GS.fit(X_train_num, y_train_resampled)\n",
    "\n",
    "\n",
    "# print('Best C:', clf_GS.best_estimator_.get_params()['logisticregression__C'])\n",
    "# #print('Best Number Of Components:', clf_GS.best_estimator_.get_params()['pca__n_components'])\n",
    "# #print(); print(clf_GS.best_estimator_.get_params()['logistic_Reg'])"
   ]
  },
  {
   "cell_type": "code",
   "execution_count": null,
   "metadata": {},
   "outputs": [],
   "source": [
    "# scaler_pipeline = make_pipeline(StandardScaler(), LogisticRegression(multi_class='multinomial',\n",
    "#                              C=0.4, random_state=2021))"
   ]
  },
  {
   "cell_type": "code",
   "execution_count": null,
   "metadata": {},
   "outputs": [],
   "source": [
    "# history.report(scaler_pipeline,X_train_num, y_train_resampled, 'Logistic Regression - Defaults', \n",
    "#                'Regression with C = 0.4(Only Numeric Features)')"
   ]
  },
  {
   "cell_type": "code",
   "execution_count": null,
   "metadata": {},
   "outputs": [],
   "source": [
    "# scaler_pipeline.fit(X_train_num, y_train_resampled)\n",
    "\n",
    "# scaler_pipeline.score(X_test_num, y_test)"
   ]
  },
  {
   "cell_type": "code",
   "execution_count": null,
   "metadata": {},
   "outputs": [],
   "source": []
  },
  {
   "cell_type": "code",
   "execution_count": null,
   "metadata": {},
   "outputs": [],
   "source": []
  },
  {
   "cell_type": "markdown",
   "metadata": {},
   "source": [
    "## Baseline Model with All Features"
   ]
  },
  {
   "cell_type": "markdown",
   "metadata": {},
   "source": [
    "Since the first model did not do so well, I will try to **use all features on the second model** and perform **Logistic Regression** also."
   ]
  },
  {
   "cell_type": "markdown",
   "metadata": {},
   "source": [
    "## One Hot Encode Categorical Features"
   ]
  },
  {
   "cell_type": "markdown",
   "metadata": {},
   "source": [
    "Before I start any modeling, I will **OneHotEncode all categorical features of the dataframe:** "
   ]
  },
  {
   "cell_type": "code",
   "execution_count": 29,
   "metadata": {},
   "outputs": [],
   "source": [
    "transformer = ColumnTransformer(transformers=[('categorical', OneHotEncoder(), indices)])"
   ]
  },
  {
   "cell_type": "code",
   "execution_count": null,
   "metadata": {},
   "outputs": [],
   "source": [
    "X_train_cat = X_train.copy()\n",
    "\n",
    "traffic_cont_dev_ohe, X_train_cat = mf.encode_and_concat_feature_train(X_train_cat, \"TRAFFIC_CONTROL_DEVICE\")\n",
    "device_cond_ohe, X_train_cat = mf.encode_and_concat_feature_train(X_train_cat, \"DEVICE_CONDITION\")\n",
    "weather_cond_ohe, X_train_cat = mf.encode_and_concat_feature_train(X_train_cat, \"WEATHER_CONDITION\")\n",
    "lightening_cond_ohe, X_train_cat = mf.encode_and_concat_feature_train(X_train_cat, \"LIGHTING_CONDITION\")\n",
    "first_crash_type_ohe, X_train_cat = mf.encode_and_concat_feature_train(X_train_cat, \"FIRST_CRASH_TYPE\")\n",
    "trafficway_type_ohe, X_train_cat = mf.encode_and_concat_feature_train(X_train_cat, \"TRAFFICWAY_TYPE\")\n",
    "crash_type_ohe, X_train_cat = mf.encode_and_concat_feature_train(X_train_cat, \"CRASH_TYPE\")\n",
    "damage_ohe, X_train_cat = mf.encode_and_concat_feature_train(X_train_cat, \"DAMAGE\")\n",
    "injury_ohe, X_train_cat = mf.encode_and_concat_feature_train(X_train_cat, \"MOST_SEVERE_INJURY\")\n",
    "dr_action_ohe, X_train_cat = mf.encode_and_concat_feature_train(X_train_cat, \"DRIVER_ACTION\")\n",
    "dr_vision_ohe, X_train_cat = mf.encode_and_concat_feature_train(X_train_cat, \"DRIVER_VISION\")\n",
    "phys_cond_ohe, X_train_cat = mf.encode_and_concat_feature_train(X_train_cat, \"PHYSICAL_CONDITION\")\n",
    "bac_result_ohe, X_train_cat = mf.encode_and_concat_feature_train(X_train_cat, \"BAC_RESULT\")"
   ]
  },
  {
   "cell_type": "code",
   "execution_count": null,
   "metadata": {},
   "outputs": [],
   "source": [
    "ed.show_info(X_train_cat)"
   ]
  },
  {
   "cell_type": "code",
   "execution_count": null,
   "metadata": {},
   "outputs": [],
   "source": [
    "X_test_enc = X_test.copy()\n",
    "\n",
    "X_test_enc = mf.encode_and_concat_feature(X_test_enc, \"TRAFFIC_CONTROL_DEVICE\", traffic_cont_dev_ohe)\n",
    "X_test_enc = mf.encode_and_concat_feature(X_test_enc, \"DEVICE_CONDITION\", device_cond_ohe)\n",
    "X_test_enc = mf.encode_and_concat_feature(X_test_enc, \"WEATHER_CONDITION\", weather_cond_ohe)\n",
    "X_test_enc = mf.encode_and_concat_feature(X_test_enc, \"LIGHTING_CONDITION\", lightening_cond_ohe)\n",
    "X_test_enc = mf.encode_and_concat_feature(X_test_enc, \"FIRST_CRASH_TYPE\", first_crash_type_ohe)\n",
    "X_test_enc = mf.encode_and_concat_feature(X_test_enc, \"TRAFFICWAY_TYPE\", trafficway_type_ohe)\n",
    "X_test_enc = mf.encode_and_concat_feature(X_test_enc, \"CRASH_TYPE\", crash_type_ohe)\n",
    "X_test_enc = mf.encode_and_concat_feature(X_test_enc, \"DAMAGE\", damage_ohe)\n",
    "X_test_enc = mf.encode_and_concat_feature(X_test_enc, \"MOST_SEVERE_INJURY\", injury_ohe)\n",
    "X_test_enc = mf.encode_and_concat_feature(X_test_enc, \"DRIVER_ACTION\", dr_action_ohe)\n",
    "X_test_enc = mf.encode_and_concat_feature(X_test_enc, \"DRIVER_VISION\", dr_vision_ohe)\n",
    "X_test_enc = mf.encode_and_concat_feature(X_test_enc, \"PHYSICAL_CONDITION\", phys_cond_ohe)\n",
    "X_test_enc = mf.encode_and_concat_feature(X_test_enc, \"BAC_RESULT\", bac_result_ohe)\n"
   ]
  },
  {
   "cell_type": "markdown",
   "metadata": {},
   "source": [
    "Use the same **pipeline** and perform the **cross-validation:**"
   ]
  },
  {
   "cell_type": "code",
   "execution_count": null,
   "metadata": {},
   "outputs": [],
   "source": [
    "cols = X_train.select_dtypes(include='object').columns\n",
    "indices = []\n",
    "for col in cols:\n",
    "    indices.append(X_train.columns.get_loc(col))\n",
    "indices\n",
    "\n"
   ]
  },
  {
   "cell_type": "code",
   "execution_count": 33,
   "metadata": {},
   "outputs": [
    {
     "name": "stderr",
     "output_type": "stream",
     "text": [
      "/opt/anaconda3/lib/python3.8/site-packages/sklearn/linear_model/_logistic.py:763: ConvergenceWarning: lbfgs failed to converge (status=1):\n",
      "STOP: TOTAL NO. of ITERATIONS REACHED LIMIT.\n",
      "\n",
      "Increase the number of iterations (max_iter) or scale the data as shown in:\n",
      "    https://scikit-learn.org/stable/modules/preprocessing.html\n",
      "Please also refer to the documentation for alternative solver options:\n",
      "    https://scikit-learn.org/stable/modules/linear_model.html#logistic-regression\n",
      "  n_iter_i = _check_optimize_result(\n"
     ]
    },
    {
     "data": {
      "text/plain": [
       "0.726719513171591"
      ]
     },
     "execution_count": 33,
     "metadata": {},
     "output_type": "execute_result"
    }
   ],
   "source": [
    "categ_pipeline = make_pipeline(transformer, SMOTE(), StandardScaler(with_mean = False), LogisticRegression(multi_class='multinomial',\n",
    "                             C=0.01, random_state=2021))\n",
    "\n",
    "categ_pipeline.fit(X_train, y_train)\n",
    "categ_pipeline.score(X_test, y_test)"
   ]
  },
  {
   "cell_type": "code",
   "execution_count": null,
   "metadata": {},
   "outputs": [],
   "source": [
    "X_train_cat.columns.value_counts()\n"
   ]
  },
  {
   "cell_type": "code",
   "execution_count": null,
   "metadata": {
    "scrolled": true
   },
   "outputs": [],
   "source": [
    "history.report(scaler_pipeline,X_train_cat, y_train_resampled, 'Logistic Regression - Defaults', \n",
    "               'Regression with Numeric and Categorical Features')"
   ]
  },
  {
   "cell_type": "markdown",
   "metadata": {},
   "source": [
    "**Model Results:** The average **accuracy score for the Model 2 is 0.7802.**"
   ]
  },
  {
   "cell_type": "code",
   "execution_count": null,
   "metadata": {},
   "outputs": [],
   "source": [
    "scaler_pipeline.fit(X_train_cat, y_train_resampled)\n",
    "scaler_pipeline.score(X_test_enc, y_test)"
   ]
  },
  {
   "cell_type": "markdown",
   "metadata": {},
   "source": [
    "**Predict on test set**."
   ]
  },
  {
   "cell_type": "code",
   "execution_count": null,
   "metadata": {},
   "outputs": [],
   "source": [
    "train_preds = scaler_pipeline.predict(X_train_cat)\n",
    "test_preds = scaler_pipeline.predict(X_test_enc)"
   ]
  },
  {
   "cell_type": "markdown",
   "metadata": {},
   "source": [
    "**Check the Metrics of the Model 1:**"
   ]
  },
  {
   "cell_type": "code",
   "execution_count": null,
   "metadata": {},
   "outputs": [],
   "source": [
    "mf.print_metrics(y_train_resampled,train_preds)\n",
    "mf.print_metrics(y_test,test_preds)"
   ]
  },
  {
   "cell_type": "code",
   "execution_count": null,
   "metadata": {},
   "outputs": [],
   "source": [
    "plt.figure(figsize =(10,10))\n",
    "plot_confusion_matrix(scaler_pipeline, X_test_enc, y_test,\n",
    "                     cmap=plt.cm.Blues,normalize='true')\n",
    "\n",
    "plt.xticks(rotation=45, horizontalalignment='right', fontsize='small')\n",
    "plt.show()"
   ]
  },
  {
   "cell_type": "code",
   "execution_count": null,
   "metadata": {},
   "outputs": [],
   "source": [
    "history.history"
   ]
  },
  {
   "cell_type": "markdown",
   "metadata": {},
   "source": [
    "### Model 2 Results:\n",
    "It is clear that Model 2 **Logistic Regression with all Features did much better:**\n",
    "* The is **no overfitting.**\n",
    "* The confusion matrix shows **good coefficients.**"
   ]
  },
  {
   "cell_type": "markdown",
   "metadata": {},
   "source": [
    "## Feature Coefficients"
   ]
  },
  {
   "cell_type": "markdown",
   "metadata": {},
   "source": [
    "I will build a **plot** to see which **features have high coefficients.**"
   ]
  },
  {
   "cell_type": "code",
   "execution_count": null,
   "metadata": {},
   "outputs": [],
   "source": [
    "beta_values = {name:coef for name, coef in zip(list(X_train_cat.columns), \n",
    "                                               list(scaler_pipeline['logisticregression'].coef_[0]))}\n",
    "beta_vals = dict(filter(lambda elem: (elem[1] > 0.1 or elem[1] < -0.2), beta_values.items()))\n",
    "col = [item[0] for item in sorted(beta_vals.items(), key= lambda kv: kv[1], reverse=True)]\n",
    "beta = [item[1] for item in sorted(beta_vals.items(), key= lambda kv: kv[1], reverse=True)]"
   ]
  },
  {
   "cell_type": "code",
   "execution_count": null,
   "metadata": {},
   "outputs": [],
   "source": [
    "with plt.style.context('seaborn-dark'):\n",
    "    fig, ax = plt.subplots(figsize=(15,10))\n",
    "    \n",
    "    plt.rcParams.update({'font.size': 7})\n",
    "    bars = ax.barh(col,beta, color='g')\n",
    "    for bar in range(1,4):\n",
    "        bars[-bar].set_color('red')\n",
    "        ax.set_title('Relative Importance of Features');"
   ]
  },
  {
   "cell_type": "markdown",
   "metadata": {},
   "source": [
    "According to the graph, these are the **features that have the highest coefficients** (less than -0.2 and greater than 0.1)"
   ]
  },
  {
   "cell_type": "markdown",
   "metadata": {},
   "source": [
    "## Model 3: Logistic Regression with Selected Features"
   ]
  },
  {
   "cell_type": "markdown",
   "metadata": {},
   "source": [
    "First, let's dseparate those columns into new dataset:"
   ]
  },
  {
   "cell_type": "code",
   "execution_count": null,
   "metadata": {},
   "outputs": [],
   "source": [
    "keys_list = list(beta_vals.keys())\n",
    "X_train_selected_f = X_train_cat[keys_list]\n",
    "X_test_selected_f = X_test_enc[keys_list]"
   ]
  },
  {
   "cell_type": "markdown",
   "metadata": {},
   "source": [
    "### Build a Model"
   ]
  },
  {
   "cell_type": "code",
   "execution_count": null,
   "metadata": {
    "scrolled": true
   },
   "outputs": [],
   "source": [
    "history.report(scaler_pipeline,X_train_selected_f, y_train_resampled, 'Logistic Regression', \n",
    "               'Regression with Selected Features')"
   ]
  },
  {
   "cell_type": "markdown",
   "metadata": {},
   "source": [
    "**Model Results:** The average **accuracy score for the Model 2 is 0.7802.**"
   ]
  },
  {
   "cell_type": "code",
   "execution_count": null,
   "metadata": {},
   "outputs": [],
   "source": [
    "scaler_pipeline.fit(X_train_selected_f, y_train_resampled)\n",
    "scaler_pipeline.score(X_test_selected_f, y_test)"
   ]
  },
  {
   "cell_type": "markdown",
   "metadata": {},
   "source": [
    "**Predict on test set**."
   ]
  },
  {
   "cell_type": "code",
   "execution_count": null,
   "metadata": {},
   "outputs": [],
   "source": [
    "train_preds = scaler_pipeline.predict(X_train_selected_f)\n",
    "test_preds = scaler_pipeline.predict(X_test_selected_f)"
   ]
  },
  {
   "cell_type": "markdown",
   "metadata": {},
   "source": [
    "**Check the Metrics of the Model 1:**"
   ]
  },
  {
   "cell_type": "code",
   "execution_count": null,
   "metadata": {},
   "outputs": [],
   "source": [
    "mf.print_metrics(y_train_resampled,train_preds)\n",
    "mf.print_metrics(y_test,test_preds)"
   ]
  },
  {
   "cell_type": "code",
   "execution_count": null,
   "metadata": {},
   "outputs": [],
   "source": [
    "plt.figure(figsize =(10,10))\n",
    "plot_confusion_matrix(scaler_pipeline, X_test_selected_f, y_test,\n",
    "                     cmap=plt.cm.Blues,normalize='true')\n",
    "\n",
    "plt.xticks(rotation=45, horizontalalignment='right', fontsize='small')\n",
    "plt.show()"
   ]
  },
  {
   "cell_type": "markdown",
   "metadata": {},
   "source": [
    "### Model 3 Results:\n",
    "* Model is **slightly overfitting.**\n",
    "* The coefficients of the Confusion Matrix are **slightly worse** than with all feature."
   ]
  },
  {
   "cell_type": "markdown",
   "metadata": {},
   "source": [
    "## Model 4: K-Nearest Neighbors with Only Numerical Features"
   ]
  },
  {
   "cell_type": "markdown",
   "metadata": {},
   "source": [
    "Now I will try to build **KNN Modelwith onlt numerical features** to compare it's performance with Logistic Regression."
   ]
  },
  {
   "cell_type": "code",
   "execution_count": null,
   "metadata": {
    "scrolled": true
   },
   "outputs": [],
   "source": [
    "knn_pipeline = make_pipeline(StandardScaler(), KNeighborsClassifier())\n",
    "history.report(knn_pipeline,X_train_num, y_train_resampled, 'KNN - Defaults', \n",
    "               'KNN with Only Numeric Features')"
   ]
  },
  {
   "cell_type": "markdown",
   "metadata": {},
   "source": [
    "**Fit and Score the Training and Testing Sets.**"
   ]
  },
  {
   "cell_type": "code",
   "execution_count": null,
   "metadata": {},
   "outputs": [],
   "source": [
    "knn_pipeline.fit(X_train_num, y_train_resampled)\n",
    "knn_pipeline.score(X_train_num, y_train_resampled)"
   ]
  },
  {
   "cell_type": "code",
   "execution_count": null,
   "metadata": {
    "scrolled": false
   },
   "outputs": [],
   "source": [
    "knn_pipeline.score(X_test_num, y_test)"
   ]
  },
  {
   "cell_type": "markdown",
   "metadata": {},
   "source": [
    "**Result:** The **Recall Score for Test Set is 0.4493.**"
   ]
  },
  {
   "cell_type": "markdown",
   "metadata": {},
   "source": [
    "**Predict on trainig and test sets**."
   ]
  },
  {
   "cell_type": "code",
   "execution_count": null,
   "metadata": {},
   "outputs": [],
   "source": [
    "train_preds = knn_pipeline.predict(X_train_num)\n",
    "test_preds = knn_pipeline.predict(X_test_num)"
   ]
  },
  {
   "cell_type": "markdown",
   "metadata": {},
   "source": [
    "**Check the Metrics of the Model 1:**"
   ]
  },
  {
   "cell_type": "code",
   "execution_count": null,
   "metadata": {},
   "outputs": [],
   "source": [
    "mf.print_metrics(y_train_resampled,train_preds)\n",
    "mf.print_metrics(y_test,test_preds)"
   ]
  },
  {
   "cell_type": "markdown",
   "metadata": {},
   "source": [
    "**Confusion Matrix for Model 1:**"
   ]
  },
  {
   "cell_type": "code",
   "execution_count": null,
   "metadata": {
    "scrolled": false
   },
   "outputs": [],
   "source": [
    "plt.figure(figsize =(10,10))\n",
    "plot_confusion_matrix(knn_pipeline, X_test_num, y_test,\n",
    "                     cmap=plt.cm.Blues,normalize='true')\n",
    "\n",
    "plt.xticks(rotation=45, horizontalalignment='right', fontsize='small')\n",
    "plt.show()"
   ]
  },
  {
   "cell_type": "markdown",
   "metadata": {},
   "source": [
    "### Model 4 Results:\n",
    "* The model is **overfitting trainig data.**\n",
    "* Confusion Matrix shows **worse results than for Logistic Regression.**"
   ]
  },
  {
   "cell_type": "markdown",
   "metadata": {},
   "source": [
    "## Model 4: K-Nearest Neighbors with Categorical Features"
   ]
  },
  {
   "cell_type": "markdown",
   "metadata": {},
   "source": [
    "Let's check how the KNN will work for **all features.**"
   ]
  },
  {
   "cell_type": "code",
   "execution_count": null,
   "metadata": {},
   "outputs": [],
   "source": [
    "history.report(knn_pipeline,X_train_cat, y_train_resampled, 'KNN - Defaults', \n",
    "               'KNN with All Features')"
   ]
  },
  {
   "cell_type": "code",
   "execution_count": null,
   "metadata": {},
   "outputs": [],
   "source": [
    "knn_pipeline.fit(X_train_cat, y_train_resampled)\n",
    "knn_pipeline.score(X_train_cat, y_train_resampled)"
   ]
  },
  {
   "cell_type": "code",
   "execution_count": null,
   "metadata": {},
   "outputs": [],
   "source": [
    "knn_pipeline.score(X_test_enc, y_test)"
   ]
  },
  {
   "cell_type": "markdown",
   "metadata": {},
   "source": [
    "**Result:** The **Recall Score for Test Set is 0.4493.**"
   ]
  },
  {
   "cell_type": "markdown",
   "metadata": {},
   "source": [
    "**Predict on trainig and test sets**."
   ]
  },
  {
   "cell_type": "code",
   "execution_count": null,
   "metadata": {},
   "outputs": [],
   "source": [
    "train_preds = knn_pipeline.predict(X_train_cat)\n",
    "test_preds = knn_pipeline.predict(X_test_enc)"
   ]
  },
  {
   "cell_type": "markdown",
   "metadata": {},
   "source": [
    "**Check the Metrics of the Model 1:**"
   ]
  },
  {
   "cell_type": "code",
   "execution_count": null,
   "metadata": {},
   "outputs": [],
   "source": [
    "mf.print_metrics(y_train_resampled,train_preds)\n",
    "mf.print_metrics(y_test,test_preds)"
   ]
  },
  {
   "cell_type": "markdown",
   "metadata": {},
   "source": [
    "**Confusion Matrix for Model 1:**"
   ]
  },
  {
   "cell_type": "code",
   "execution_count": null,
   "metadata": {},
   "outputs": [],
   "source": [
    "plt.figure(figsize =(10,10))\n",
    "plot_confusion_matrix(knn_pipeline, X_test_enc, y_test,\n",
    "                     cmap=plt.cm.Blues,normalize='true')\n",
    "\n",
    "plt.xticks(rotation=45, horizontalalignment='right', fontsize='small')\n",
    "plt.show()"
   ]
  },
  {
   "cell_type": "code",
   "execution_count": null,
   "metadata": {},
   "outputs": [],
   "source": []
  },
  {
   "cell_type": "code",
   "execution_count": null,
   "metadata": {},
   "outputs": [],
   "source": []
  },
  {
   "cell_type": "code",
   "execution_count": null,
   "metadata": {},
   "outputs": [],
   "source": []
  },
  {
   "cell_type": "code",
   "execution_count": null,
   "metadata": {},
   "outputs": [],
   "source": []
  },
  {
   "cell_type": "code",
   "execution_count": null,
   "metadata": {},
   "outputs": [],
   "source": []
  },
  {
   "cell_type": "code",
   "execution_count": null,
   "metadata": {},
   "outputs": [],
   "source": []
  }
 ],
 "metadata": {
  "kernelspec": {
   "display_name": "Python 3",
   "language": "python",
   "name": "python3"
  },
  "language_info": {
   "codemirror_mode": {
    "name": "ipython",
    "version": 3
   },
   "file_extension": ".py",
   "mimetype": "text/x-python",
   "name": "python",
   "nbconvert_exporter": "python",
   "pygments_lexer": "ipython3",
   "version": "3.8.3"
  }
 },
 "nbformat": 4,
 "nbformat_minor": 4
}
